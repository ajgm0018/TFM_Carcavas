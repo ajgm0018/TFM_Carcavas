{
 "cells": [
  {
   "cell_type": "markdown",
   "id": "623d7cc7",
   "metadata": {},
   "source": [
    "<h1>Importación de librerias</h1>"
   ]
  },
  {
   "cell_type": "code",
   "execution_count": 1,
   "id": "acb51609",
   "metadata": {},
   "outputs": [],
   "source": [
    "import os\n",
    "import pandas as pd\n",
    "from osgeo import gdal\n",
    "import numpy as np\n",
    "import seaborn as sns\n",
    "import matplotlib.pyplot as plt"
   ]
  },
  {
   "cell_type": "markdown",
   "id": "f179e8b3",
   "metadata": {},
   "source": [
    "<h3>Proceso de carga de datos en formato .TIF para poder ser manipulados y visualizados</h3>\n",
    "<p>Creamos vectores donde almacenar los nombres de archivos</p>"
   ]
  },
  {
   "cell_type": "code",
   "execution_count": 2,
   "id": "0dea8c86",
   "metadata": {},
   "outputs": [],
   "source": [
    "dir = \"Raster/Berrueco II\"\n",
    "ficheros=[]\n",
    "nombre=[]"
   ]
  },
  {
   "cell_type": "markdown",
   "id": "cefb8d26",
   "metadata": {},
   "source": [
    "<p>Path de ficheros TIF para ordenarlos</p>"
   ]
  },
  {
   "cell_type": "code",
   "execution_count": 3,
   "id": "069c0698",
   "metadata": {},
   "outputs": [],
   "source": [
    "for file in os.listdir(dir):\n",
    "        if file.endswith(\".tif\"):\n",
    "            ficheros.append(os.path.join(dir, file))\n",
    "            nombre.append(file.split('.')[0])"
   ]
  },
  {
   "cell_type": "markdown",
   "id": "d727a42d",
   "metadata": {},
   "source": [
    "<p>Ordenamos por nombre la lista de ficheros y de nombres de ficheros<p>"
   ]
  },
  {
   "cell_type": "code",
   "execution_count": 4,
   "id": "61127b5d",
   "metadata": {},
   "outputs": [
    {
     "data": {
      "text/plain": [
       "['Altitud',\n",
       " 'Arcillas',\n",
       " 'Arenas',\n",
       " 'Carbonatos',\n",
       " 'Carbono_Organico',\n",
       " 'Carcavas',\n",
       " 'Curvatura_Perfil',\n",
       " 'Curvatura_Plana',\n",
       " 'Distancia_Carreteras',\n",
       " 'Factor_LS',\n",
       " 'Geologia',\n",
       " 'Limos',\n",
       " 'Orientaciones',\n",
       " 'Overland_Flow_Distance',\n",
       " 'Pendiente',\n",
       " 'Stream_Power_Index',\n",
       " 'Topographic_Position_Index',\n",
       " 'Topographic_Wetness_Index',\n",
       " 'Unidades_Edaficas',\n",
       " 'Usos_Del_Suelo']"
      ]
     },
     "execution_count": 4,
     "metadata": {},
     "output_type": "execute_result"
    }
   ],
   "source": [
    "sorted(ficheros)\n",
    "sorted(nombre)"
   ]
  },
  {
   "cell_type": "markdown",
   "id": "e4fcaf4d",
   "metadata": {},
   "source": [
    "<p>Creamos un Dataframe con el nombre de los TIF</p>"
   ]
  },
  {
   "cell_type": "code",
   "execution_count": 5,
   "id": "a86dfd7b",
   "metadata": {},
   "outputs": [],
   "source": [
    "datos = pd.DataFrame(columns=nombre)"
   ]
  },
  {
   "cell_type": "markdown",
   "id": "4b64f416",
   "metadata": {},
   "source": [
    "<p>Recoger tamaño de las imagenes TIF que vamos a tratar</p>"
   ]
  },
  {
   "cell_type": "code",
   "execution_count": 6,
   "id": "408fa8d8",
   "metadata": {},
   "outputs": [
    {
     "name": "stdout",
     "output_type": "stream",
     "text": [
      "Tamaño archivos cargados: 1540 x 980 \n",
      "\n"
     ]
    }
   ],
   "source": [
    "tif = gdal.Open(ficheros[1])\n",
    "tif_band = tif.GetRasterBand(1)\n",
    "x = tif_band.XSize\n",
    "y = tif_band.YSize\n",
    "print(\"Tamaño archivos cargados:\",x,\"x\",y,\"\\n\")"
   ]
  },
  {
   "cell_type": "markdown",
   "id": "f5d9f951",
   "metadata": {},
   "source": [
    "<p>Recorremos lista de ficheros. SOLO TRATAMOS LOS DATOS NO DATA -> -1</p>"
   ]
  },
  {
   "cell_type": "code",
   "execution_count": 7,
   "id": "2a3cd7b7",
   "metadata": {},
   "outputs": [],
   "source": [
    "contador = 0\n",
    "for f in ficheros:\n",
    "    n = nombre[contador]\n",
    "    MDT = gdal.Open(f)\n",
    "    \n",
    "    # Patrones sin datos se incluyen como -1\n",
    "    MDT.GetRasterBand(1).SetNoDataValue(-1)\n",
    "    \n",
    "    # Pasamos los datos a float\n",
    "    band = MDT.GetRasterBand(1).ReadAsArray().astype(float)\n",
    "    \n",
    "    # Se desechan las dos primeras filas y columnas debido a calculos de borde\n",
    "    band = band[1:y, 1:x]\n",
    "    \n",
    "    # Reconstruimos el array con el tamaño de filas x columnas\n",
    "    x_recorte = x - 1\n",
    "    y_recorte = y - 1\n",
    "    band = np.reshape(band, x_recorte*y_recorte)\n",
    "    \n",
    "    # Estos serán nuestros datos\n",
    "    datos[n] = band\n",
    "    \n",
    "    contador = contador + 1"
   ]
  },
  {
   "cell_type": "markdown",
   "id": "4c878f5d",
   "metadata": {},
   "source": [
    "<hr>\n",
    "<h3>Tratamiento de datos</h3>"
   ]
  },
  {
   "cell_type": "code",
   "execution_count": 8,
   "id": "1bf8fbc5",
   "metadata": {},
   "outputs": [
    {
     "name": "stdout",
     "output_type": "stream",
     "text": [
      "Número de datos antes del tratamiento  30133620\n",
      "Número de datos despues del tratamiento  29781260\n"
     ]
    }
   ],
   "source": [
    "print(\"Número de datos antes del tratamiento \", datos.size)\n",
    "\n",
    "datos = datos[datos['Carcavas'] != -9999]\n",
    "datos = datos[datos['Orientaciones'] != 0]\n",
    "datos = datos[datos['Distancia_Carreteras'] >= 0]\n",
    "datos = datos[datos['Factor_LS'] >= 0]\n",
    "datos = datos[datos['Pendiente'] != -9999.0]\n",
    "\n",
    "print(\"Número de datos despues del tratamiento \", datos.size)\n",
    "\n",
    "datos.Factor_LS = datos.Factor_LS.round(4) \n",
    "\n",
    "# Aqui deberían incluirse los labelenconders ONE HOT (?)"
   ]
  },
  {
   "cell_type": "markdown",
   "id": "fcf97ffe",
   "metadata": {},
   "source": [
    "<hr>\n",
    "<h3>Proceso de visualización de datos</h3>"
   ]
  },
  {
   "cell_type": "markdown",
   "id": "c675cdab",
   "metadata": {},
   "source": [
    "<h4>1. ALTITUD (Continua)</h4>\n",
    "<p>Datos únicos: </p>"
   ]
  },
  {
   "cell_type": "code",
   "execution_count": 9,
   "id": "b66c62dd",
   "metadata": {
    "scrolled": true
   },
   "outputs": [
    {
     "name": "stdout",
     "output_type": "stream",
     "text": [
      "[409.63800049 409.74700928 409.77398682 ... 363.81100464 364.89401245\n",
      " 377.34399414]\n"
     ]
    }
   ],
   "source": [
    "print(datos.Altitud.unique())"
   ]
  },
  {
   "cell_type": "code",
   "execution_count": 10,
   "id": "b0ac5d3c",
   "metadata": {},
   "outputs": [
    {
     "name": "stdout",
     "output_type": "stream",
     "text": [
      "Máximo:  597.3300170898438\n",
      "Mínimo:  319.7430114746094\n",
      "Media:  434.86834825524215\n",
      "STD:  45.97523367069486\n"
     ]
    }
   ],
   "source": [
    "print(\"Máximo: \", max(datos.Altitud))\n",
    "print(\"Mínimo: \", min(datos.Altitud))\n",
    "print(\"Media: \", datos[\"Altitud\"].mean())\n",
    "print(\"STD: \", datos[\"Altitud\"].std())\n"
   ]
  },
  {
   "cell_type": "code",
   "execution_count": 11,
   "id": "6d0969f8",
   "metadata": {},
   "outputs": [
    {
     "data": {
      "image/png": "[encoded data removed]",
      "text/plain": [
       "<Figure size 432x288 with 1 Axes>"
      ]
     },
     "metadata": {
      "needs_background": "light"
     },
     "output_type": "display_data"
    }
   ],
   "source": [
    "sns.boxplot( y=datos[\"Altitud\"] );\n",
    "plt.show()"
   ]
  },
  {
   "cell_type": "code",
   "execution_count": 12,
   "id": "f5533317",
   "metadata": {},
   "outputs": [
    {
     "data": {
      "image/png": "[encoded data removed]",
      "text/plain": [
       "<Figure size 432x288 with 1 Axes>"
      ]
     },
     "metadata": {
      "needs_background": "light"
     },
     "output_type": "display_data"
    }
   ],
   "source": [
    "sns.histplot(data=datos, x=\"Altitud\")\n",
    "plt.show()"
   ]
  },
  {
   "cell_type": "markdown",
   "id": "607f458e",
   "metadata": {},
   "source": [
    "<hr>\n",
    "<h4>2. ARCILLAS (Continua)</h4>\n",
    "<p>Datos únicos: </p>"
   ]
  },
  {
   "cell_type": "code",
   "execution_count": 13,
   "id": "9e8784ec",
   "metadata": {},
   "outputs": [
    {
     "name": "stdout",
     "output_type": "stream",
     "text": [
      "[45.01587296 40.12950516 38.15250397 38.60567856 37.92287064 39.60079575\n",
      " 38.33860779 36.43993759 41.23127365 45.54235077 43.30938721 41.42950821\n",
      " 42.95002747 38.1090889  46.4837265  34.39661026 36.03194427 43.07950974\n",
      " 41.00048828 42.1534729  45.29833603 49.05451202 40.51000214 44.95058441\n",
      " 32.93388367 32.2853775  35.22919846 35.25032425 38.38827133 37.45845032\n",
      " 35.79797745 33.41363907 41.59039307 36.55955887 42.83872604 41.54856873\n",
      " 41.71243286 43.93556595 36.59989929 42.48377228 36.24507904 36.40404892\n",
      " 34.55971909 32.17145157 35.15895844 36.06080246 34.23578262 35.97291565\n",
      " 32.85214996 37.82628632 37.16508484 42.13800812 42.07618713 42.50081635\n",
      " 42.31619263 38.44601059 37.37909317 36.22616577 34.48142242 33.24879074\n",
      " 36.2950325  28.76610756 35.64439774 33.98477173 34.78490448 36.21970367\n",
      " 37.07396317 42.02248383 43.44291687 48.92868423 46.12652588 44.29498672\n",
      " 41.62743759 41.60378647 32.9220314  33.09630585 36.603302   34.06253815\n",
      " 36.94697189 28.5356884  36.87828827 32.87236023 34.67043686 37.61746216\n",
      " 42.43352127 42.23426819 39.53022766 42.9091568  44.18687439 48.42345047\n",
      " 46.51966476 37.98414612 31.41415787 30.14651108 29.22973633 29.34907913\n",
      " 28.87103653 31.68749046 34.91723633 35.50976181 38.09664917 43.27167511\n",
      " 37.69536972 40.09197617 43.00990295 46.05471802 44.97375107 45.20851898\n",
      " 43.48701477 32.5128479  32.86885834 31.24046326 32.72781754 38.26055145\n",
      " 36.12333679 34.84794998 37.59843826 42.75032425 46.80160141 41.13412476\n",
      " 43.85544968 42.71663284 43.08718491 46.0883255  44.61500931 45.49337006\n",
      " 37.74106216 39.46406937 33.27157211 38.55203247 40.09365845 34.66766739\n",
      " 35.18901825 35.91807556 40.93187714 41.66471863 43.69618225 45.99764633\n",
      " 45.38892365 43.07633209 46.9845047  48.52046204 45.73074341 42.47494507\n",
      " 38.32126236 37.23427582 39.10317612 43.98487854 40.20069122 39.75849152\n",
      " 39.82150269 40.79766464 44.25895691 43.01858521 44.78401566 46.27604675\n",
      " 44.88697815 45.22652817 45.18389893 39.73367691 42.32082367 39.77252579\n",
      " 42.32432938 44.5681839  38.87457275 36.68866348 37.19330215]\n"
     ]
    }
   ],
   "source": [
    "print(datos.Arcillas.unique())"
   ]
  },
  {
   "cell_type": "code",
   "execution_count": 14,
   "id": "d11d91c1",
   "metadata": {},
   "outputs": [
    {
     "name": "stdout",
     "output_type": "stream",
     "text": [
      "Máximo:  49.05451202392578\n",
      "Mínimo:  28.535688400268555\n",
      "Media:  39.372091229316595\n",
      "STD:  4.909488959013231\n"
     ]
    }
   ],
   "source": [
    "print(\"Máximo: \", max(datos.Arcillas))\n",
    "print(\"Mínimo: \", min(datos.Arcillas))\n",
    "print(\"Media: \", datos[\"Arcillas\"].mean())\n",
    "print(\"STD: \", datos[\"Arcillas\"].std())"
   ]
  },
  {
   "cell_type": "code",
   "execution_count": 15,
   "id": "d105209e",
   "metadata": {},
   "outputs": [
    {
     "data": {
      "image/png": "[encoded data removed]",
      "text/plain": [
       "<Figure size 432x288 with 1 Axes>"
      ]
     },
     "metadata": {
      "needs_background": "light"
     },
     "output_type": "display_data"
    }
   ],
   "source": [
    "sns.boxplot( y=datos[\"Arcillas\"] );\n",
    "plt.show()"
   ]
  },
  {
   "cell_type": "code",
   "execution_count": 16,
   "id": "9c033a88",
   "metadata": {},
   "outputs": [
    {
     "data": {
      "image/png": "[encoded data removed]",
      "text/plain": [
       "<Figure size 432x288 with 1 Axes>"
      ]
     },
     "metadata": {
      "needs_background": "light"
     },
     "output_type": "display_data"
    }
   ],
   "source": [
    "sns.histplot(data=datos, x=\"Arcillas\")\n",
    "plt.show()"
   ]
  },
  {
   "cell_type": "markdown",
   "id": "29e9a038",
   "metadata": {},
   "source": [
    "<hr>\n",
    "<h4>3. ARENAS (Continua)</h4>\n",
    "<p>Datos únicos: </p>"
   ]
  },
  {
   "cell_type": "code",
   "execution_count": 17,
   "id": "8498fe0d",
   "metadata": {},
   "outputs": [
    {
     "name": "stdout",
     "output_type": "stream",
     "text": [
      "[13.99811554 22.07733154 13.07337952 12.59645844 13.54908752 10.74266052\n",
      " 12.21760559 15.88476562 17.8144455  14.57052612 19.12665558  9.84263611\n",
      " 18.46891022 17.741745   11.07525635 24.72838593 26.02470398 19.72982788\n",
      " 20.50369263 12.33995056  8.16096497  6.43371582 11.16149902 12.3509903\n",
      " 18.01544189 18.65498352 13.79751587 21.00295258 15.57255554 15.3273468\n",
      " 16.20929718 15.52241516  4.72036743 17.95925903 15.08171082 19.84086609\n",
      " 20.46963501 12.42578125 20.49012756  9.78955078 16.88798523 15.2195282\n",
      " 24.91706848 23.46834564 21.06692505 18.65071869 23.63609314 18.90898895\n",
      " 20.17910767 10.21166229 11.24325562 17.84838867 16.82598114 16.44953918\n",
      " 16.66381073 15.60579681 12.55833435 15.94213867 16.25494385 21.50770569\n",
      " 17.08888245 25.86146545 20.9406662  20.2625885  16.10133362 19.44001007\n",
      " 14.74842834 16.95805359 18.11676025 13.53108978 15.68371582 14.14073181\n",
      " 10.05302429 15.71717834 20.6481781  21.41018677 18.58422852 20.53269958\n",
      " 21.4602356  18.46495056 12.97302246 19.89970398 19.45801544 21.11329651\n",
      " 16.53942871 16.57557678 19.01490784 13.73553467 15.39227295  7.28606415\n",
      " 14.28334045 21.68054199 20.01980591 23.54319    25.08973694 27.71234131\n",
      " 28.29145813 26.33481598 20.47100067 18.07701111 22.01210785 19.51394653\n",
      " 21.06254578 19.42736816  9.12850189 10.93008423 18.69654846 10.27561188\n",
      " 13.39645386 20.38905334 19.97938538 24.02078247 23.95477295 15.86943054\n",
      " 17.70059204 21.50605011 17.80760193 17.21893311 14.13130188 19.54530334\n",
      " 15.58470154  9.37640381 10.81028748 14.76176453 19.6555481   9.75815582\n",
      " 17.39546204 12.7746582  22.46704102 15.51586914 14.90166473 16.21044159\n",
      " 15.95084381 21.77572632 25.17071533 13.4179306  13.24224854 15.89709473\n",
      " 11.43740082 12.38053894 14.52708435 10.89677429 11.28210449 12.59416199\n",
      " 16.38835144 17.37611389 15.73120117 17.54907227 15.81163025 16.42432404\n",
      " 14.9418335  25.95758057 13.15942383 17.33279419 12.55075073 10.54782867\n",
      " 12.2093811  10.90088654 13.1131897  15.06060791 13.95533752 18.64306641\n",
      " 12.98416138 13.96290588 18.24368286 19.86174011 19.20152283]\n"
     ]
    }
   ],
   "source": [
    "print(datos.Arenas.unique())"
   ]
  },
  {
   "cell_type": "code",
   "execution_count": 18,
   "id": "4f4fd638",
   "metadata": {},
   "outputs": [
    {
     "name": "stdout",
     "output_type": "stream",
     "text": [
      "Máximo:  28.291458129882812\n",
      "Mínimo:  4.720367431640625\n",
      "Media:  16.547101677843735\n",
      "STD:  4.480613099293741\n"
     ]
    }
   ],
   "source": [
    "print(\"Máximo: \", max(datos.Arenas))\n",
    "print(\"Mínimo: \", min(datos.Arenas))\n",
    "print(\"Media: \", datos[\"Arenas\"].mean())\n",
    "print(\"STD: \", datos[\"Arenas\"].std())"
   ]
  },
  {
   "cell_type": "code",
   "execution_count": 19,
   "id": "9cb47f71",
   "metadata": {},
   "outputs": [
    {
     "data": {
      "image/png": "[encoded data removed]",
      "text/plain": [
       "<Figure size 432x288 with 1 Axes>"
      ]
     },
     "metadata": {
      "needs_background": "light"
     },
     "output_type": "display_data"
    }
   ],
   "source": [
    "sns.boxplot( y=datos[\"Arenas\"] );\n",
    "plt.show()"
   ]
  },
  {
   "cell_type": "code",
   "execution_count": 20,
   "id": "ad1558d0",
   "metadata": {},
   "outputs": [
    {
     "data": {
      "image/png": "[encoded data removed]",
      "text/plain": [
       "<Figure size 432x288 with 1 Axes>"
      ]
     },
     "metadata": {
      "needs_background": "light"
     },
     "output_type": "display_data"
    }
   ],
   "source": [
    "sns.histplot(data=datos, x=\"Arenas\")\n",
    "plt.show()"
   ]
  },
  {
   "cell_type": "markdown",
   "id": "3dd7d13f",
   "metadata": {},
   "source": [
    "<hr>\n",
    "<h4>4. CARBONATOS (Discreta)</h4>\n",
    "<p>Datos únicos: </p>"
   ]
  },
  {
   "cell_type": "code",
   "execution_count": 21,
   "id": "6e789b50",
   "metadata": {},
   "outputs": [
    {
     "name": "stdout",
     "output_type": "stream",
     "text": [
      "[3. 4.]\n"
     ]
    }
   ],
   "source": [
    "print(datos.Carbonatos.unique())"
   ]
  },
  {
   "cell_type": "code",
   "execution_count": 22,
   "id": "8e8f7c82",
   "metadata": {},
   "outputs": [
    {
     "name": "stdout",
     "output_type": "stream",
     "text": [
      "Máximo:  4.0\n",
      "Mínimo:  3.0\n",
      "Media:  3.0381105433416855\n",
      "STD:  4.480613099293741\n"
     ]
    }
   ],
   "source": [
    "print(\"Máximo: \", max(datos.Carbonatos))\n",
    "print(\"Mínimo: \", min(datos.Carbonatos))\n",
    "print(\"Media: \", datos[\"Carbonatos\"].mean())\n",
    "print(\"STD: \", datos[\"Arenas\"].std())"
   ]
  },
  {
   "cell_type": "code",
   "execution_count": 23,
   "id": "2b09b85b",
   "metadata": {},
   "outputs": [
    {
     "data": {
      "image/png": "[encoded data removed]",
      "text/plain": [
       "<Figure size 432x288 with 1 Axes>"
      ]
     },
     "metadata": {
      "needs_background": "light"
     },
     "output_type": "display_data"
    }
   ],
   "source": [
    "sns.boxplot( y=datos[\"Carbonatos\"] );\n",
    "plt.show()"
   ]
  },
  {
   "cell_type": "code",
   "execution_count": 24,
   "id": "7e3ce39a",
   "metadata": {},
   "outputs": [
    {
     "data": {
      "image/png": "[encoded data removed]",
      "text/plain": [
       "<Figure size 432x288 with 1 Axes>"
      ]
     },
     "metadata": {
      "needs_background": "light"
     },
     "output_type": "display_data"
    }
   ],
   "source": [
    "sns.histplot(data=datos, x=\"Carbonatos\")\n",
    "plt.show()"
   ]
  },
  {
   "cell_type": "markdown",
   "id": "c8085147",
   "metadata": {},
   "source": [
    "<hr>\n",
    "<h4>4. CARBONO ORGÁNICO (Continua)</h4>\n",
    "<p>Datos únicos: </p>"
   ]
  },
  {
   "cell_type": "code",
   "execution_count": 25,
   "id": "ab9082a1",
   "metadata": {},
   "outputs": [
    {
     "name": "stdout",
     "output_type": "stream",
     "text": [
      "[338.17614746 281.14648438 414.98171997 479.61895752 461.62515259\n",
      " 506.08053589 386.2300415  387.79656982 321.80279541 340.19366455\n",
      " 292.39382935 469.76321411 198.54850769 215.76411438 270.61401367\n",
      " 240.95074463 233.58766174 285.04833984 241.57876587 228.37518311\n",
      " 359.81915283 363.31958008 408.36782837 398.2611084  540.76623535\n",
      " 530.02062988 556.40368652 444.69326782 474.59689331 595.35491943\n",
      " 596.71411133 559.94006348 557.2298584  541.90252686 277.86499023\n",
      " 305.37045288 364.15313721 427.03851318 455.52185059 432.35794067\n",
      " 547.50689697 524.77935791 500.80355835 481.64569092 550.84997559\n",
      " 559.24468994 512.67926025 567.11242676 614.18579102 461.04177856\n",
      " 477.59637451 334.16098022 304.00247192 326.35113525 363.69085693\n",
      " 465.95123291 504.86367798 521.93792725 528.77233887 511.3739624\n",
      " 567.92608643 532.96710205 476.5083313  543.8885498  563.22076416\n",
      " 578.0690918  583.39489746 329.84933472 269.07855225 304.98968506\n",
      " 303.29364014 296.01251221 424.51434326 410.33340454 498.36193848\n",
      " 525.23297119 562.29144287 539.34796143 496.84396362 593.53820801\n",
      " 589.52020264 520.39898682 551.7901001  296.31341553 313.13238525\n",
      " 230.29264832 230.36329651 311.86523438 376.0430603  356.55523682\n",
      " 319.32659912 361.50064087 534.94976807 587.96685791 607.3692627\n",
      " 620.19219971 572.28485107 582.35290527 598.94128418 550.45471191\n",
      " 335.63494873 266.24005127 267.31460571 254.1254425  303.11474609\n",
      " 332.20367432 314.88000488 301.52243042 353.32156372 563.78057861\n",
      " 558.57788086 549.10961914 553.71154785 399.46224976 555.6204834\n",
      " 545.66943359 496.05276489 295.18780518 273.39459229 339.0534668\n",
      " 307.61798096 300.20614624 320.57519531 311.76370239 325.90762329\n",
      " 391.07885742 477.10571289 465.53222656 467.89810181 463.67306519\n",
      " 412.93893433 451.81967163 442.0177002  447.14794922 272.27252197\n",
      " 424.93157959 389.83065796 370.5475769  313.59115601 318.87234497\n",
      " 306.88635254 346.43579102 412.56256104 417.44927979 414.58120728\n",
      " 410.34890747 406.62335205 294.92962646 387.08227539 384.54058838\n",
      " 437.25137329 332.83666992 359.47723389 359.0098877  350.39212036\n",
      " 361.43133545 324.01425171 346.15814209 380.28240967 443.22473145\n",
      " 366.45953369 358.67626953 350.45120239 314.19921875 410.84317017\n",
      " 406.31808472 410.3757019 ]\n"
     ]
    }
   ],
   "source": [
    "print(datos.Carbono_Organico.unique())"
   ]
  },
  {
   "cell_type": "code",
   "execution_count": 26,
   "id": "e8dbad0f",
   "metadata": {},
   "outputs": [
    {
     "name": "stdout",
     "output_type": "stream",
     "text": [
      "Máximo:  620.1921997070312\n",
      "Mínimo:  198.5485076904297\n",
      "Media:  421.0801483067421\n",
      "STD:  108.2635651428681\n"
     ]
    }
   ],
   "source": [
    "print(\"Máximo: \", max(datos.Carbono_Organico))\n",
    "print(\"Mínimo: \", min(datos.Carbono_Organico))\n",
    "print(\"Media: \", datos[\"Carbono_Organico\"].mean())\n",
    "print(\"STD: \", datos[\"Carbono_Organico\"].std())"
   ]
  },
  {
   "cell_type": "code",
   "execution_count": 27,
   "id": "594a5e12",
   "metadata": {},
   "outputs": [
    {
     "data": {
      "image/png": "[encoded data removed]",
      "text/plain": [
       "<Figure size 432x288 with 1 Axes>"
      ]
     },
     "metadata": {
      "needs_background": "light"
     },
     "output_type": "display_data"
    }
   ],
   "source": [
    "sns.boxplot( y=datos[\"Carbono_Organico\"] );\n",
    "plt.show()"
   ]
  },
  {
   "cell_type": "code",
   "execution_count": 28,
   "id": "035c3f1b",
   "metadata": {},
   "outputs": [
    {
     "data": {
      "image/png": "[encoded data removed]",
      "text/plain": [
       "<Figure size 432x288 with 1 Axes>"
      ]
     },
     "metadata": {
      "needs_background": "light"
     },
     "output_type": "display_data"
    }
   ],
   "source": [
    "sns.histplot(data=datos, x=\"Carbono_Organico\")\n",
    "plt.show()"
   ]
  },
  {
   "cell_type": "markdown",
   "id": "e286d9ad",
   "metadata": {},
   "source": [
    "<hr>\n",
    "<h4>5. CÁRCAVAS (Categórica)</h4>\n",
    "<p>Datos únicos: </p>"
   ]
  },
  {
   "cell_type": "code",
   "execution_count": 29,
   "id": "84124b86",
   "metadata": {},
   "outputs": [
    {
     "name": "stdout",
     "output_type": "stream",
     "text": [
      "[0. 1.]\n"
     ]
    }
   ],
   "source": [
    "print(datos.Carcavas.unique())"
   ]
  },
  {
   "cell_type": "code",
   "execution_count": 30,
   "id": "ddc71b24",
   "metadata": {},
   "outputs": [
    {
     "name": "stdout",
     "output_type": "stream",
     "text": [
      "Máximo:  1.0\n",
      "Mínimo:  0.0\n",
      "Media:  0.03709178187893998\n",
      "STD:  0.18898678678975497\n"
     ]
    }
   ],
   "source": [
    "print(\"Máximo: \", max(datos.Carcavas))\n",
    "print(\"Mínimo: \", min(datos.Carcavas))\n",
    "print(\"Media: \", datos[\"Carcavas\"].mean())\n",
    "print(\"STD: \", datos[\"Carcavas\"].std())"
   ]
  },
  {
   "cell_type": "code",
   "execution_count": 31,
   "id": "4ff2e419",
   "metadata": {
    "scrolled": true
   },
   "outputs": [
    {
     "data": {
      "image/png": "[encoded data removed]",
      "text/plain": [
       "<Figure size 432x288 with 1 Axes>"
      ]
     },
     "metadata": {
      "needs_background": "light"
     },
     "output_type": "display_data"
    }
   ],
   "source": [
    "sns.boxplot( y=datos[\"Carcavas\"] );\n",
    "plt.show()"
   ]
  },
  {
   "cell_type": "code",
   "execution_count": 32,
   "id": "dcc0f18d",
   "metadata": {
    "scrolled": true
   },
   "outputs": [
    {
     "data": {
      "image/png": "[encoded data removed]",
      "text/plain": [
       "<Figure size 432x288 with 1 Axes>"
      ]
     },
     "metadata": {
      "needs_background": "light"
     },
     "output_type": "display_data"
    }
   ],
   "source": [
    "sns.histplot(data=datos, x=\"Carcavas\")\n",
    "plt.show()"
   ]
  },
  {
   "cell_type": "markdown",
   "id": "7f0443a9",
   "metadata": {},
   "source": [
    "<hr>\n",
    "<h4>6. CURVATURA PERFIL (Continua)</h4>\n",
    "<p>Datos únicos: </p>"
   ]
  },
  {
   "cell_type": "code",
   "execution_count": 33,
   "id": "42446274",
   "metadata": {},
   "outputs": [
    {
     "name": "stdout",
     "output_type": "stream",
     "text": [
      "[-4.53524798e-01  1.15568284e-03  7.14344829e-02 ... -1.16863179e+00\n",
      "  6.52884483e-01  4.14191931e-01]\n"
     ]
    }
   ],
   "source": [
    "print(datos.Curvatura_Perfil.unique())"
   ]
  },
  {
   "cell_type": "code",
   "execution_count": 34,
   "id": "e0b4e187",
   "metadata": {},
   "outputs": [
    {
     "name": "stdout",
     "output_type": "stream",
     "text": [
      "Máximo:  41.293548583984375\n",
      "Mínimo:  -34.95369338989258\n",
      "Media:  0.017891431973659763\n",
      "STD:  1.5906681916228866\n"
     ]
    }
   ],
   "source": [
    "print(\"Máximo: \", max(datos.Curvatura_Perfil))\n",
    "print(\"Mínimo: \", min(datos.Curvatura_Perfil))\n",
    "print(\"Media: \", datos[\"Curvatura_Perfil\"].mean())\n",
    "print(\"STD: \", datos[\"Curvatura_Perfil\"].std())"
   ]
  },
  {
   "cell_type": "code",
   "execution_count": 35,
   "id": "4d940754",
   "metadata": {
    "scrolled": false
   },
   "outputs": [
    {
     "data": {
      "image/png": "[encoded data removed]",
      "text/plain": [
       "<Figure size 432x288 with 1 Axes>"
      ]
     },
     "metadata": {
      "needs_background": "light"
     },
     "output_type": "display_data"
    }
   ],
   "source": [
    "sns.boxplot( y=datos[\"Curvatura_Perfil\"] );\n",
    "plt.show()"
   ]
  },
  {
   "cell_type": "code",
   "execution_count": 36,
   "id": "76f100e6",
   "metadata": {
    "scrolled": false
   },
   "outputs": [
    {
     "data": {
      "image/png": "[encoded data removed]",
      "text/plain": [
       "<Figure size 432x288 with 1 Axes>"
      ]
     },
     "metadata": {
      "needs_background": "light"
     },
     "output_type": "display_data"
    }
   ],
   "source": [
    "sns.histplot(data=datos, x=\"Curvatura_Perfil\")\n",
    "plt.show()"
   ]
  },
  {
   "cell_type": "markdown",
   "id": "aa71f298",
   "metadata": {},
   "source": [
    "<hr>\n",
    "<h4>7. CURVATURA PLANA (Continua)</h4>\n",
    "<p>Datos únicos: </p>"
   ]
  },
  {
   "cell_type": "code",
   "execution_count": 37,
   "id": "6d1129af",
   "metadata": {},
   "outputs": [
    {
     "name": "stdout",
     "output_type": "stream",
     "text": [
      "[-0.31753847  0.30938321 -0.04074813 ...  1.44355083  0.54070187\n",
      "  0.4780347 ]\n"
     ]
    }
   ],
   "source": [
    "print(datos.Curvatura_Plana.unique())"
   ]
  },
  {
   "cell_type": "code",
   "execution_count": 38,
   "id": "f1a07775",
   "metadata": {},
   "outputs": [
    {
     "name": "stdout",
     "output_type": "stream",
     "text": [
      "Máximo:  50.11104965209961\n",
      "Mínimo:  -38.32905197143555\n",
      "Media:  0.018945015958897343\n",
      "STD:  1.312674710295273\n"
     ]
    }
   ],
   "source": [
    "print(\"Máximo: \", max(datos.Curvatura_Plana))\n",
    "print(\"Mínimo: \", min(datos.Curvatura_Plana))\n",
    "print(\"Media: \", datos[\"Curvatura_Plana\"].mean())\n",
    "print(\"STD: \", datos[\"Curvatura_Plana\"].std())"
   ]
  },
  {
   "cell_type": "code",
   "execution_count": 39,
   "id": "45dc44c2",
   "metadata": {
    "scrolled": false
   },
   "outputs": [
    {
     "data": {
      "image/png": "[encoded data removed]",
      "text/plain": [
       "<Figure size 432x288 with 1 Axes>"
      ]
     },
     "metadata": {
      "needs_background": "light"
     },
     "output_type": "display_data"
    }
   ],
   "source": [
    "sns.boxplot( y=datos[\"Curvatura_Plana\"] );\n",
    "plt.show()"
   ]
  },
  {
   "cell_type": "markdown",
   "id": "768ad6dc",
   "metadata": {},
   "source": [
    "<hr>\n",
    "<h4>8. DISTANCIA CARRETERAS (Continua)</h4>\n",
    "<p>Datos únicos: </p>"
   ]
  },
  {
   "cell_type": "code",
   "execution_count": 40,
   "id": "17addaa3",
   "metadata": {
    "scrolled": true
   },
   "outputs": [
    {
     "name": "stdout",
     "output_type": "stream",
     "text": [
      "[1010.01239014 1014.00195312 1018.00048828 ... 2453.70117188 2450.14794922\n",
      " 2446.59960938]\n"
     ]
    }
   ],
   "source": [
    "print(datos.Distancia_Carreteras.unique())"
   ]
  },
  {
   "cell_type": "code",
   "execution_count": 41,
   "id": "1ef0ce19",
   "metadata": {
    "scrolled": true
   },
   "outputs": [
    {
     "name": "stdout",
     "output_type": "stream",
     "text": [
      "Máximo:  3142.455322265625\n",
      "Mínimo:  0.0\n",
      "Media:  703.6725483699354\n",
      "STD:  607.0715450437275\n"
     ]
    }
   ],
   "source": [
    "print(\"Máximo: \", max(datos.Distancia_Carreteras))\n",
    "print(\"Mínimo: \", min(datos.Distancia_Carreteras))\n",
    "print(\"Media: \", datos[\"Distancia_Carreteras\"].mean())\n",
    "print(\"STD: \", datos[\"Distancia_Carreteras\"].std())"
   ]
  },
  {
   "cell_type": "code",
   "execution_count": 42,
   "id": "8983f288",
   "metadata": {
    "scrolled": true
   },
   "outputs": [
    {
     "data": {
      "image/png": "[encoded data removed]",
      "text/plain": [
       "<Figure size 432x288 with 1 Axes>"
      ]
     },
     "metadata": {
      "needs_background": "light"
     },
     "output_type": "display_data"
    }
   ],
   "source": [
    "sns.boxplot( y=datos[\"Distancia_Carreteras\"] );\n",
    "plt.show()"
   ]
  },
  {
   "cell_type": "code",
   "execution_count": 43,
   "id": "f797791f",
   "metadata": {
    "scrolled": false
   },
   "outputs": [
    {
     "data": {
      "image/png": "[encoded data removed]",
      "text/plain": [
       "<Figure size 432x288 with 1 Axes>"
      ]
     },
     "metadata": {
      "needs_background": "light"
     },
     "output_type": "display_data"
    }
   ],
   "source": [
    "sns.histplot(data=datos, x=\"Distancia_Carreteras\")\n",
    "plt.show()"
   ]
  },
  {
   "cell_type": "markdown",
   "id": "343cfdc8",
   "metadata": {},
   "source": [
    "<hr>\n",
    "<h4>9. FACTOR LS (Continua)</h4>\n",
    "<p>Datos únicos: </p>"
   ]
  },
  {
   "cell_type": "code",
   "execution_count": 44,
   "id": "b5967001",
   "metadata": {
    "scrolled": false
   },
   "outputs": [
    {
     "name": "stdout",
     "output_type": "stream",
     "text": [
      "[0.7093 0.7232 0.7096 ... 7.2194 6.834  5.4726]\n"
     ]
    }
   ],
   "source": [
    "print(datos.Factor_LS.unique())"
   ]
  },
  {
   "cell_type": "code",
   "execution_count": 45,
   "id": "9f5e0f96",
   "metadata": {
    "scrolled": true
   },
   "outputs": [
    {
     "name": "stdout",
     "output_type": "stream",
     "text": [
      "Máximo:  17.9098\n",
      "Mínimo:  0.0\n",
      "Media:  2.2519097195350817\n",
      "STD:  1.7670713185877405\n"
     ]
    }
   ],
   "source": [
    "print(\"Máximo: \", max(datos.Factor_LS))\n",
    "print(\"Mínimo: \", min(datos.Factor_LS))\n",
    "print(\"Media: \", datos[\"Factor_LS\"].mean())\n",
    "print(\"STD: \", datos[\"Factor_LS\"].std())"
   ]
  },
  {
   "cell_type": "code",
   "execution_count": 46,
   "id": "527e302d",
   "metadata": {
    "scrolled": false
   },
   "outputs": [
    {
     "data": {
      "image/png": "[encoded data removed]",
      "text/plain": [
       "<Figure size 432x288 with 1 Axes>"
      ]
     },
     "metadata": {
      "needs_background": "light"
     },
     "output_type": "display_data"
    }
   ],
   "source": [
    "sns.boxplot( y=datos[\"Factor_LS\"] );\n",
    "plt.show()"
   ]
  },
  {
   "cell_type": "markdown",
   "id": "93a12159",
   "metadata": {},
   "source": [
    "<hr>\n",
    "<h4>10. GEOLOGIA (Categórica)</h4>\n",
    "<p>Datos únicos: </p>"
   ]
  },
  {
   "cell_type": "code",
   "execution_count": 47,
   "id": "ea60a2b5",
   "metadata": {
    "scrolled": true
   },
   "outputs": [
    {
     "name": "stdout",
     "output_type": "stream",
     "text": [
      "[9201. 9103. 9001. 9202. 9133. 9004. 9134. 9132.]\n"
     ]
    }
   ],
   "source": [
    "print(datos.Geologia.unique())"
   ]
  },
  {
   "cell_type": "code",
   "execution_count": 48,
   "id": "a65bf52b",
   "metadata": {
    "scrolled": false
   },
   "outputs": [
    {
     "name": "stdout",
     "output_type": "stream",
     "text": [
      "Máximo:  9202.0\n",
      "Mínimo:  9001.0\n",
      "Media:  9168.07556899876\n",
      "STD:  49.26715286813676\n"
     ]
    }
   ],
   "source": [
    "print(\"Máximo: \", max(datos.Geologia))\n",
    "print(\"Mínimo: \", min(datos.Geologia))\n",
    "print(\"Media: \", datos[\"Geologia\"].mean())\n",
    "print(\"STD: \", datos[\"Geologia\"].std())"
   ]
  },
  {
   "cell_type": "code",
   "execution_count": 49,
   "id": "5ccd7520",
   "metadata": {
    "scrolled": true
   },
   "outputs": [
    {
     "data": {
      "image/png": "[encoded data removed]",
      "text/plain": [
       "<Figure size 432x288 with 1 Axes>"
      ]
     },
     "metadata": {
      "needs_background": "light"
     },
     "output_type": "display_data"
    }
   ],
   "source": [
    "sns.boxplot( y=datos[\"Geologia\"] );\n",
    "plt.show()"
   ]
  },
  {
   "cell_type": "code",
   "execution_count": 50,
   "id": "660a108b",
   "metadata": {
    "scrolled": false
   },
   "outputs": [
    {
     "data": {
      "image/png": "[encoded data removed]",
      "text/plain": [
       "<Figure size 432x288 with 1 Axes>"
      ]
     },
     "metadata": {
      "needs_background": "light"
     },
     "output_type": "display_data"
    }
   ],
   "source": [
    "sns.histplot(data=datos, x=\"Geologia\")\n",
    "plt.show()"
   ]
  },
  {
   "cell_type": "markdown",
   "id": "83cd15f7",
   "metadata": {},
   "source": [
    "<hr>\n",
    "<h4>11. LIMOS (Continua)</h4>\n",
    "<p>Datos únicos: </p>"
   ]
  },
  {
   "cell_type": "code",
   "execution_count": 51,
   "id": "f8613a8e",
   "metadata": {
    "scrolled": true
   },
   "outputs": [
    {
     "name": "stdout",
     "output_type": "stream",
     "text": [
      "[40.98601151 37.7931633  48.77411652 48.79786301 48.52804184 49.65654373\n",
      " 49.44378662 47.67529678 40.95428085 39.88712311 37.56395721 48.72785568\n",
      " 38.58106232 44.14916611 42.44101715 40.87500381 37.94335175 37.19066238\n",
      " 38.49581909 45.50657654 46.54069901 44.51177216 48.32849884 42.69842529\n",
      " 49.05067444 49.05963898 50.97328568 43.74672318 46.03917313 47.21420288\n",
      " 47.99272537 51.06394577 53.6892395  45.4811821  42.07956314 38.61056519\n",
      " 37.81793213 43.6386528  42.90997314 47.72667694 46.86693573 48.37642288\n",
      " 40.52321243 44.36020279 43.77411652 45.28847885 42.12812424 45.1180954\n",
      " 46.96874237 51.96205139 51.59165955 40.01360321 41.09783173 41.04964447\n",
      " 41.01999664 45.9481926  50.06257248 47.83169556 49.26363373 45.24350357\n",
      " 46.61608505 45.37242889 43.41493607 45.75263977 49.1137619  44.34028625\n",
      " 48.17760849 41.01946259 38.44032288 37.54022598 38.1897583  41.56428146\n",
      " 48.31953812 42.67903519 46.4297905  45.49350739 44.81246948 45.40476227\n",
      " 41.59279251 52.99935913 50.14868927 47.22793579 45.8715477  41.26924133\n",
      " 41.02705002 41.19015503 41.4548645  43.35530853 40.42085266 44.29048538\n",
      " 39.19699478 40.33531189 48.56603622 46.31029892 45.68052673 42.93857956\n",
      " 42.83750534 41.97769165 44.611763   46.41322708 39.89124298 37.21437836\n",
      " 41.2420845  40.48065567 47.86159515 43.01519775 36.32970047 44.51586914\n",
      " 43.11653137 47.09809875 47.15175629 44.73875427 43.31740952 45.87001801\n",
      " 46.17607117 43.64599991 44.59395981 40.03074265 39.06709671 39.3205719\n",
      " 40.55984879 47.90696335 46.10252762 39.14990997 35.72944641 44.74847412\n",
      " 44.8634758  47.76127243 44.26138687 45.93209839 45.00467682 49.12189102\n",
      " 48.86013794 42.30619812 33.89740753 44.91735077 43.06156921 38.10525894\n",
      " 43.17367554 44.54312897 38.48841095 40.58276367 42.9871521  44.93089294\n",
      " 45.2903862  45.38961029 45.16562271 38.46604919 43.98767853 43.81718445\n",
      " 45.23666382 33.24475098 42.58161926 39.64862061 42.66523361 43.17612457\n",
      " 42.90364075 43.8725853  41.70291138 45.20571518 43.72383881 41.58440781\n",
      " 44.69150925 41.46891022 42.88174438 43.44959641 43.60517502]\n"
     ]
    }
   ],
   "source": [
    "print(datos.Limos.unique())"
   ]
  },
  {
   "cell_type": "code",
   "execution_count": 52,
   "id": "d1764df1",
   "metadata": {
    "scrolled": false
   },
   "outputs": [
    {
     "name": "stdout",
     "output_type": "stream",
     "text": [
      "Máximo:  53.689239501953125\n",
      "Mínimo:  33.2447509765625\n",
      "Media:  44.080807101618994\n",
      "STD:  3.6885499358851814\n"
     ]
    }
   ],
   "source": [
    "print(\"Máximo: \", max(datos.Limos))\n",
    "print(\"Mínimo: \", min(datos.Limos))\n",
    "print(\"Media: \", datos[\"Limos\"].mean())\n",
    "print(\"STD: \", datos[\"Limos\"].std())"
   ]
  },
  {
   "cell_type": "code",
   "execution_count": 53,
   "id": "23093c90",
   "metadata": {
    "scrolled": true
   },
   "outputs": [
    {
     "data": {
      "image/png": "[encoded data removed]",
      "text/plain": [
       "<Figure size 432x288 with 1 Axes>"
      ]
     },
     "metadata": {
      "needs_background": "light"
     },
     "output_type": "display_data"
    }
   ],
   "source": [
    "sns.boxplot( y=datos[\"Limos\"] );\n",
    "plt.show()"
   ]
  },
  {
   "cell_type": "code",
   "execution_count": 54,
   "id": "c13009fb",
   "metadata": {
    "scrolled": false
   },
   "outputs": [
    {
     "data": {
      "image/png": "[encoded data removed]",
      "text/plain": [
       "<Figure size 432x288 with 1 Axes>"
      ]
     },
     "metadata": {
      "needs_background": "light"
     },
     "output_type": "display_data"
    }
   ],
   "source": [
    "sns.histplot(data=datos, x=\"Limos\")\n",
    "plt.show()"
   ]
  },
  {
   "cell_type": "markdown",
   "id": "54dd7d46",
   "metadata": {},
   "source": [
    "<hr>\n",
    "<h4>12. ORIENTACIONES (Categórica)</h4>\n",
    "<p>Datos únicos: </p>"
   ]
  },
  {
   "cell_type": "code",
   "execution_count": 55,
   "id": "81f79b9a",
   "metadata": {
    "scrolled": true
   },
   "outputs": [
    {
     "name": "stdout",
     "output_type": "stream",
     "text": [
      "[1. 2. 8. 7. 3. 4. 5. 6.]\n"
     ]
    }
   ],
   "source": [
    "print(datos.Orientaciones.unique())"
   ]
  },
  {
   "cell_type": "code",
   "execution_count": 56,
   "id": "aef4030b",
   "metadata": {
    "scrolled": false
   },
   "outputs": [
    {
     "name": "stdout",
     "output_type": "stream",
     "text": [
      "Máximo:  8.0\n",
      "Mínimo:  1.0\n",
      "Media:  4.316687742560254\n",
      "STD:  2.3567723633598145\n"
     ]
    }
   ],
   "source": [
    "print(\"Máximo: \", max(datos.Orientaciones))\n",
    "print(\"Mínimo: \", min(datos.Orientaciones))\n",
    "print(\"Media: \", datos[\"Orientaciones\"].mean())\n",
    "print(\"STD: \", datos[\"Orientaciones\"].std())"
   ]
  },
  {
   "cell_type": "code",
   "execution_count": 57,
   "id": "548e82d4",
   "metadata": {
    "scrolled": true
   },
   "outputs": [
    {
     "data": {
      "image/png": "[encoded data removed]",
      "text/plain": [
       "<Figure size 432x288 with 1 Axes>"
      ]
     },
     "metadata": {
      "needs_background": "light"
     },
     "output_type": "display_data"
    }
   ],
   "source": [
    "sns.boxplot( y=datos[\"Orientaciones\"] );\n",
    "plt.show()"
   ]
  },
  {
   "cell_type": "code",
   "execution_count": 58,
   "id": "2c24cd73",
   "metadata": {
    "scrolled": true
   },
   "outputs": [
    {
     "data": {
      "image/png": "[encoded data removed]",
      "text/plain": [
       "<Figure size 432x288 with 1 Axes>"
      ]
     },
     "metadata": {
      "needs_background": "light"
     },
     "output_type": "display_data"
    }
   ],
   "source": [
    "sns.histplot(data=datos, x=\"Orientaciones\")\n",
    "plt.show()"
   ]
  },
  {
   "cell_type": "markdown",
   "id": "06b07160",
   "metadata": {},
   "source": [
    "<hr>\n",
    "<h4>13. OVERLAND FLOW DISTANCE (Continua)</h4>\n",
    "<p>Datos únicos: </p>"
   ]
  },
  {
   "cell_type": "code",
   "execution_count": 59,
   "id": "2ab760c9",
   "metadata": {
    "scrolled": false
   },
   "outputs": [
    {
     "name": "stdout",
     "output_type": "stream",
     "text": [
      "[ 6.18394661  6.77387619  6.36461735 ... 49.1232338  47.99860764\n",
      " 48.91837692]\n"
     ]
    }
   ],
   "source": [
    "print(datos.Overland_Flow_Distance.unique())"
   ]
  },
  {
   "cell_type": "code",
   "execution_count": 60,
   "id": "1d065fcb",
   "metadata": {
    "scrolled": true
   },
   "outputs": [
    {
     "name": "stdout",
     "output_type": "stream",
     "text": [
      "Máximo:  5951.634765625\n",
      "Mínimo:  0.0\n",
      "Media:  1878.9950472249443\n",
      "STD:  1293.8538086018332\n"
     ]
    }
   ],
   "source": [
    "print(\"Máximo: \", max(datos.Overland_Flow_Distance))\n",
    "print(\"Mínimo: \", min(datos.Overland_Flow_Distance))\n",
    "print(\"Media: \", datos[\"Overland_Flow_Distance\"].mean())\n",
    "print(\"STD: \", datos[\"Overland_Flow_Distance\"].std())"
   ]
  },
  {
   "cell_type": "code",
   "execution_count": 61,
   "id": "512f7f81",
   "metadata": {
    "scrolled": true
   },
   "outputs": [
    {
     "data": {
      "image/png": "[encoded data removed]",
      "text/plain": [
       "<Figure size 432x288 with 1 Axes>"
      ]
     },
     "metadata": {
      "needs_background": "light"
     },
     "output_type": "display_data"
    }
   ],
   "source": [
    "sns.boxplot( y=datos[\"Overland_Flow_Distance\"] );\n",
    "plt.show()"
   ]
  },
  {
   "cell_type": "code",
   "execution_count": 62,
   "id": "0ab18b81",
   "metadata": {
    "scrolled": false
   },
   "outputs": [
    {
     "data": {
      "image/png": "[encoded data removed]",
      "text/plain": [
       "<Figure size 432x288 with 1 Axes>"
      ]
     },
     "metadata": {
      "needs_background": "light"
     },
     "output_type": "display_data"
    }
   ],
   "source": [
    "sns.histplot(data=datos, x=\"Overland_Flow_Distance\")\n",
    "plt.show()"
   ]
  },
  {
   "cell_type": "markdown",
   "id": "d94748c9",
   "metadata": {},
   "source": [
    "<hr>\n",
    "<h4>14. PENDIENTE (Continua)</h4>\n",
    "<p>Datos únicos: </p>"
   ]
  },
  {
   "cell_type": "code",
   "execution_count": 63,
   "id": "c718276b",
   "metadata": {
    "scrolled": true
   },
   "outputs": [
    {
     "name": "stdout",
     "output_type": "stream",
     "text": [
      "[ 4.02537346  4.00428391  3.94592333 ... 14.28485394 14.17029953\n",
      " 14.57430077]\n"
     ]
    }
   ],
   "source": [
    "print(datos.Pendiente.unique())"
   ]
  },
  {
   "cell_type": "code",
   "execution_count": 64,
   "id": "11e123c3",
   "metadata": {
    "scrolled": false
   },
   "outputs": [
    {
     "name": "stdout",
     "output_type": "stream",
     "text": [
      "Máximo:  55.544185638427734\n",
      "Mínimo:  0.0\n",
      "Media:  9.2168592088673\n",
      "STD:  5.707765000991412\n"
     ]
    }
   ],
   "source": [
    "print(\"Máximo: \", max(datos.Pendiente))\n",
    "print(\"Mínimo: \", min(datos.Pendiente))\n",
    "print(\"Media: \", datos[\"Pendiente\"].mean())\n",
    "print(\"STD: \", datos[\"Pendiente\"].std())"
   ]
  },
  {
   "cell_type": "code",
   "execution_count": 65,
   "id": "d52354d7",
   "metadata": {
    "scrolled": false
   },
   "outputs": [
    {
     "data": {
      "image/png": "[encoded data removed]",
      "text/plain": [
       "<Figure size 432x288 with 1 Axes>"
      ]
     },
     "metadata": {
      "needs_background": "light"
     },
     "output_type": "display_data"
    }
   ],
   "source": [
    "sns.boxplot( y=datos[\"Pendiente\"] );\n",
    "plt.show()"
   ]
  },
  {
   "cell_type": "markdown",
   "id": "932dc114",
   "metadata": {},
   "source": [
    "<hr>\n",
    "<h4>15. STREAM POWER INDEX (Continua)</h4>\n",
    "<p>Datos únicos: </p>"
   ]
  },
  {
   "cell_type": "code",
   "execution_count": 66,
   "id": "859feb7f",
   "metadata": {
    "scrolled": false
   },
   "outputs": [
    {
     "name": "stdout",
     "output_type": "stream",
     "text": [
      "[  602.72521973   451.9442749    405.75698853 ... -1684.26672363\n",
      " -7330.75292969  -414.74475098]\n"
     ]
    }
   ],
   "source": [
    "print(datos.Stream_Power_Index.unique())"
   ]
  },
  {
   "cell_type": "code",
   "execution_count": 67,
   "id": "407e20c7",
   "metadata": {
    "scrolled": false
   },
   "outputs": [
    {
     "name": "stdout",
     "output_type": "stream",
     "text": [
      "Máximo:  5080776704.0\n",
      "Mínimo:  -5917084672.0\n",
      "Media:  10176.383098683678\n",
      "STD:  8608378.153642189\n"
     ]
    }
   ],
   "source": [
    "print(\"Máximo: \", max(datos.Stream_Power_Index))\n",
    "print(\"Mínimo: \", min(datos.Stream_Power_Index))\n",
    "print(\"Media: \", datos[\"Stream_Power_Index\"].mean())\n",
    "print(\"STD: \", datos[\"Stream_Power_Index\"].std())"
   ]
  },
  {
   "cell_type": "code",
   "execution_count": 68,
   "id": "1f51ac24",
   "metadata": {
    "scrolled": false
   },
   "outputs": [
    {
     "data": {
      "image/png": "[encoded data removed]",
      "text/plain": [
       "<Figure size 432x288 with 1 Axes>"
      ]
     },
     "metadata": {
      "needs_background": "light"
     },
     "output_type": "display_data"
    }
   ],
   "source": [
    "sns.boxplot( y=datos[\"Stream_Power_Index\"] );\n",
    "plt.show()"
   ]
  },
  {
   "cell_type": "markdown",
   "id": "f9718614",
   "metadata": {},
   "source": [
    "<hr>\n",
    "<h4>16. TOPOGRAPHIC POSITION INDEX (Continua)</h4>\n",
    "<p>Datos únicos: </p>"
   ]
  },
  {
   "cell_type": "code",
   "execution_count": 69,
   "id": "c0f876b0",
   "metadata": {
    "scrolled": true
   },
   "outputs": [
    {
     "name": "stdout",
     "output_type": "stream",
     "text": [
      "[-2.66231275 -2.59675765 -2.61970448 ...  4.25359297  4.7884059\n",
      "  5.50769329]\n"
     ]
    }
   ],
   "source": [
    "print(datos.Topographic_Position_Index.unique())"
   ]
  },
  {
   "cell_type": "code",
   "execution_count": 70,
   "id": "3823262d",
   "metadata": {
    "scrolled": false
   },
   "outputs": [
    {
     "name": "stdout",
     "output_type": "stream",
     "text": [
      "Máximo:  22.681211471557617\n",
      "Mínimo:  -22.029876708984375\n",
      "Media:  0.002177335864110274\n",
      "STD:  3.321313674949288\n"
     ]
    }
   ],
   "source": [
    "print(\"Máximo: \", max(datos.Topographic_Position_Index))\n",
    "print(\"Mínimo: \", min(datos.Topographic_Position_Index))\n",
    "print(\"Media: \", datos[\"Topographic_Position_Index\"].mean())\n",
    "print(\"STD: \", datos[\"Topographic_Position_Index\"].std())"
   ]
  },
  {
   "cell_type": "code",
   "execution_count": 71,
   "id": "93e539b7",
   "metadata": {
    "scrolled": false
   },
   "outputs": [
    {
     "data": {
      "image/png": "[encoded data removed]",
      "text/plain": [
       "<Figure size 432x288 with 1 Axes>"
      ]
     },
     "metadata": {
      "needs_background": "light"
     },
     "output_type": "display_data"
    }
   ],
   "source": [
    "sns.boxplot( y=datos[\"Topographic_Position_Index\"] );\n",
    "plt.show()"
   ]
  },
  {
   "cell_type": "code",
   "execution_count": 72,
   "id": "be92d20a",
   "metadata": {
    "scrolled": false
   },
   "outputs": [
    {
     "data": {
      "image/png": "[encoded data removed]",
      "text/plain": [
       "<Figure size 432x288 with 1 Axes>"
      ]
     },
     "metadata": {
      "needs_background": "light"
     },
     "output_type": "display_data"
    }
   ],
   "source": [
    "sns.histplot(data=datos, x=\"Topographic_Position_Index\")\n",
    "plt.show()"
   ]
  },
  {
   "cell_type": "markdown",
   "id": "959f528b",
   "metadata": {},
   "source": [
    "<hr>\n",
    "<h4>17. TOPOGRAPHIC WETNESS INDEX (Continua)</h4>\n",
    "<p>Datos únicos: </p>"
   ]
  },
  {
   "cell_type": "code",
   "execution_count": 73,
   "id": "2877bb25",
   "metadata": {
    "scrolled": true
   },
   "outputs": [
    {
     "name": "stdout",
     "output_type": "stream",
     "text": [
      "[ 6.0053668   5.80314779  5.9300065  ... 12.43148804 12.40071678\n",
      " 12.17459965]\n"
     ]
    }
   ],
   "source": [
    "print(datos.Topographic_Wetness_Index.unique())"
   ]
  },
  {
   "cell_type": "code",
   "execution_count": 74,
   "id": "5e0ce563",
   "metadata": {
    "scrolled": false
   },
   "outputs": [
    {
     "name": "stdout",
     "output_type": "stream",
     "text": [
      "Máximo:  23.729032516479492\n",
      "Mínimo:  -9.109371185302734\n",
      "Media:  9.541667113363447\n",
      "STD:  3.878487720315375\n"
     ]
    }
   ],
   "source": [
    "print(\"Máximo: \", max(datos.Topographic_Wetness_Index))\n",
    "print(\"Mínimo: \", min(datos.Topographic_Wetness_Index))\n",
    "print(\"Media: \", datos[\"Topographic_Wetness_Index\"].mean())\n",
    "print(\"STD: \", datos[\"Topographic_Wetness_Index\"].std())"
   ]
  },
  {
   "cell_type": "code",
   "execution_count": 75,
   "id": "118f3f5d",
   "metadata": {
    "scrolled": false
   },
   "outputs": [
    {
     "data": {
      "image/png": "[encoded data removed]",
      "text/plain": [
       "<Figure size 432x288 with 1 Axes>"
      ]
     },
     "metadata": {
      "needs_background": "light"
     },
     "output_type": "display_data"
    }
   ],
   "source": [
    "sns.boxplot( y=datos[\"Topographic_Wetness_Index\"] );\n",
    "plt.show()"
   ]
  },
  {
   "cell_type": "code",
   "execution_count": 76,
   "id": "ca74f714",
   "metadata": {
    "scrolled": false
   },
   "outputs": [
    {
     "data": {
      "image/png": "[encoded data removed]",
      "text/plain": [
       "<Figure size 432x288 with 1 Axes>"
      ]
     },
     "metadata": {
      "needs_background": "light"
     },
     "output_type": "display_data"
    }
   ],
   "source": [
    "sns.histplot(data=datos, x=\"Topographic_Wetness_Index\")\n",
    "plt.show()"
   ]
  },
  {
   "cell_type": "markdown",
   "id": "b0e29f47",
   "metadata": {},
   "source": [
    "<hr>\n",
    "<h4>18. UNIDADES EDÁFICAS (Categórica)</h4>\n",
    "<p>Datos únicos: </p>"
   ]
  },
  {
   "cell_type": "code",
   "execution_count": 77,
   "id": "2162847c",
   "metadata": {
    "scrolled": false
   },
   "outputs": [
    {
     "name": "stdout",
     "output_type": "stream",
     "text": [
      "[5. 6. 1. 4. 3. 2.]\n"
     ]
    }
   ],
   "source": [
    "print(datos.Unidades_Edaficas.unique())"
   ]
  },
  {
   "cell_type": "code",
   "execution_count": 78,
   "id": "f3da5d35",
   "metadata": {
    "scrolled": true
   },
   "outputs": [
    {
     "name": "stdout",
     "output_type": "stream",
     "text": [
      "Máximo:  6.0\n",
      "Mínimo:  1.0\n",
      "Media:  4.846874846799632\n",
      "STD:  1.709892051588196\n"
     ]
    }
   ],
   "source": [
    "print(\"Máximo: \", max(datos.Unidades_Edaficas))\n",
    "print(\"Mínimo: \", min(datos.Unidades_Edaficas))\n",
    "print(\"Media: \", datos[\"Unidades_Edaficas\"].mean())\n",
    "print(\"STD: \", datos[\"Unidades_Edaficas\"].std())"
   ]
  },
  {
   "cell_type": "code",
   "execution_count": 79,
   "id": "d0346c4c",
   "metadata": {
    "scrolled": true
   },
   "outputs": [
    {
     "data": {
      "image/png": "[encoded data removed]",
      "text/plain": [
       "<Figure size 432x288 with 1 Axes>"
      ]
     },
     "metadata": {
      "needs_background": "light"
     },
     "output_type": "display_data"
    }
   ],
   "source": [
    "sns.boxplot( y=datos[\"Unidades_Edaficas\"] );\n",
    "plt.show()"
   ]
  },
  {
   "cell_type": "code",
   "execution_count": 80,
   "id": "4a6080dc",
   "metadata": {
    "scrolled": true
   },
   "outputs": [
    {
     "data": {
      "image/png": "[encoded data removed]",
      "text/plain": [
       "<Figure size 432x288 with 1 Axes>"
      ]
     },
     "metadata": {
      "needs_background": "light"
     },
     "output_type": "display_data"
    }
   ],
   "source": [
    "sns.histplot(data=datos, x=\"Unidades_Edaficas\")\n",
    "plt.show()"
   ]
  },
  {
   "cell_type": "markdown",
   "id": "f98e84b5",
   "metadata": {},
   "source": [
    "<hr>\n",
    "<h4>19. USOS DEL SUELO (Categórica)</h4>\n",
    "<p>Datos únicos: </p>"
   ]
  },
  {
   "cell_type": "code",
   "execution_count": 81,
   "id": "03702ed0",
   "metadata": {
    "scrolled": false
   },
   "outputs": [
    {
     "name": "stdout",
     "output_type": "stream",
     "text": [
      "[3. 2. 1. 4.]\n"
     ]
    }
   ],
   "source": [
    "print(datos.Usos_Del_Suelo.unique())"
   ]
  },
  {
   "cell_type": "code",
   "execution_count": 82,
   "id": "07f9efaa",
   "metadata": {
    "scrolled": true
   },
   "outputs": [
    {
     "name": "stdout",
     "output_type": "stream",
     "text": [
      "Máximo:  4.0\n",
      "Mínimo:  1.0\n",
      "Media:  2.0291042084854705\n",
      "STD:  0.2281196760063661\n"
     ]
    }
   ],
   "source": [
    "print(\"Máximo: \", max(datos.Usos_Del_Suelo))\n",
    "print(\"Mínimo: \", min(datos.Usos_Del_Suelo))\n",
    "print(\"Media: \", datos[\"Usos_Del_Suelo\"].mean())\n",
    "print(\"STD: \", datos[\"Usos_Del_Suelo\"].std())"
   ]
  },
  {
   "cell_type": "code",
   "execution_count": 83,
   "id": "9b6b99e3",
   "metadata": {
    "scrolled": true
   },
   "outputs": [
    {
     "data": {
      "image/png": "[encoded data removed]",
      "text/plain": [
       "<Figure size 432x288 with 1 Axes>"
      ]
     },
     "metadata": {
      "needs_background": "light"
     },
     "output_type": "display_data"
    }
   ],
   "source": [
    "sns.boxplot( y=datos[\"Usos_Del_Suelo\"] );\n",
    "plt.show()"
   ]
  },
  {
   "cell_type": "code",
   "execution_count": 84,
   "id": "3d8cb7f0",
   "metadata": {
    "scrolled": false
   },
   "outputs": [
    {
     "data": {
      "image/png": "[encoded data removed]",
      "text/plain": [
       "<Figure size 432x288 with 1 Axes>"
      ]
     },
     "metadata": {
      "needs_background": "light"
     },
     "output_type": "display_data"
    }
   ],
   "source": [
    "sns.histplot(data=datos, x=\"Usos_Del_Suelo\")\n",
    "plt.show()"
   ]
  }
 ],
 "metadata": {
  "kernelspec": {
   "display_name": "Python 3 (ipykernel)",
   "language": "python",
   "name": "python3"
  },
  "language_info": {
   "codemirror_mode": {
    "name": "ipython",
    "version": 3
   },
   "file_extension": ".py",
   "mimetype": "text/x-python",
   "name": "python",
   "nbconvert_exporter": "python",
   "pygments_lexer": "ipython3",
   "version": "3.8.11"
  }
 },
 "nbformat": 4,
 "nbformat_minor": 5
}
