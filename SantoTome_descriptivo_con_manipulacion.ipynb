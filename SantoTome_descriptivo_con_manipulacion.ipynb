{
 "cells": [
  {
   "cell_type": "markdown",
   "id": "623d7cc7",
   "metadata": {},
   "source": [
    "<h1>Importación de librerias</h1>"
   ]
  },
  {
   "cell_type": "code",
   "execution_count": 1,
   "id": "acb51609",
   "metadata": {},
   "outputs": [],
   "source": [
    "import os\n",
    "import pandas as pd\n",
    "from osgeo import gdal\n",
    "import numpy as np\n",
    "import seaborn as sns\n",
    "import matplotlib.pyplot as plt"
   ]
  },
  {
   "cell_type": "markdown",
   "id": "f179e8b3",
   "metadata": {},
   "source": [
    "<h3>Proceso de carga de datos en formato .TIF para poder ser manipulados y visualizados</h3>\n",
    "<p>Creamos vectores donde almacenar los nombres de archivos</p>"
   ]
  },
  {
   "cell_type": "code",
   "execution_count": 2,
   "id": "0dea8c86",
   "metadata": {},
   "outputs": [],
   "source": [
    "dir = \"Raster/SantoTome\"\n",
    "ficheros=[]\n",
    "nombre=[]"
   ]
  },
  {
   "cell_type": "markdown",
   "id": "cefb8d26",
   "metadata": {},
   "source": [
    "<p>Path de ficheros TIF para ordenarlos</p>"
   ]
  },
  {
   "cell_type": "code",
   "execution_count": 3,
   "id": "069c0698",
   "metadata": {},
   "outputs": [],
   "source": [
    "for file in os.listdir(dir):\n",
    "        if file.endswith(\".tif\"):\n",
    "            ficheros.append(os.path.join(dir, file))\n",
    "            nombre.append(file.split('.')[0])"
   ]
  },
  {
   "cell_type": "markdown",
   "id": "d727a42d",
   "metadata": {},
   "source": [
    "<p>Ordenamos por nombre la lista de ficheros y de nombres de ficheros<p>"
   ]
  },
  {
   "cell_type": "code",
   "execution_count": 4,
   "id": "61127b5d",
   "metadata": {},
   "outputs": [
    {
     "data": {
      "text/plain": [
       "['Altitud',\n",
       " 'Arcillas',\n",
       " 'Arenas',\n",
       " 'Carbonatos',\n",
       " 'Carbono_Organico',\n",
       " 'Carcavas',\n",
       " 'Curvatura_Perfil',\n",
       " 'Curvatura_Plana',\n",
       " 'Distancia_Carreteras',\n",
       " 'Factor_LS',\n",
       " 'Geologia',\n",
       " 'Limos',\n",
       " 'Orientaciones',\n",
       " 'Overland_Flow_Distance',\n",
       " 'Pendiente',\n",
       " 'Stream_Power_Index',\n",
       " 'Topographic_Position_Index',\n",
       " 'Topographic_Wetness_Index',\n",
       " 'Unidades_Edaficas',\n",
       " 'Usos_Del_Suelo']"
      ]
     },
     "execution_count": 4,
     "metadata": {},
     "output_type": "execute_result"
    }
   ],
   "source": [
    "sorted(ficheros)\n",
    "sorted(nombre)"
   ]
  },
  {
   "cell_type": "markdown",
   "id": "e4fcaf4d",
   "metadata": {},
   "source": [
    "<p>Creamos un Dataframe con el nombre de los TIF</p>"
   ]
  },
  {
   "cell_type": "code",
   "execution_count": 5,
   "id": "a86dfd7b",
   "metadata": {},
   "outputs": [],
   "source": [
    "datos = pd.DataFrame(columns=nombre)"
   ]
  },
  {
   "cell_type": "markdown",
   "id": "4b64f416",
   "metadata": {},
   "source": [
    "<p>Recoger tamaño de las imagenes TIF que vamos a tratar</p>"
   ]
  },
  {
   "cell_type": "code",
   "execution_count": 6,
   "id": "408fa8d8",
   "metadata": {},
   "outputs": [
    {
     "name": "stdout",
     "output_type": "stream",
     "text": [
      "Tamaño archivos cargados: 1448 x 2082 \n",
      "\n"
     ]
    }
   ],
   "source": [
    "tif = gdal.Open(ficheros[1])\n",
    "tif_band = tif.GetRasterBand(1)\n",
    "x = tif_band.XSize\n",
    "y = tif_band.YSize\n",
    "print(\"Tamaño archivos cargados:\",x,\"x\",y,\"\\n\")"
   ]
  },
  {
   "cell_type": "markdown",
   "id": "f5d9f951",
   "metadata": {},
   "source": [
    "<p>Recorremos lista de ficheros. SOLO TRATAMOS LOS DATOS NO DATA -> -1</p>"
   ]
  },
  {
   "cell_type": "code",
   "execution_count": 7,
   "id": "2a3cd7b7",
   "metadata": {},
   "outputs": [],
   "source": [
    "contador = 0\n",
    "for f in ficheros:\n",
    "    n = nombre[contador]\n",
    "    MDT = gdal.Open(f)\n",
    "    \n",
    "    # Patrones sin datos se incluyen como -1\n",
    "    MDT.GetRasterBand(1).SetNoDataValue(-1)\n",
    "    \n",
    "    # Pasamos los datos a float\n",
    "    band = MDT.GetRasterBand(1).ReadAsArray().astype(float)\n",
    "    \n",
    "    # Se desechan las dos primeras filas y columnas debido a calculos de borde\n",
    "    band = band[1:y, 1:x]\n",
    "    \n",
    "    # Reconstruimos el array con el tamaño de filas x columnas\n",
    "    x_recorte = x - 1\n",
    "    y_recorte = y - 1\n",
    "    band = np.reshape(band, x_recorte*y_recorte)\n",
    "    \n",
    "    # Estos serán nuestros datos\n",
    "    datos[n] = band\n",
    "    \n",
    "    contador = contador + 1"
   ]
  },
  {
   "cell_type": "markdown",
   "id": "4c878f5d",
   "metadata": {},
   "source": [
    "<hr>\n",
    "<h3>Tratamiento de datos</h3>"
   ]
  },
  {
   "cell_type": "code",
   "execution_count": 8,
   "id": "1bf8fbc5",
   "metadata": {},
   "outputs": [
    {
     "name": "stdout",
     "output_type": "stream",
     "text": [
      "Número de datos antes del tratamiento  60224140\n",
      "Número de datos despues del tratamiento  31957100\n"
     ]
    }
   ],
   "source": [
    "print(\"Número de datos antes del tratamiento \", datos.size)\n",
    "\n",
    "datos = datos[datos['Carcavas'] != -9999]\n",
    "datos = datos[datos['Orientaciones'] != 0]\n",
    "datos = datos[datos['Distancia_Carreteras'] >= 0]\n",
    "datos = datos[datos['Factor_LS'] >= 0]\n",
    "datos = datos[datos['Pendiente'] != -9999.0]\n",
    "\n",
    "print(\"Número de datos despues del tratamiento \", datos.size)\n",
    "\n",
    "datos.Factor_LS = datos.Factor_LS.round(4) \n",
    "\n",
    "# Aqui deberían incluirse los labelenconders ONE HOT (?)"
   ]
  },
  {
   "cell_type": "markdown",
   "id": "fcf97ffe",
   "metadata": {},
   "source": [
    "<hr>\n",
    "<h3>Proceso de visualización de datos</h3>"
   ]
  },
  {
   "cell_type": "markdown",
   "id": "c675cdab",
   "metadata": {},
   "source": [
    "<h4>1. ALTITUD (Continua)</h4>\n",
    "<p>Datos únicos: </p>"
   ]
  },
  {
   "cell_type": "code",
   "execution_count": 9,
   "id": "b66c62dd",
   "metadata": {
    "scrolled": true
   },
   "outputs": [
    {
     "name": "stdout",
     "output_type": "stream",
     "text": [
      "[438.50299072 438.70098877 438.9460144  ... 507.91000366 566.16497803\n",
      " 585.88098145]\n"
     ]
    }
   ],
   "source": [
    "print(datos.Altitud.unique())"
   ]
  },
  {
   "cell_type": "code",
   "execution_count": 10,
   "id": "b0ac5d3c",
   "metadata": {},
   "outputs": [
    {
     "name": "stdout",
     "output_type": "stream",
     "text": [
      "Máximo:  849.635009765625\n",
      "Mínimo:  427.5570068359375\n",
      "Media:  598.2872667447682\n",
      "STD:  85.70219241899592\n"
     ]
    }
   ],
   "source": [
    "print(\"Máximo: \", max(datos.Altitud))\n",
    "print(\"Mínimo: \", min(datos.Altitud))\n",
    "print(\"Media: \", datos[\"Altitud\"].mean())\n",
    "print(\"STD: \", datos[\"Altitud\"].std())\n"
   ]
  },
  {
   "cell_type": "code",
   "execution_count": 11,
   "id": "6d0969f8",
   "metadata": {},
   "outputs": [
    {
     "data": {
      "image/png": "[encoded data removed]",
      "text/plain": [
       "<Figure size 432x288 with 1 Axes>"
      ]
     },
     "metadata": {
      "needs_background": "light"
     },
     "output_type": "display_data"
    }
   ],
   "source": [
    "sns.boxplot( y=datos[\"Altitud\"] );\n",
    "plt.show()"
   ]
  },
  {
   "cell_type": "code",
   "execution_count": 12,
   "id": "f5533317",
   "metadata": {},
   "outputs": [
    {
     "data": {
      "image/png": "[encoded data removed]",
      "text/plain": [
       "<Figure size 432x288 with 1 Axes>"
      ]
     },
     "metadata": {
      "needs_background": "light"
     },
     "output_type": "display_data"
    }
   ],
   "source": [
    "sns.histplot(data=datos, x=\"Altitud\")\n",
    "plt.show()"
   ]
  },
  {
   "cell_type": "markdown",
   "id": "607f458e",
   "metadata": {},
   "source": [
    "<hr>\n",
    "<h4>2. ARCILLAS (Continua)</h4>\n",
    "<p>Datos únicos: </p>"
   ]
  },
  {
   "cell_type": "code",
   "execution_count": 13,
   "id": "9e8784ec",
   "metadata": {},
   "outputs": [
    {
     "name": "stdout",
     "output_type": "stream",
     "text": [
      "[31.75813103 36.81389236 37.20759201 40.04796219 31.6607933  42.43583679\n",
      " 40.21904373 37.84952545 36.95042801 32.29443741 35.4302063  36.11117554\n",
      " 35.07839203 32.9157753  33.3037796  40.26624298 38.10226059 40.10350037\n",
      " 40.21327209 38.41845703 33.60386276 33.32458496 34.3403511  33.88726425\n",
      " 34.58242798 31.9856739  36.71850967 36.33438873 35.85596848 38.26751328\n",
      " 37.56327438 34.43656921 31.46871567 33.76166916 36.95221329 40.99275208\n",
      " 38.34677124 37.27456665 33.07227707 34.60289001 38.65610886 36.018013\n",
      " 35.17227936 35.01656342 37.42977142 37.44367599 32.14209366 34.61552429\n",
      " 35.51926422 37.39848328 39.59401703 40.72028351 32.40776062 36.97797012\n",
      " 36.21855164 36.01535034 35.93242264 40.23360062 36.67612457 35.65941238\n",
      " 38.11412048 39.08292007 41.02215958 37.0511055  35.5803299  33.55998611\n",
      " 34.12625504 33.80471039 38.15513229 37.21925354 36.78179169 35.80400848\n",
      " 34.44122314 36.91248703 41.44659424 38.90652466 34.84959793 37.49238968\n",
      " 34.34671402 34.79146957 38.67834091 39.59194183 35.19100189 36.05638123\n",
      " 36.52043915 40.14745712 40.83997726 32.69289398 35.38639069 36.8422699\n",
      " 36.28694153 32.62269211 39.65652466 34.78096771 35.4558754  33.93067551\n",
      " 39.17545319 37.86634827 37.99066925 36.70825577 37.42507553 38.11328125\n",
      " 38.77358246 38.86750031 37.12102127 34.6832428  36.46276474 35.6173439\n",
      " 39.72964096 41.25651932 36.37162399 37.78507233 36.85220337 34.52329254\n",
      " 33.46921539 35.68862534 36.20817947 38.23738861 33.68194962 34.12658691\n",
      " 36.76872253 40.35966492 34.68804169 35.04846954 34.4120636  34.52030182\n",
      " 37.21707916 34.59745407 39.97522736 33.67048264 37.62718582 37.96173477\n",
      " 40.56685257 37.0110054  34.52733994 35.58730698 33.03892136 34.90142441\n",
      " 37.45887756 36.86788177 39.99436951 41.5773468  30.86011887 35.52374649\n",
      " 35.4069519  35.73770905 36.6164093  31.57928276 32.97120285 37.25098419\n",
      " 38.45170593 36.08207321 36.93084335 35.61136627 33.02770996 36.49992752\n",
      " 36.81071472 39.62422943 34.96811295 35.3432045  38.4253006  35.27164078\n",
      " 35.74018478 34.42840958 36.99272537 38.64002609 33.15561676 31.65770149\n",
      " 31.59440231 36.70767593 40.21678543 34.52612686 35.95365143 36.50702286\n",
      " 35.09244156 37.67242813 37.27299118 37.95643234 36.52259445 38.77602386\n",
      " 33.82933807 34.67892075 38.56506729 36.89666367]\n"
     ]
    }
   ],
   "source": [
    "print(datos.Arcillas.unique())"
   ]
  },
  {
   "cell_type": "code",
   "execution_count": 14,
   "id": "d11d91c1",
   "metadata": {},
   "outputs": [
    {
     "name": "stdout",
     "output_type": "stream",
     "text": [
      "Máximo:  42.43583679199219\n",
      "Mínimo:  30.860118865966797\n",
      "Media:  36.46179545974804\n",
      "STD:  2.3742820588195097\n"
     ]
    }
   ],
   "source": [
    "print(\"Máximo: \", max(datos.Arcillas))\n",
    "print(\"Mínimo: \", min(datos.Arcillas))\n",
    "print(\"Media: \", datos[\"Arcillas\"].mean())\n",
    "print(\"STD: \", datos[\"Arcillas\"].std())"
   ]
  },
  {
   "cell_type": "code",
   "execution_count": 15,
   "id": "d105209e",
   "metadata": {},
   "outputs": [
    {
     "data": {
      "image/png": "[encoded data removed]",
      "text/plain": [
       "<Figure size 432x288 with 1 Axes>"
      ]
     },
     "metadata": {
      "needs_background": "light"
     },
     "output_type": "display_data"
    }
   ],
   "source": [
    "sns.boxplot( y=datos[\"Arcillas\"] );\n",
    "plt.show()"
   ]
  },
  {
   "cell_type": "code",
   "execution_count": 16,
   "id": "9c033a88",
   "metadata": {},
   "outputs": [
    {
     "data": {
      "image/png": "[encoded data removed]",
      "text/plain": [
       "<Figure size 432x288 with 1 Axes>"
      ]
     },
     "metadata": {
      "needs_background": "light"
     },
     "output_type": "display_data"
    }
   ],
   "source": [
    "sns.histplot(data=datos, x=\"Arcillas\")\n",
    "plt.show()"
   ]
  },
  {
   "cell_type": "markdown",
   "id": "29e9a038",
   "metadata": {},
   "source": [
    "<hr>\n",
    "<h4>3. ARENAS (Continua)</h4>\n",
    "<p>Datos únicos: </p>"
   ]
  },
  {
   "cell_type": "code",
   "execution_count": 17,
   "id": "8498fe0d",
   "metadata": {},
   "outputs": [
    {
     "name": "stdout",
     "output_type": "stream",
     "text": [
      "[33.87572479 17.72201538 18.06327057 12.8685379  32.81736755 10.40031433\n",
      " 14.30979919 15.34599304 15.55557251 21.33428955 19.46343994 19.37958527\n",
      " 24.7039032  27.6778183  19.90520477 12.42074585 18.51131439 10.60609436\n",
      " 13.87342072 17.4365387  15.21798706 18.85947418 19.29058075 22.83244324\n",
      " 18.45509338 19.32624817 17.15637207 14.94346619 17.34638977 15.49411011\n",
      " 13.98884583 21.04186249 22.16967773 22.12031555 18.05319977 14.9806366\n",
      " 18.30436707 15.55264282 24.29151917 20.1652832  15.59536743 17.84686279\n",
      " 20.44515991 17.51477814 16.32917023 15.6714859  25.71530151 24.76519012\n",
      " 21.43106079 20.7848587  12.76719666 13.83258057 21.09503937 13.44683838\n",
      " 19.03224182 20.22583008 21.26091003 16.4384079  21.59572601 22.6023407\n",
      " 15.44644165 15.22372437  9.73020935 17.87393188 16.68841553 17.68596649\n",
      " 18.81881714 16.51608276 18.76370239 17.00587463 19.44039917 23.69554138\n",
      " 25.48713684 21.09468842 12.89600372 13.617836   19.93925476 16.29865265\n",
      " 20.10293579 21.81542206 14.46324921 19.49223328 23.65868378 19.42935944\n",
      " 17.27314758 13.95854187 11.51403809 22.07841492 20.28211212 20.57711792\n",
      " 16.83640289 17.10868835 15.17385864 22.82998657 26.15145874 25.15666199\n",
      " 15.18331146 18.21557617 16.72386169 17.82980347 16.61375427 16.63056946\n",
      " 13.50863647 14.91479492 21.52770996 24.97383118 20.36811066 21.03044128\n",
      " 14.26857758 13.73801422 17.65914917 14.2310791  13.50588989 20.30775452\n",
      " 26.32748413 24.85874939 22.28573608 14.9317627  22.19908142 22.85305786\n",
      " 17.55090332 13.26527405 20.41069031 22.97475433 26.53812408 25.19978333\n",
      " 20.03040314 23.3583374  15.31292725 21.46350098 16.56811523 12.62772369\n",
      " 15.65332794 16.7203064  23.7793808  26.79094696 24.40155029 23.82961273\n",
      " 20.67478943 21.80974579 14.77916718 13.68815613 22.977005   19.54380798\n",
      " 24.40749359 25.36465454 19.72210693 30.82865143 27.6758728  17.27561951\n",
      " 20.08795166 20.39772034 21.53497314 23.66490173 26.64399719 17.67073822\n",
      " 18.21105957 13.5410614  16.87779999 18.06491089 14.94728088 22.71876526\n",
      " 19.48688507 21.19648743 14.27135468 14.05528259 23.53381348 25.4909668\n",
      " 29.79854584 23.34750366 13.80522156 22.45219421 18.35900116 18.86483765\n",
      " 20.13587952 20.07681274 19.12593842 17.08958435 19.80198669 19.02799988\n",
      " 29.13936615 21.47090149 18.07943726 20.28941345]\n"
     ]
    }
   ],
   "source": [
    "print(datos.Arenas.unique())"
   ]
  },
  {
   "cell_type": "code",
   "execution_count": 18,
   "id": "4f4fd638",
   "metadata": {},
   "outputs": [
    {
     "name": "stdout",
     "output_type": "stream",
     "text": [
      "Máximo:  33.87572479248047\n",
      "Mínimo:  9.730209350585938\n",
      "Media:  18.928458702632465\n",
      "STD:  4.123052954286027\n"
     ]
    }
   ],
   "source": [
    "print(\"Máximo: \", max(datos.Arenas))\n",
    "print(\"Mínimo: \", min(datos.Arenas))\n",
    "print(\"Media: \", datos[\"Arenas\"].mean())\n",
    "print(\"STD: \", datos[\"Arenas\"].std())"
   ]
  },
  {
   "cell_type": "code",
   "execution_count": 19,
   "id": "9cb47f71",
   "metadata": {},
   "outputs": [
    {
     "data": {
      "image/png": "[encoded data removed]",
      "text/plain": [
       "<Figure size 432x288 with 1 Axes>"
      ]
     },
     "metadata": {
      "needs_background": "light"
     },
     "output_type": "display_data"
    }
   ],
   "source": [
    "sns.boxplot( y=datos[\"Arenas\"] );\n",
    "plt.show()"
   ]
  },
  {
   "cell_type": "code",
   "execution_count": 20,
   "id": "ad1558d0",
   "metadata": {},
   "outputs": [
    {
     "data": {
      "image/png": "[encoded data removed]",
      "text/plain": [
       "<Figure size 432x288 with 1 Axes>"
      ]
     },
     "metadata": {
      "needs_background": "light"
     },
     "output_type": "display_data"
    }
   ],
   "source": [
    "sns.histplot(data=datos, x=\"Arenas\")\n",
    "plt.show()"
   ]
  },
  {
   "cell_type": "markdown",
   "id": "3dd7d13f",
   "metadata": {},
   "source": [
    "<hr>\n",
    "<h4>4. CARBONATOS (Discreta)</h4>\n",
    "<p>Datos únicos: </p>"
   ]
  },
  {
   "cell_type": "code",
   "execution_count": 21,
   "id": "6e789b50",
   "metadata": {},
   "outputs": [
    {
     "name": "stdout",
     "output_type": "stream",
     "text": [
      "[0.78811705 1.79775369 1.53975677]\n"
     ]
    }
   ],
   "source": [
    "print(datos.Carbonatos.unique())"
   ]
  },
  {
   "cell_type": "code",
   "execution_count": 22,
   "id": "8e8f7c82",
   "metadata": {},
   "outputs": [
    {
     "name": "stdout",
     "output_type": "stream",
     "text": [
      "Máximo:  1.7977536916732788\n",
      "Mínimo:  0.7881170511245728\n",
      "Media:  1.5881183053606882\n",
      "STD:  4.123052954286027\n"
     ]
    }
   ],
   "source": [
    "print(\"Máximo: \", max(datos.Carbonatos))\n",
    "print(\"Mínimo: \", min(datos.Carbonatos))\n",
    "print(\"Media: \", datos[\"Carbonatos\"].mean())\n",
    "print(\"STD: \", datos[\"Arenas\"].std())"
   ]
  },
  {
   "cell_type": "code",
   "execution_count": 23,
   "id": "2b09b85b",
   "metadata": {},
   "outputs": [
    {
     "data": {
      "image/png": "[encoded data removed]",
      "text/plain": [
       "<Figure size 432x288 with 1 Axes>"
      ]
     },
     "metadata": {
      "needs_background": "light"
     },
     "output_type": "display_data"
    }
   ],
   "source": [
    "sns.boxplot( y=datos[\"Carbonatos\"] );\n",
    "plt.show()"
   ]
  },
  {
   "cell_type": "code",
   "execution_count": 24,
   "id": "7e3ce39a",
   "metadata": {},
   "outputs": [
    {
     "data": {
      "image/png": "[encoded data removed]",
      "text/plain": [
       "<Figure size 432x288 with 1 Axes>"
      ]
     },
     "metadata": {
      "needs_background": "light"
     },
     "output_type": "display_data"
    }
   ],
   "source": [
    "sns.histplot(data=datos, x=\"Carbonatos\")\n",
    "plt.show()"
   ]
  },
  {
   "cell_type": "markdown",
   "id": "c8085147",
   "metadata": {},
   "source": [
    "<hr>\n",
    "<h4>4. CARBONO ORGÁNICO (Continua)</h4>\n",
    "<p>Datos únicos: </p>"
   ]
  },
  {
   "cell_type": "code",
   "execution_count": 25,
   "id": "ab9082a1",
   "metadata": {},
   "outputs": [
    {
     "name": "stdout",
     "output_type": "stream",
     "text": [
      "[285.146698   304.39660645 308.1880188  327.4697876  274.49468994\n",
      " 390.69924927 255.46438599 231.16914368 317.78106689 351.97528076\n",
      " 501.88345337 485.07629395 500.49411011 192.77412415 505.90756226\n",
      " 437.30740356 244.12886047 296.19656372 335.49963379 399.75363159\n",
      " 333.85925293 538.64025879 525.03076172 520.26818848 476.2571106\n",
      " 437.47964478 165.88427734 263.77172852 244.25024414 364.99520874\n",
      " 390.57281494 557.08435059 534.84680176 514.61987305 529.63024902\n",
      " 420.05392456 418.20883179 431.64245605 284.72869873 265.2824707\n",
      " 331.04098511 324.39083862 350.01348877 492.18630981 515.67126465\n",
      " 498.11352539 444.07666016 441.54541016 407.47875977 288.74642944\n",
      " 231.12298584 257.7883606  488.79104614 491.54714966 541.88995361\n",
      " 522.85546875 526.21435547 544.19281006 476.99679565 457.30105591\n",
      " 287.63095093 301.60812378 286.22912598 408.1696167  455.81478882\n",
      " 531.11737061 554.4354248  576.9942627  503.84866333 448.64871216\n",
      " 453.76150513 461.82733154 320.76239014 317.91958618 269.42910767\n",
      " 471.30291748 499.72845459 529.22711182 501.3190918  547.26501465\n",
      " 491.5151062  442.33917236 415.0322876  333.79556274 292.72799683\n",
      " 463.79818726 442.30429077 510.78543091 487.71530151 515.78387451\n",
      " 407.66931152 468.58987427 473.58462524 409.73638916 342.18713379\n",
      " 289.2338562  407.98303223 372.02020264 434.30053711 422.83248901\n",
      " 503.48962402 520.74633789 475.28271484 480.53103638 308.15811157\n",
      " 351.04391479 389.46893311 389.34738159 415.29629517 418.21392822\n",
      " 487.83773804 526.2923584  493.03201294 478.91607666 286.5843811\n",
      " 320.777771   390.86575317 435.38397217 503.07781982 488.80377197\n",
      " 525.59155273 516.49536133 540.17144775 440.79742432 248.91313171\n",
      " 283.28134155 387.2623291  453.96817017 434.98086548 494.65438843\n",
      " 518.68518066 503.71264648 527.39013672 224.24569702 262.427948\n",
      " 423.309021   422.35223389 459.12747192 389.15509033 418.4624939\n",
      " 455.32470703 500.80493164 554.14440918 425.82949829 414.96026611\n",
      " 456.70001221 427.10168457 391.19436646 419.84500122 434.93618774\n",
      " 443.04922485 488.30773926 391.86044312 466.2741394  386.32849121\n",
      " 454.73944092 476.0899353  483.61608887 534.14349365 502.2795105\n",
      " 371.75512695 441.95391846 463.26074219 458.78015137 435.86270142\n",
      " 530.42736816 513.26409912 509.30780029 361.65737915 450.06347656\n",
      " 499.44894409 519.75634766 504.06744385 465.98822021 503.03521729\n",
      " 352.90087891 465.96908569 492.92526245 501.09133911 436.14654541\n",
      " 363.95108032 418.12600708 498.59393311 525.51104736]\n"
     ]
    }
   ],
   "source": [
    "print(datos.Carbono_Organico.unique())"
   ]
  },
  {
   "cell_type": "code",
   "execution_count": 26,
   "id": "e8dbad0f",
   "metadata": {},
   "outputs": [
    {
     "name": "stdout",
     "output_type": "stream",
     "text": [
      "Máximo:  576.9942626953125\n",
      "Mínimo:  165.88427734375\n",
      "Media:  431.52598911731616\n",
      "STD:  88.84059099156663\n"
     ]
    }
   ],
   "source": [
    "print(\"Máximo: \", max(datos.Carbono_Organico))\n",
    "print(\"Mínimo: \", min(datos.Carbono_Organico))\n",
    "print(\"Media: \", datos[\"Carbono_Organico\"].mean())\n",
    "print(\"STD: \", datos[\"Carbono_Organico\"].std())"
   ]
  },
  {
   "cell_type": "code",
   "execution_count": 27,
   "id": "594a5e12",
   "metadata": {},
   "outputs": [
    {
     "data": {
      "image/png": "[encoded data removed]",
      "text/plain": [
       "<Figure size 432x288 with 1 Axes>"
      ]
     },
     "metadata": {
      "needs_background": "light"
     },
     "output_type": "display_data"
    }
   ],
   "source": [
    "sns.boxplot( y=datos[\"Carbono_Organico\"] );\n",
    "plt.show()"
   ]
  },
  {
   "cell_type": "code",
   "execution_count": 28,
   "id": "035c3f1b",
   "metadata": {},
   "outputs": [
    {
     "data": {
      "image/png": "[encoded data removed]",
      "text/plain": [
       "<Figure size 432x288 with 1 Axes>"
      ]
     },
     "metadata": {
      "needs_background": "light"
     },
     "output_type": "display_data"
    }
   ],
   "source": [
    "sns.histplot(data=datos, x=\"Carbono_Organico\")\n",
    "plt.show()"
   ]
  },
  {
   "cell_type": "markdown",
   "id": "e286d9ad",
   "metadata": {},
   "source": [
    "<hr>\n",
    "<h4>5. CÁRCAVAS (Categórica)</h4>\n",
    "<p>Datos únicos: </p>"
   ]
  },
  {
   "cell_type": "code",
   "execution_count": 29,
   "id": "84124b86",
   "metadata": {},
   "outputs": [
    {
     "name": "stdout",
     "output_type": "stream",
     "text": [
      "[0. 1.]\n"
     ]
    }
   ],
   "source": [
    "print(datos.Carcavas.unique())"
   ]
  },
  {
   "cell_type": "code",
   "execution_count": 30,
   "id": "ddc71b24",
   "metadata": {},
   "outputs": [
    {
     "name": "stdout",
     "output_type": "stream",
     "text": [
      "Máximo:  1.0\n",
      "Mínimo:  0.0\n",
      "Media:  0.030057170394059536\n",
      "STD:  0.17074470752502366\n"
     ]
    }
   ],
   "source": [
    "print(\"Máximo: \", max(datos.Carcavas))\n",
    "print(\"Mínimo: \", min(datos.Carcavas))\n",
    "print(\"Media: \", datos[\"Carcavas\"].mean())\n",
    "print(\"STD: \", datos[\"Carcavas\"].std())"
   ]
  },
  {
   "cell_type": "code",
   "execution_count": 31,
   "id": "4ff2e419",
   "metadata": {
    "scrolled": true
   },
   "outputs": [
    {
     "data": {
      "image/png": "[encoded data removed]",
      "text/plain": [
       "<Figure size 432x288 with 1 Axes>"
      ]
     },
     "metadata": {
      "needs_background": "light"
     },
     "output_type": "display_data"
    }
   ],
   "source": [
    "sns.boxplot( y=datos[\"Carcavas\"] );\n",
    "plt.show()"
   ]
  },
  {
   "cell_type": "code",
   "execution_count": 32,
   "id": "dcc0f18d",
   "metadata": {
    "scrolled": true
   },
   "outputs": [
    {
     "data": {
      "image/png": "[encoded data removed]",
      "text/plain": [
       "<Figure size 432x288 with 1 Axes>"
      ]
     },
     "metadata": {
      "needs_background": "light"
     },
     "output_type": "display_data"
    }
   ],
   "source": [
    "sns.histplot(data=datos, x=\"Carcavas\")\n",
    "plt.show()"
   ]
  },
  {
   "cell_type": "markdown",
   "id": "7f0443a9",
   "metadata": {},
   "source": [
    "<hr>\n",
    "<h4>6. CURVATURA PERFIL (Continua)</h4>\n",
    "<p>Datos únicos: </p>"
   ]
  },
  {
   "cell_type": "code",
   "execution_count": 33,
   "id": "42446274",
   "metadata": {},
   "outputs": [
    {
     "name": "stdout",
     "output_type": "stream",
     "text": [
      "[-0.00183517 -0.00184951  0.00061803 ...  0.00181466 -0.00440698\n",
      " -0.00369884]\n"
     ]
    }
   ],
   "source": [
    "print(datos.Curvatura_Perfil.unique())"
   ]
  },
  {
   "cell_type": "code",
   "execution_count": 34,
   "id": "e0b4e187",
   "metadata": {},
   "outputs": [
    {
     "name": "stdout",
     "output_type": "stream",
     "text": [
      "Máximo:  0.25045478343963623\n",
      "Mínimo:  -0.4562755525112152\n",
      "Media:  3.3407002133693396e-05\n",
      "STD:  0.015444187509799864\n"
     ]
    }
   ],
   "source": [
    "print(\"Máximo: \", max(datos.Curvatura_Perfil))\n",
    "print(\"Mínimo: \", min(datos.Curvatura_Perfil))\n",
    "print(\"Media: \", datos[\"Curvatura_Perfil\"].mean())\n",
    "print(\"STD: \", datos[\"Curvatura_Perfil\"].std())"
   ]
  },
  {
   "cell_type": "code",
   "execution_count": 35,
   "id": "4d940754",
   "metadata": {
    "scrolled": false
   },
   "outputs": [
    {
     "data": {
      "image/png": "[encoded data removed]",
      "text/plain": [
       "<Figure size 432x288 with 1 Axes>"
      ]
     },
     "metadata": {
      "needs_background": "light"
     },
     "output_type": "display_data"
    }
   ],
   "source": [
    "sns.boxplot( y=datos[\"Curvatura_Perfil\"] );\n",
    "plt.show()"
   ]
  },
  {
   "cell_type": "code",
   "execution_count": 36,
   "id": "76f100e6",
   "metadata": {
    "scrolled": false
   },
   "outputs": [
    {
     "data": {
      "image/png": "[encoded data removed]",
      "text/plain": [
       "<Figure size 432x288 with 1 Axes>"
      ]
     },
     "metadata": {
      "needs_background": "light"
     },
     "output_type": "display_data"
    }
   ],
   "source": [
    "sns.histplot(data=datos, x=\"Curvatura_Perfil\")\n",
    "plt.show()"
   ]
  },
  {
   "cell_type": "markdown",
   "id": "aa71f298",
   "metadata": {},
   "source": [
    "<hr>\n",
    "<h4>7. CURVATURA PLANA (Continua)</h4>\n",
    "<p>Datos únicos: </p>"
   ]
  },
  {
   "cell_type": "code",
   "execution_count": 37,
   "id": "6d1129af",
   "metadata": {},
   "outputs": [
    {
     "name": "stdout",
     "output_type": "stream",
     "text": [
      "[-0.12451447 -0.06756548  0.03689012 ...  0.04878346 -0.01525788\n",
      " -0.0157585 ]\n"
     ]
    }
   ],
   "source": [
    "print(datos.Curvatura_Plana.unique())"
   ]
  },
  {
   "cell_type": "code",
   "execution_count": 38,
   "id": "f1a07775",
   "metadata": {},
   "outputs": [
    {
     "name": "stdout",
     "output_type": "stream",
     "text": [
      "Máximo:  158.94403076171875\n",
      "Mínimo:  -82.95050811767578\n",
      "Media:  -0.001002467858022653\n",
      "STD:  0.21050333931209222\n"
     ]
    }
   ],
   "source": [
    "print(\"Máximo: \", max(datos.Curvatura_Plana))\n",
    "print(\"Mínimo: \", min(datos.Curvatura_Plana))\n",
    "print(\"Media: \", datos[\"Curvatura_Plana\"].mean())\n",
    "print(\"STD: \", datos[\"Curvatura_Plana\"].std())"
   ]
  },
  {
   "cell_type": "code",
   "execution_count": 39,
   "id": "45dc44c2",
   "metadata": {
    "scrolled": false
   },
   "outputs": [
    {
     "data": {
      "image/png": "[encoded data removed]",
      "text/plain": [
       "<Figure size 432x288 with 1 Axes>"
      ]
     },
     "metadata": {
      "needs_background": "light"
     },
     "output_type": "display_data"
    }
   ],
   "source": [
    "sns.boxplot( y=datos[\"Curvatura_Plana\"] );\n",
    "plt.show()"
   ]
  },
  {
   "cell_type": "markdown",
   "id": "768ad6dc",
   "metadata": {},
   "source": [
    "<hr>\n",
    "<h4>8. DISTANCIA CARRETERAS (Continua)</h4>\n",
    "<p>Datos únicos: </p>"
   ]
  },
  {
   "cell_type": "code",
   "execution_count": 40,
   "id": "17addaa3",
   "metadata": {
    "scrolled": true
   },
   "outputs": [
    {
     "name": "stdout",
     "output_type": "stream",
     "text": [
      "[ 327.18496704  324.07562256  321.01400757 ... 1496.27868652 1470.34863281\n",
      " 1485.43762207]\n"
     ]
    }
   ],
   "source": [
    "print(datos.Distancia_Carreteras.unique())"
   ]
  },
  {
   "cell_type": "code",
   "execution_count": 41,
   "id": "1ef0ce19",
   "metadata": {
    "scrolled": true
   },
   "outputs": [
    {
     "name": "stdout",
     "output_type": "stream",
     "text": [
      "Máximo:  1709.334716796875\n",
      "Mínimo:  0.0\n",
      "Media:  550.2662335680966\n",
      "STD:  403.9126048354622\n"
     ]
    }
   ],
   "source": [
    "print(\"Máximo: \", max(datos.Distancia_Carreteras))\n",
    "print(\"Mínimo: \", min(datos.Distancia_Carreteras))\n",
    "print(\"Media: \", datos[\"Distancia_Carreteras\"].mean())\n",
    "print(\"STD: \", datos[\"Distancia_Carreteras\"].std())"
   ]
  },
  {
   "cell_type": "code",
   "execution_count": 42,
   "id": "8983f288",
   "metadata": {
    "scrolled": true
   },
   "outputs": [
    {
     "data": {
      "image/png": "[encoded data removed]",
      "text/plain": [
       "<Figure size 432x288 with 1 Axes>"
      ]
     },
     "metadata": {
      "needs_background": "light"
     },
     "output_type": "display_data"
    }
   ],
   "source": [
    "sns.boxplot( y=datos[\"Distancia_Carreteras\"] );\n",
    "plt.show()"
   ]
  },
  {
   "cell_type": "code",
   "execution_count": 43,
   "id": "f797791f",
   "metadata": {
    "scrolled": false
   },
   "outputs": [
    {
     "data": {
      "image/png": "[encoded data removed]",
      "text/plain": [
       "<Figure size 432x288 with 1 Axes>"
      ]
     },
     "metadata": {
      "needs_background": "light"
     },
     "output_type": "display_data"
    }
   ],
   "source": [
    "sns.histplot(data=datos, x=\"Distancia_Carreteras\")\n",
    "plt.show()"
   ]
  },
  {
   "cell_type": "markdown",
   "id": "343cfdc8",
   "metadata": {},
   "source": [
    "<hr>\n",
    "<h4>9. FACTOR LS (Continua)</h4>\n",
    "<p>Datos únicos: </p>"
   ]
  },
  {
   "cell_type": "code",
   "execution_count": 44,
   "id": "b5967001",
   "metadata": {
    "scrolled": false
   },
   "outputs": [
    {
     "name": "stdout",
     "output_type": "stream",
     "text": [
      "[ 0.7407  0.8496  0.5347 ... 11.665   9.3023 10.5699]\n"
     ]
    }
   ],
   "source": [
    "print(datos.Factor_LS.unique())"
   ]
  },
  {
   "cell_type": "code",
   "execution_count": 45,
   "id": "9f5e0f96",
   "metadata": {
    "scrolled": true
   },
   "outputs": [
    {
     "name": "stdout",
     "output_type": "stream",
     "text": [
      "Máximo:  109282.8281\n",
      "Mínimo:  0.0\n",
      "Media:  35.386319052168055\n",
      "STD:  757.5804617922471\n"
     ]
    }
   ],
   "source": [
    "print(\"Máximo: \", max(datos.Factor_LS))\n",
    "print(\"Mínimo: \", min(datos.Factor_LS))\n",
    "print(\"Media: \", datos[\"Factor_LS\"].mean())\n",
    "print(\"STD: \", datos[\"Factor_LS\"].std())"
   ]
  },
  {
   "cell_type": "code",
   "execution_count": 46,
   "id": "527e302d",
   "metadata": {
    "scrolled": false
   },
   "outputs": [
    {
     "data": {
      "image/png": "[encoded data removed]",
      "text/plain": [
       "<Figure size 432x288 with 1 Axes>"
      ]
     },
     "metadata": {
      "needs_background": "light"
     },
     "output_type": "display_data"
    }
   ],
   "source": [
    "sns.boxplot( y=datos[\"Factor_LS\"] );\n",
    "plt.show()"
   ]
  },
  {
   "cell_type": "markdown",
   "id": "93a12159",
   "metadata": {},
   "source": [
    "<hr>\n",
    "<h4>10. GEOLOGIA (Categórica)</h4>\n",
    "<p>Datos únicos: </p>"
   ]
  },
  {
   "cell_type": "code",
   "execution_count": 47,
   "id": "ea60a2b5",
   "metadata": {
    "scrolled": true
   },
   "outputs": [
    {
     "name": "stdout",
     "output_type": "stream",
     "text": [
      "[6. 4. 5. 2. 1. 3.]\n"
     ]
    }
   ],
   "source": [
    "print(datos.Geologia.unique())"
   ]
  },
  {
   "cell_type": "code",
   "execution_count": 48,
   "id": "a65bf52b",
   "metadata": {
    "scrolled": false
   },
   "outputs": [
    {
     "name": "stdout",
     "output_type": "stream",
     "text": [
      "Máximo:  6.0\n",
      "Mínimo:  1.0\n",
      "Media:  3.8099833839741404\n",
      "STD:  0.6299384523891146\n"
     ]
    }
   ],
   "source": [
    "print(\"Máximo: \", max(datos.Geologia))\n",
    "print(\"Mínimo: \", min(datos.Geologia))\n",
    "print(\"Media: \", datos[\"Geologia\"].mean())\n",
    "print(\"STD: \", datos[\"Geologia\"].std())"
   ]
  },
  {
   "cell_type": "code",
   "execution_count": 49,
   "id": "5ccd7520",
   "metadata": {
    "scrolled": true
   },
   "outputs": [
    {
     "data": {
      "image/png": "[encoded data removed]",
      "text/plain": [
       "<Figure size 432x288 with 1 Axes>"
      ]
     },
     "metadata": {
      "needs_background": "light"
     },
     "output_type": "display_data"
    }
   ],
   "source": [
    "sns.boxplot( y=datos[\"Geologia\"] );\n",
    "plt.show()"
   ]
  },
  {
   "cell_type": "code",
   "execution_count": 50,
   "id": "660a108b",
   "metadata": {
    "scrolled": false
   },
   "outputs": [
    {
     "data": {
      "image/png": "[encoded data removed]",
      "text/plain": [
       "<Figure size 432x288 with 1 Axes>"
      ]
     },
     "metadata": {
      "needs_background": "light"
     },
     "output_type": "display_data"
    }
   ],
   "source": [
    "sns.histplot(data=datos, x=\"Geologia\")\n",
    "plt.show()"
   ]
  },
  {
   "cell_type": "markdown",
   "id": "83cd15f7",
   "metadata": {},
   "source": [
    "<hr>\n",
    "<h4>11. LIMOS (Continua)</h4>\n",
    "<p>Datos únicos: </p>"
   ]
  },
  {
   "cell_type": "code",
   "execution_count": 51,
   "id": "f8613a8e",
   "metadata": {
    "scrolled": true
   },
   "outputs": [
    {
     "name": "stdout",
     "output_type": "stream",
     "text": [
      "[34.36614227 45.46409225 44.72913742 47.08349991 35.52183533 47.16384888\n",
      " 45.47115707 46.80448151 47.49399948 46.37127304 45.10635376 44.5092392\n",
      " 40.21770477 39.4064064  46.79101562 47.31301117 43.38642502 49.29040527\n",
      " 45.91330719 44.14500427 51.17815018 47.81594086 46.36906815 43.28029251\n",
      " 46.96247864 48.68807983 46.12511826 48.72214508 46.79764175 46.23837662\n",
      " 48.44787979 44.5215683  46.3616066  44.11801529 44.99458694 44.02661133\n",
      " 43.34886169 47.17279053 42.63620377 45.23182678 45.74852371 46.13512421\n",
      " 44.38256073 47.46865845 46.24105835 46.8848381  42.14260483 40.61928558\n",
      " 43.04967499 41.81665802 47.63878632 45.44713593 46.49720001 49.5751915\n",
      " 44.74920654 43.75881958 42.80666733 43.32799149 41.72814941 41.73824692\n",
      " 46.43943787 45.69335556 49.24763107 45.07496262 47.73125458 48.75404739\n",
      " 47.05492783 49.67920685 43.08116531 45.77487183 43.77780914 40.50045013\n",
      " 40.07164001 41.99282455 45.65740204 47.47563934 45.21114731 46.20895767\n",
      " 45.55035019 43.39310837 46.85840988 40.91582489 41.15031433 44.51425934\n",
      " 46.20641327 45.89400101 47.64598465 45.2286911  44.33149719 42.58061218\n",
      " 46.87665558 50.26861954 45.1696167  42.38904572 38.39266586 40.91266251\n",
      " 45.64123535 43.91807556 45.28546906 45.46194077 45.9611702  45.25614929\n",
      " 47.71778107 46.21770477 41.35126877 40.34292603 43.1691246  43.35221481\n",
      " 46.00178146 45.00546646 45.96922684 47.98384857 49.64190674 45.16895294\n",
      " 40.20330048 39.45262527 41.50608444 46.83084869 44.11896896 43.02035522\n",
      " 45.68037415 46.37506104 44.90126801 41.97677612 39.04981232 40.27991486\n",
      " 42.7525177  42.04420853 44.7118454  44.86601639 45.80469894 49.41054153\n",
      " 43.77981949 46.2686882  41.69327927 37.62174606 42.55952835 41.26896286\n",
      " 41.86633301 41.32237244 45.22646332 44.73449707 46.16287613 44.93244553\n",
      " 40.1855545  38.89763641 43.66148376 37.5920639  39.35292435 45.4733963\n",
      " 41.46034241 43.52020645 41.5341835  40.72373199 40.32829285 45.82933426\n",
      " 44.97822571 46.83470917 48.15408707 46.59188461 46.62741852 42.00959396\n",
      " 44.77293015 44.375103   48.73591995 47.30469131 43.31056976 42.85133362\n",
      " 38.60705185 39.9448204  45.97799301 43.02167892 45.68734741 44.6281395\n",
      " 44.77167892 42.25075912 43.6010704  44.95398331 43.67541885 42.19597626\n",
      " 37.03129578 43.85017776 43.35549545 42.81392288]\n"
     ]
    }
   ],
   "source": [
    "print(datos.Limos.unique())"
   ]
  },
  {
   "cell_type": "code",
   "execution_count": 52,
   "id": "d1764df1",
   "metadata": {
    "scrolled": false
   },
   "outputs": [
    {
     "name": "stdout",
     "output_type": "stream",
     "text": [
      "Máximo:  51.17815017700195\n",
      "Mínimo:  34.36614227294922\n",
      "Media:  44.60974582930064\n",
      "STD:  2.791150738675267\n"
     ]
    }
   ],
   "source": [
    "print(\"Máximo: \", max(datos.Limos))\n",
    "print(\"Mínimo: \", min(datos.Limos))\n",
    "print(\"Media: \", datos[\"Limos\"].mean())\n",
    "print(\"STD: \", datos[\"Limos\"].std())"
   ]
  },
  {
   "cell_type": "code",
   "execution_count": 53,
   "id": "23093c90",
   "metadata": {
    "scrolled": true
   },
   "outputs": [
    {
     "data": {
      "image/png": "[encoded data removed]",
      "text/plain": [
       "<Figure size 432x288 with 1 Axes>"
      ]
     },
     "metadata": {
      "needs_background": "light"
     },
     "output_type": "display_data"
    }
   ],
   "source": [
    "sns.boxplot( y=datos[\"Limos\"] );\n",
    "plt.show()"
   ]
  },
  {
   "cell_type": "code",
   "execution_count": 54,
   "id": "c13009fb",
   "metadata": {
    "scrolled": false
   },
   "outputs": [
    {
     "data": {
      "image/png": "[encoded data removed]",
      "text/plain": [
       "<Figure size 432x288 with 1 Axes>"
      ]
     },
     "metadata": {
      "needs_background": "light"
     },
     "output_type": "display_data"
    }
   ],
   "source": [
    "sns.histplot(data=datos, x=\"Limos\")\n",
    "plt.show()"
   ]
  },
  {
   "cell_type": "markdown",
   "id": "54dd7d46",
   "metadata": {},
   "source": [
    "<hr>\n",
    "<h4>12. ORIENTACIONES (Categórica)</h4>\n",
    "<p>Datos únicos: </p>"
   ]
  },
  {
   "cell_type": "code",
   "execution_count": 55,
   "id": "81f79b9a",
   "metadata": {
    "scrolled": true
   },
   "outputs": [
    {
     "name": "stdout",
     "output_type": "stream",
     "text": [
      "[8. 1. 2. 6. 7. 3. 5. 4.]\n"
     ]
    }
   ],
   "source": [
    "print(datos.Orientaciones.unique())"
   ]
  },
  {
   "cell_type": "code",
   "execution_count": 56,
   "id": "aef4030b",
   "metadata": {
    "scrolled": false
   },
   "outputs": [
    {
     "name": "stdout",
     "output_type": "stream",
     "text": [
      "Máximo:  8.0\n",
      "Mínimo:  1.0\n",
      "Media:  5.474087448485626\n",
      "STD:  2.2560598365017257\n"
     ]
    }
   ],
   "source": [
    "print(\"Máximo: \", max(datos.Orientaciones))\n",
    "print(\"Mínimo: \", min(datos.Orientaciones))\n",
    "print(\"Media: \", datos[\"Orientaciones\"].mean())\n",
    "print(\"STD: \", datos[\"Orientaciones\"].std())"
   ]
  },
  {
   "cell_type": "code",
   "execution_count": 57,
   "id": "548e82d4",
   "metadata": {
    "scrolled": true
   },
   "outputs": [
    {
     "data": {
      "image/png": "[encoded data removed]",
      "text/plain": [
       "<Figure size 432x288 with 1 Axes>"
      ]
     },
     "metadata": {
      "needs_background": "light"
     },
     "output_type": "display_data"
    }
   ],
   "source": [
    "sns.boxplot( y=datos[\"Orientaciones\"] );\n",
    "plt.show()"
   ]
  },
  {
   "cell_type": "code",
   "execution_count": 58,
   "id": "2c24cd73",
   "metadata": {
    "scrolled": true
   },
   "outputs": [
    {
     "data": {
      "image/png": "[encoded data removed]",
      "text/plain": [
       "<Figure size 432x288 with 1 Axes>"
      ]
     },
     "metadata": {
      "needs_background": "light"
     },
     "output_type": "display_data"
    }
   ],
   "source": [
    "sns.histplot(data=datos, x=\"Orientaciones\")\n",
    "plt.show()"
   ]
  },
  {
   "cell_type": "markdown",
   "id": "06b07160",
   "metadata": {},
   "source": [
    "<hr>\n",
    "<h4>13. OVERLAND FLOW DISTANCE (Continua)</h4>\n",
    "<p>Datos únicos: </p>"
   ]
  },
  {
   "cell_type": "code",
   "execution_count": 59,
   "id": "2ab760c9",
   "metadata": {
    "scrolled": false
   },
   "outputs": [
    {
     "name": "stdout",
     "output_type": "stream",
     "text": [
      "[558.69122314 564.8447876  571.91186523 ... 207.25691223 199.49252319\n",
      " 200.25138855]\n"
     ]
    }
   ],
   "source": [
    "print(datos.Overland_Flow_Distance.unique())"
   ]
  },
  {
   "cell_type": "code",
   "execution_count": 60,
   "id": "1d065fcb",
   "metadata": {
    "scrolled": true
   },
   "outputs": [
    {
     "name": "stdout",
     "output_type": "stream",
     "text": [
      "Máximo:  10095.7265625\n",
      "Mínimo:  0.0\n",
      "Media:  3182.59440352746\n",
      "STD:  2065.3382336858294\n"
     ]
    }
   ],
   "source": [
    "print(\"Máximo: \", max(datos.Overland_Flow_Distance))\n",
    "print(\"Mínimo: \", min(datos.Overland_Flow_Distance))\n",
    "print(\"Media: \", datos[\"Overland_Flow_Distance\"].mean())\n",
    "print(\"STD: \", datos[\"Overland_Flow_Distance\"].std())"
   ]
  },
  {
   "cell_type": "code",
   "execution_count": 61,
   "id": "512f7f81",
   "metadata": {
    "scrolled": true
   },
   "outputs": [
    {
     "data": {
      "image/png": "[encoded data removed]",
      "text/plain": [
       "<Figure size 432x288 with 1 Axes>"
      ]
     },
     "metadata": {
      "needs_background": "light"
     },
     "output_type": "display_data"
    }
   ],
   "source": [
    "sns.boxplot( y=datos[\"Overland_Flow_Distance\"] );\n",
    "plt.show()"
   ]
  },
  {
   "cell_type": "code",
   "execution_count": 62,
   "id": "0ab18b81",
   "metadata": {
    "scrolled": false
   },
   "outputs": [
    {
     "data": {
      "image/png": "[encoded data removed]",
      "text/plain": [
       "<Figure size 432x288 with 1 Axes>"
      ]
     },
     "metadata": {
      "needs_background": "light"
     },
     "output_type": "display_data"
    }
   ],
   "source": [
    "sns.histplot(data=datos, x=\"Overland_Flow_Distance\")\n",
    "plt.show()"
   ]
  },
  {
   "cell_type": "markdown",
   "id": "d94748c9",
   "metadata": {},
   "source": [
    "<hr>\n",
    "<h4>14. PENDIENTE (Continua)</h4>\n",
    "<p>Datos únicos: </p>"
   ]
  },
  {
   "cell_type": "code",
   "execution_count": 63,
   "id": "c718276b",
   "metadata": {
    "scrolled": true
   },
   "outputs": [
    {
     "name": "stdout",
     "output_type": "stream",
     "text": [
      "[2.61290288 2.69291973 2.88967514 ... 7.06149673 7.0793829  6.83673286]\n"
     ]
    }
   ],
   "source": [
    "print(datos.Pendiente.unique())"
   ]
  },
  {
   "cell_type": "code",
   "execution_count": 64,
   "id": "11e123c3",
   "metadata": {
    "scrolled": false
   },
   "outputs": [
    {
     "name": "stdout",
     "output_type": "stream",
     "text": [
      "Máximo:  56.52096939086914\n",
      "Mínimo:  0.0\n",
      "Media:  10.138483603019795\n",
      "STD:  5.4317060626202585\n"
     ]
    }
   ],
   "source": [
    "print(\"Máximo: \", max(datos.Pendiente))\n",
    "print(\"Mínimo: \", min(datos.Pendiente))\n",
    "print(\"Media: \", datos[\"Pendiente\"].mean())\n",
    "print(\"STD: \", datos[\"Pendiente\"].std())"
   ]
  },
  {
   "cell_type": "code",
   "execution_count": 65,
   "id": "d52354d7",
   "metadata": {
    "scrolled": false
   },
   "outputs": [
    {
     "data": {
      "image/png": "[encoded data removed]",
      "text/plain": [
       "<Figure size 432x288 with 1 Axes>"
      ]
     },
     "metadata": {
      "needs_background": "light"
     },
     "output_type": "display_data"
    }
   ],
   "source": [
    "sns.boxplot( y=datos[\"Pendiente\"] );\n",
    "plt.show()"
   ]
  },
  {
   "cell_type": "markdown",
   "id": "932dc114",
   "metadata": {},
   "source": [
    "<hr>\n",
    "<h4>15. STREAM POWER INDEX (Continua)</h4>\n",
    "<p>Datos únicos: </p>"
   ]
  },
  {
   "cell_type": "code",
   "execution_count": 66,
   "id": "859feb7f",
   "metadata": {
    "scrolled": false
   },
   "outputs": [
    {
     "name": "stdout",
     "output_type": "stream",
     "text": [
      "[-1066.79821777  -571.08001709  -164.47866821 ...  1587.32763672\n",
      "   382.09741211  1028.82055664]\n"
     ]
    }
   ],
   "source": [
    "print(datos.Stream_Power_Index.unique())"
   ]
  },
  {
   "cell_type": "code",
   "execution_count": 67,
   "id": "407e20c7",
   "metadata": {
    "scrolled": false
   },
   "outputs": [
    {
     "name": "stdout",
     "output_type": "stream",
     "text": [
      "Máximo:  551972864.0\n",
      "Mínimo:  -3720811520.0\n",
      "Media:  -2197.2379256956137\n",
      "STD:  3114497.077827948\n"
     ]
    }
   ],
   "source": [
    "print(\"Máximo: \", max(datos.Stream_Power_Index))\n",
    "print(\"Mínimo: \", min(datos.Stream_Power_Index))\n",
    "print(\"Media: \", datos[\"Stream_Power_Index\"].mean())\n",
    "print(\"STD: \", datos[\"Stream_Power_Index\"].std())"
   ]
  },
  {
   "cell_type": "code",
   "execution_count": 68,
   "id": "1f51ac24",
   "metadata": {
    "scrolled": false
   },
   "outputs": [
    {
     "data": {
      "image/png": "[encoded data removed]",
      "text/plain": [
       "<Figure size 432x288 with 1 Axes>"
      ]
     },
     "metadata": {
      "needs_background": "light"
     },
     "output_type": "display_data"
    }
   ],
   "source": [
    "sns.boxplot( y=datos[\"Stream_Power_Index\"] );\n",
    "plt.show()"
   ]
  },
  {
   "cell_type": "markdown",
   "id": "f9718614",
   "metadata": {},
   "source": [
    "<hr>\n",
    "<h4>16. TOPOGRAPHIC POSITION INDEX (Continua)</h4>\n",
    "<p>Datos únicos: </p>"
   ]
  },
  {
   "cell_type": "code",
   "execution_count": 69,
   "id": "c0f876b0",
   "metadata": {
    "scrolled": true
   },
   "outputs": [
    {
     "name": "stdout",
     "output_type": "stream",
     "text": [
      "[-1.3603363  -1.43238044 -1.4690237  ... -5.94215775 -6.30127287\n",
      " -6.18561172]\n"
     ]
    }
   ],
   "source": [
    "print(datos.Topographic_Position_Index.unique())"
   ]
  },
  {
   "cell_type": "code",
   "execution_count": 70,
   "id": "3823262d",
   "metadata": {
    "scrolled": false
   },
   "outputs": [
    {
     "name": "stdout",
     "output_type": "stream",
     "text": [
      "Máximo:  21.639244079589844\n",
      "Mínimo:  -26.37703514099121\n",
      "Media:  0.03530094478042968\n",
      "STD:  3.2229483229286338\n"
     ]
    }
   ],
   "source": [
    "print(\"Máximo: \", max(datos.Topographic_Position_Index))\n",
    "print(\"Mínimo: \", min(datos.Topographic_Position_Index))\n",
    "print(\"Media: \", datos[\"Topographic_Position_Index\"].mean())\n",
    "print(\"STD: \", datos[\"Topographic_Position_Index\"].std())"
   ]
  },
  {
   "cell_type": "code",
   "execution_count": 71,
   "id": "93e539b7",
   "metadata": {
    "scrolled": false
   },
   "outputs": [
    {
     "data": {
      "image/png": "[encoded data removed]",
      "text/plain": [
       "<Figure size 432x288 with 1 Axes>"
      ]
     },
     "metadata": {
      "needs_background": "light"
     },
     "output_type": "display_data"
    }
   ],
   "source": [
    "sns.boxplot( y=datos[\"Topographic_Position_Index\"] );\n",
    "plt.show()"
   ]
  },
  {
   "cell_type": "code",
   "execution_count": 72,
   "id": "be92d20a",
   "metadata": {
    "scrolled": false
   },
   "outputs": [
    {
     "data": {
      "image/png": "[encoded data removed]",
      "text/plain": [
       "<Figure size 432x288 with 1 Axes>"
      ]
     },
     "metadata": {
      "needs_background": "light"
     },
     "output_type": "display_data"
    }
   ],
   "source": [
    "sns.histplot(data=datos, x=\"Topographic_Position_Index\")\n",
    "plt.show()"
   ]
  },
  {
   "cell_type": "markdown",
   "id": "959f528b",
   "metadata": {},
   "source": [
    "<hr>\n",
    "<h4>17. TOPOGRAPHIC WETNESS INDEX (Continua)</h4>\n",
    "<p>Datos únicos: </p>"
   ]
  },
  {
   "cell_type": "code",
   "execution_count": 73,
   "id": "2877bb25",
   "metadata": {
    "scrolled": true
   },
   "outputs": [
    {
     "name": "stdout",
     "output_type": "stream",
     "text": [
      "[14.50175381 14.40320873 14.07023048 ...  7.48375463  8.70713806\n",
      "  7.74621296]\n"
     ]
    }
   ],
   "source": [
    "print(datos.Topographic_Wetness_Index.unique())"
   ]
  },
  {
   "cell_type": "code",
   "execution_count": 74,
   "id": "5e0ce563",
   "metadata": {
    "scrolled": false
   },
   "outputs": [
    {
     "name": "stdout",
     "output_type": "stream",
     "text": [
      "Máximo:  20.13279914855957\n",
      "Mínimo:  -10.7699556350708\n",
      "Media:  9.704938522499742\n",
      "STD:  3.797291892080003\n"
     ]
    }
   ],
   "source": [
    "print(\"Máximo: \", max(datos.Topographic_Wetness_Index))\n",
    "print(\"Mínimo: \", min(datos.Topographic_Wetness_Index))\n",
    "print(\"Media: \", datos[\"Topographic_Wetness_Index\"].mean())\n",
    "print(\"STD: \", datos[\"Topographic_Wetness_Index\"].std())"
   ]
  },
  {
   "cell_type": "code",
   "execution_count": 75,
   "id": "118f3f5d",
   "metadata": {
    "scrolled": false
   },
   "outputs": [
    {
     "data": {
      "image/png": "[encoded data removed]",
      "text/plain": [
       "<Figure size 432x288 with 1 Axes>"
      ]
     },
     "metadata": {
      "needs_background": "light"
     },
     "output_type": "display_data"
    }
   ],
   "source": [
    "sns.boxplot( y=datos[\"Topographic_Wetness_Index\"] );\n",
    "plt.show()"
   ]
  },
  {
   "cell_type": "code",
   "execution_count": 76,
   "id": "ca74f714",
   "metadata": {
    "scrolled": false
   },
   "outputs": [
    {
     "data": {
      "image/png": "[encoded data removed]",
      "text/plain": [
       "<Figure size 432x288 with 1 Axes>"
      ]
     },
     "metadata": {
      "needs_background": "light"
     },
     "output_type": "display_data"
    }
   ],
   "source": [
    "sns.histplot(data=datos, x=\"Topographic_Wetness_Index\")\n",
    "plt.show()"
   ]
  },
  {
   "cell_type": "markdown",
   "id": "b0e29f47",
   "metadata": {},
   "source": [
    "<hr>\n",
    "<h4>18. UNIDADES EDÁFICAS (Categórica)</h4>\n",
    "<p>Datos únicos: </p>"
   ]
  },
  {
   "cell_type": "code",
   "execution_count": 77,
   "id": "2162847c",
   "metadata": {
    "scrolled": false
   },
   "outputs": [
    {
     "name": "stdout",
     "output_type": "stream",
     "text": [
      "[22. 48. 44. 23.]\n"
     ]
    }
   ],
   "source": [
    "print(datos.Unidades_Edaficas.unique())"
   ]
  },
  {
   "cell_type": "code",
   "execution_count": 78,
   "id": "f3da5d35",
   "metadata": {
    "scrolled": true
   },
   "outputs": [
    {
     "name": "stdout",
     "output_type": "stream",
     "text": [
      "Máximo:  48.0\n",
      "Mínimo:  22.0\n",
      "Media:  45.824032218192514\n",
      "STD:  4.969856073481469\n"
     ]
    }
   ],
   "source": [
    "print(\"Máximo: \", max(datos.Unidades_Edaficas))\n",
    "print(\"Mínimo: \", min(datos.Unidades_Edaficas))\n",
    "print(\"Media: \", datos[\"Unidades_Edaficas\"].mean())\n",
    "print(\"STD: \", datos[\"Unidades_Edaficas\"].std())"
   ]
  },
  {
   "cell_type": "code",
   "execution_count": 79,
   "id": "d0346c4c",
   "metadata": {
    "scrolled": true
   },
   "outputs": [
    {
     "data": {
      "image/png": "[encoded data removed]",
      "text/plain": [
       "<Figure size 432x288 with 1 Axes>"
      ]
     },
     "metadata": {
      "needs_background": "light"
     },
     "output_type": "display_data"
    }
   ],
   "source": [
    "sns.boxplot( y=datos[\"Unidades_Edaficas\"] );\n",
    "plt.show()"
   ]
  },
  {
   "cell_type": "code",
   "execution_count": 80,
   "id": "4a6080dc",
   "metadata": {
    "scrolled": true
   },
   "outputs": [
    {
     "data": {
      "image/png": "[encoded data removed]",
      "text/plain": [
       "<Figure size 432x288 with 1 Axes>"
      ]
     },
     "metadata": {
      "needs_background": "light"
     },
     "output_type": "display_data"
    }
   ],
   "source": [
    "sns.histplot(data=datos, x=\"Unidades_Edaficas\")\n",
    "plt.show()"
   ]
  },
  {
   "cell_type": "markdown",
   "id": "f98e84b5",
   "metadata": {},
   "source": [
    "<hr>\n",
    "<h4>19. USOS DEL SUELO (Categórica)</h4>\n",
    "<p>Datos únicos: </p>"
   ]
  },
  {
   "cell_type": "code",
   "execution_count": 81,
   "id": "03702ed0",
   "metadata": {
    "scrolled": false
   },
   "outputs": [
    {
     "name": "stdout",
     "output_type": "stream",
     "text": [
      "[3. 4. 2.]\n"
     ]
    }
   ],
   "source": [
    "print(datos.Usos_Del_Suelo.unique())"
   ]
  },
  {
   "cell_type": "code",
   "execution_count": 82,
   "id": "07f9efaa",
   "metadata": {
    "scrolled": true
   },
   "outputs": [
    {
     "name": "stdout",
     "output_type": "stream",
     "text": [
      "Máximo:  4.0\n",
      "Mínimo:  2.0\n",
      "Media:  2.9834972510021247\n",
      "STD:  0.22266038129496996\n"
     ]
    }
   ],
   "source": [
    "print(\"Máximo: \", max(datos.Usos_Del_Suelo))\n",
    "print(\"Mínimo: \", min(datos.Usos_Del_Suelo))\n",
    "print(\"Media: \", datos[\"Usos_Del_Suelo\"].mean())\n",
    "print(\"STD: \", datos[\"Usos_Del_Suelo\"].std())"
   ]
  },
  {
   "cell_type": "code",
   "execution_count": 83,
   "id": "9b6b99e3",
   "metadata": {
    "scrolled": true
   },
   "outputs": [
    {
     "data": {
      "image/png": "[encoded data removed]",
      "text/plain": [
       "<Figure size 432x288 with 1 Axes>"
      ]
     },
     "metadata": {
      "needs_background": "light"
     },
     "output_type": "display_data"
    }
   ],
   "source": [
    "sns.boxplot( y=datos[\"Usos_Del_Suelo\"] );\n",
    "plt.show()"
   ]
  },
  {
   "cell_type": "code",
   "execution_count": 84,
   "id": "3d8cb7f0",
   "metadata": {
    "scrolled": false
   },
   "outputs": [
    {
     "data": {
      "image/png": "[encoded data removed]",
      "text/plain": [
       "<Figure size 432x288 with 1 Axes>"
      ]
     },
     "metadata": {
      "needs_background": "light"
     },
     "output_type": "display_data"
    }
   ],
   "source": [
    "sns.histplot(data=datos, x=\"Usos_Del_Suelo\")\n",
    "plt.show()"
   ]
  }
 ],
 "metadata": {
  "kernelspec": {
   "display_name": "Python 3 (ipykernel)",
   "language": "python",
   "name": "python3"
  },
  "language_info": {
   "codemirror_mode": {
    "name": "ipython",
    "version": 3
   },
   "file_extension": ".py",
   "mimetype": "text/x-python",
   "name": "python",
   "nbconvert_exporter": "python",
   "pygments_lexer": "ipython3",
   "version": "3.8.11"
  }
 },
 "nbformat": 4,
 "nbformat_minor": 5
}
