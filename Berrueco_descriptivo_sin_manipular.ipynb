{
 "cells": [
  {
   "cell_type": "markdown",
   "id": "623d7cc7",
   "metadata": {},
   "source": [
    "<h1>Importación de librerias</h1>"
   ]
  },
  {
   "cell_type": "code",
   "execution_count": 1,
   "id": "acb51609",
   "metadata": {},
   "outputs": [],
   "source": [
    "import os\n",
    "import pandas as pd\n",
    "from osgeo import gdal\n",
    "import numpy as np\n",
    "import seaborn as sns\n",
    "import matplotlib.pyplot as plt"
   ]
  },
  {
   "cell_type": "markdown",
   "id": "f179e8b3",
   "metadata": {},
   "source": [
    "<h3>Proceso de carga de datos en formato .TIF para poder ser manipulados y visualizados</h3>\n",
    "<p>Creamos vectores donde almacenar los nombres de archivos</p>"
   ]
  },
  {
   "cell_type": "code",
   "execution_count": 2,
   "id": "0dea8c86",
   "metadata": {},
   "outputs": [],
   "source": [
    "dir = \"Raster/Berrueco II\"\n",
    "ficheros=[]\n",
    "nombre=[]"
   ]
  },
  {
   "cell_type": "markdown",
   "id": "cefb8d26",
   "metadata": {},
   "source": [
    "<p>Path de ficheros TIF para ordenarlos</p>"
   ]
  },
  {
   "cell_type": "code",
   "execution_count": 3,
   "id": "069c0698",
   "metadata": {},
   "outputs": [],
   "source": [
    "for file in os.listdir(dir):\n",
    "        if file.endswith(\".tif\"):\n",
    "            ficheros.append(os.path.join(dir, file))\n",
    "            nombre.append(file.split('.')[0])"
   ]
  },
  {
   "cell_type": "markdown",
   "id": "d727a42d",
   "metadata": {},
   "source": [
    "<p>Ordenamos por nombre la lista de ficheros y de nombres de ficheros<p>"
   ]
  },
  {
   "cell_type": "code",
   "execution_count": 4,
   "id": "61127b5d",
   "metadata": {},
   "outputs": [
    {
     "data": {
      "text/plain": [
       "['Altitud',\n",
       " 'Arcillas',\n",
       " 'Arenas',\n",
       " 'Carbonatos',\n",
       " 'Carbono_Organico',\n",
       " 'Carcavas',\n",
       " 'Curvatura_Perfil',\n",
       " 'Curvatura_Plana',\n",
       " 'Distancia_Carreteras',\n",
       " 'Factor_LS',\n",
       " 'Geologia',\n",
       " 'Limos',\n",
       " 'Orientaciones',\n",
       " 'Overland_Flow_Distance',\n",
       " 'Pendiente',\n",
       " 'Stream_Power_Index',\n",
       " 'Topographic_Position_Index',\n",
       " 'Topographic_Wetness_Index',\n",
       " 'Unidades_Edaficas',\n",
       " 'Usos_Del_Suelo']"
      ]
     },
     "execution_count": 4,
     "metadata": {},
     "output_type": "execute_result"
    }
   ],
   "source": [
    "sorted(ficheros)\n",
    "sorted(nombre)"
   ]
  },
  {
   "cell_type": "markdown",
   "id": "e4fcaf4d",
   "metadata": {},
   "source": [
    "<p>Creamos un Dataframe con el nombre de los TIF</p>"
   ]
  },
  {
   "cell_type": "code",
   "execution_count": 5,
   "id": "a86dfd7b",
   "metadata": {},
   "outputs": [],
   "source": [
    "datos = pd.DataFrame(columns=nombre)"
   ]
  },
  {
   "cell_type": "markdown",
   "id": "4b64f416",
   "metadata": {},
   "source": [
    "<p>Recoger tamaño de las imagenes TIF que vamos a tratar</p>"
   ]
  },
  {
   "cell_type": "code",
   "execution_count": 6,
   "id": "408fa8d8",
   "metadata": {},
   "outputs": [
    {
     "name": "stdout",
     "output_type": "stream",
     "text": [
      "Tamaño archivos cargados: 1540 x 980 \n",
      "\n"
     ]
    }
   ],
   "source": [
    "tif = gdal.Open(ficheros[1])\n",
    "tif_band = tif.GetRasterBand(1)\n",
    "x = tif_band.XSize\n",
    "y = tif_band.YSize\n",
    "print(\"Tamaño archivos cargados:\",x,\"x\",y,\"\\n\")"
   ]
  },
  {
   "cell_type": "markdown",
   "id": "f5d9f951",
   "metadata": {},
   "source": [
    "<p>Recorremos lista de ficheros. SOLO TRATAMOS LOS DATOS NO DATA -> -1</p>"
   ]
  },
  {
   "cell_type": "code",
   "execution_count": 7,
   "id": "2a3cd7b7",
   "metadata": {},
   "outputs": [],
   "source": [
    "contador = 0\n",
    "for f in ficheros:\n",
    "    n = nombre[contador]\n",
    "    MDT = gdal.Open(f)\n",
    "    \n",
    "    # Patrones sin datos se incluyen como -1\n",
    "    MDT.GetRasterBand(1).SetNoDataValue(-1)\n",
    "    \n",
    "    # Pasamos los datos a float\n",
    "    band = MDT.GetRasterBand(1).ReadAsArray().astype(float)\n",
    "    \n",
    "    # Se desechan las dos primeras filas y columnas debido a calculos de borde\n",
    "    band = band[1:y, 1:x]\n",
    "    \n",
    "    # Reconstruimos el array con el tamaño de filas x columnas\n",
    "    x_recorte = x - 1\n",
    "    y_recorte = y - 1\n",
    "    band = np.reshape(band, x_recorte*y_recorte)\n",
    "    \n",
    "    # Estos serán nuestros datos\n",
    "    datos[n] = band\n",
    "    \n",
    "    contador = contador + 1"
   ]
  },
  {
   "cell_type": "markdown",
   "id": "fcf97ffe",
   "metadata": {},
   "source": [
    "<hr>\n",
    "<h3>Proceso de visualización de datos (SIN TRATAR ni utilizar ENCODE, datos en crudo)</h3>"
   ]
  },
  {
   "cell_type": "markdown",
   "id": "c675cdab",
   "metadata": {},
   "source": [
    "<h4>1. ALTITUD (Continua)</h4>\n",
    "<p>Datos únicos: </p>"
   ]
  },
  {
   "cell_type": "code",
   "execution_count": 8,
   "id": "b66c62dd",
   "metadata": {
    "scrolled": true
   },
   "outputs": [
    {
     "name": "stdout",
     "output_type": "stream",
     "text": [
      "[335.08200073 334.99798584 334.99398804 ... 363.81100464 364.89401245\n",
      " 377.34399414]\n"
     ]
    }
   ],
   "source": [
    "print(datos.Altitud.unique())"
   ]
  },
  {
   "cell_type": "code",
   "execution_count": 9,
   "id": "b0ac5d3c",
   "metadata": {},
   "outputs": [
    {
     "name": "stdout",
     "output_type": "stream",
     "text": [
      "Máximo:  597.3300170898438\n",
      "Mínimo:  319.3869934082031\n",
      "Media:  434.51609908975917\n",
      "STD:  45.96829436124962\n"
     ]
    }
   ],
   "source": [
    "print(\"Máximo: \", max(datos.Altitud))\n",
    "print(\"Mínimo: \", min(datos.Altitud))\n",
    "print(\"Media: \", datos[\"Altitud\"].mean())\n",
    "print(\"STD: \", datos[\"Altitud\"].std())\n"
   ]
  },
  {
   "cell_type": "code",
   "execution_count": 10,
   "id": "6d0969f8",
   "metadata": {},
   "outputs": [
    {
     "data": {
      "image/png": "[encoded data removed]",
      "text/plain": [
       "<Figure size 432x288 with 1 Axes>"
      ]
     },
     "metadata": {
      "needs_background": "light"
     },
     "output_type": "display_data"
    }
   ],
   "source": [
    "sns.boxplot( y=datos[\"Altitud\"] );\n",
    "plt.show()"
   ]
  },
  {
   "cell_type": "code",
   "execution_count": 11,
   "id": "f5533317",
   "metadata": {},
   "outputs": [
    {
     "data": {
      "image/png": "[encoded data removed]",
      "text/plain": [
       "<Figure size 432x288 with 1 Axes>"
      ]
     },
     "metadata": {
      "needs_background": "light"
     },
     "output_type": "display_data"
    }
   ],
   "source": [
    "sns.histplot(data=datos, x=\"Altitud\")\n",
    "plt.show()"
   ]
  },
  {
   "cell_type": "markdown",
   "id": "607f458e",
   "metadata": {},
   "source": [
    "<hr>\n",
    "<h4>2. ARCILLAS (Continua)</h4>\n",
    "<p>Datos únicos: </p>"
   ]
  },
  {
   "cell_type": "code",
   "execution_count": 12,
   "id": "9e8784ec",
   "metadata": {},
   "outputs": [
    {
     "name": "stdout",
     "output_type": "stream",
     "text": [
      "[-3.40282347e+38  4.12312737e+01  3.81525040e+01  3.86056786e+01\n",
      "  3.79228706e+01  4.50158730e+01  4.01295052e+01  3.96007957e+01\n",
      "  3.83386078e+01  3.64399376e+01  4.64837265e+01  4.55423508e+01\n",
      "  4.33093872e+01  4.14295082e+01  3.60319443e+01  4.29500275e+01\n",
      "  3.81090889e+01  3.43966103e+01  4.30795097e+01  4.10004883e+01\n",
      "  4.21534729e+01  4.52983360e+01  4.90545120e+01  4.05100021e+01\n",
      "  4.49505844e+01  3.29338837e+01  3.22853775e+01  3.52291985e+01\n",
      "  3.52503242e+01  3.83882713e+01  3.74584503e+01  3.57979774e+01\n",
      "  3.34136391e+01  4.15903931e+01  3.65595589e+01  4.28387260e+01\n",
      "  4.15485687e+01  4.17124329e+01  4.39355659e+01  3.65998993e+01\n",
      "  4.24837723e+01  3.62450790e+01  3.64040489e+01  3.45597191e+01\n",
      "  3.21714516e+01  3.51589584e+01  3.60608025e+01  3.42357826e+01\n",
      "  3.59729156e+01  3.28521500e+01  3.78262863e+01  3.71650848e+01\n",
      "  4.21380081e+01  4.20761871e+01  4.25008163e+01  4.23161926e+01\n",
      "  3.84460106e+01  3.73790932e+01  3.62261658e+01  3.44814224e+01\n",
      "  3.32487907e+01  3.62950325e+01  2.87661076e+01  3.56443977e+01\n",
      "  3.39847717e+01  3.47849045e+01  3.62197037e+01  3.70739632e+01\n",
      "  4.20224838e+01  4.34429169e+01  4.89286842e+01  4.61265259e+01\n",
      "  4.42949867e+01  4.16274376e+01  4.16037865e+01  3.29220314e+01\n",
      "  3.30963058e+01  3.66033020e+01  3.40625381e+01  3.69469719e+01\n",
      "  2.85356884e+01  3.68782883e+01  3.28723602e+01  3.46704369e+01\n",
      "  3.76174622e+01  4.24335213e+01  4.22342682e+01  3.95302277e+01\n",
      "  4.29091568e+01  4.41868744e+01  4.84234505e+01  4.65196648e+01\n",
      "  3.79841461e+01  3.14141579e+01  3.01465111e+01  2.92297363e+01\n",
      "  2.93490791e+01  2.88710365e+01  3.16874905e+01  3.49172363e+01\n",
      "  3.55097618e+01  3.80966492e+01  4.32716751e+01  3.76953697e+01\n",
      "  4.00919762e+01  4.30099030e+01  4.60547180e+01  4.49737511e+01\n",
      "  4.52085190e+01  4.34870148e+01  3.25128479e+01  3.28688583e+01\n",
      "  3.12404633e+01  3.27278175e+01  3.82605515e+01  3.61233368e+01\n",
      "  3.48479500e+01  3.75984383e+01  4.27503242e+01  4.68016014e+01\n",
      "  4.11341248e+01  4.38554497e+01  4.27166328e+01  4.30871849e+01\n",
      "  4.60883255e+01  4.46150093e+01  4.54933701e+01  3.77410622e+01\n",
      "  3.94640694e+01  3.32715721e+01  3.85520325e+01  4.00936584e+01\n",
      "  3.46676674e+01  3.51890182e+01  3.59180756e+01  4.09318771e+01\n",
      "  4.16647186e+01  4.36961823e+01  4.59976463e+01  4.53889236e+01\n",
      "  4.30763321e+01  4.69845047e+01  4.85204620e+01  4.57307434e+01\n",
      "  4.24749451e+01  3.83212624e+01  3.72342758e+01  3.91031761e+01\n",
      "  4.39848785e+01  4.02006912e+01  3.97584915e+01  3.98215027e+01\n",
      "  4.07976646e+01  4.42589569e+01  4.30185852e+01  4.47840157e+01\n",
      "  4.62760468e+01  4.48869781e+01  4.52265282e+01  4.51838989e+01\n",
      "  3.97336769e+01  4.23208237e+01  3.97725258e+01  4.23243294e+01\n",
      "  4.45681839e+01  3.88745728e+01  3.66886635e+01  3.71933022e+01]\n"
     ]
    }
   ],
   "source": [
    "print(datos.Arcillas.unique())"
   ]
  },
  {
   "cell_type": "code",
   "execution_count": 13,
   "id": "d11d91c1",
   "metadata": {},
   "outputs": [
    {
     "name": "stdout",
     "output_type": "stream",
     "text": [
      "Máximo:  49.05451202392578\n",
      "Mínimo:  -3.4028234663852886e+38\n",
      "Media:  -2.99407974839198e+36\n",
      "STD:  3.1778430413690185e+37\n"
     ]
    }
   ],
   "source": [
    "print(\"Máximo: \", max(datos.Arcillas))\n",
    "print(\"Mínimo: \", min(datos.Arcillas))\n",
    "print(\"Media: \", datos[\"Arcillas\"].mean())\n",
    "print(\"STD: \", datos[\"Arcillas\"].std())"
   ]
  },
  {
   "cell_type": "code",
   "execution_count": 14,
   "id": "d105209e",
   "metadata": {
    "scrolled": true
   },
   "outputs": [
    {
     "data": {
      "image/png": "[encoded data removed]",
      "text/plain": [
       "<Figure size 432x288 with 1 Axes>"
      ]
     },
     "metadata": {
      "needs_background": "light"
     },
     "output_type": "display_data"
    }
   ],
   "source": [
    "sns.boxplot( y=datos[\"Arcillas\"] );\n",
    "plt.show()"
   ]
  },
  {
   "cell_type": "markdown",
   "id": "29e9a038",
   "metadata": {},
   "source": [
    "<hr>\n",
    "<h4>3. ARENAS (Continua)</h4>\n",
    "<p>Datos únicos: </p>"
   ]
  },
  {
   "cell_type": "code",
   "execution_count": 15,
   "id": "8498fe0d",
   "metadata": {},
   "outputs": [
    {
     "name": "stdout",
     "output_type": "stream",
     "text": [
      "[-3.40282347e+38  1.78144455e+01  1.30733795e+01  1.25964584e+01\n",
      "  1.35490875e+01  1.39981155e+01  2.20773315e+01  1.07426605e+01\n",
      "  1.22176056e+01  1.58847656e+01  1.10752563e+01  1.45705261e+01\n",
      "  1.91266556e+01  9.84263611e+00  2.60247040e+01  1.84689102e+01\n",
      "  1.77417450e+01  2.47283859e+01  1.97298279e+01  2.05036926e+01\n",
      "  1.23399506e+01  8.16096497e+00  6.43371582e+00  1.11614990e+01\n",
      "  1.23509903e+01  1.80154419e+01  1.86549835e+01  1.37975159e+01\n",
      "  2.10029526e+01  1.55725555e+01  1.53273468e+01  1.62092972e+01\n",
      "  1.55224152e+01  4.72036743e+00  1.79592590e+01  1.50817108e+01\n",
      "  1.98408661e+01  2.04696350e+01  1.24257812e+01  2.04901276e+01\n",
      "  9.78955078e+00  1.68879852e+01  1.52195282e+01  2.49170685e+01\n",
      "  2.34683456e+01  2.10669250e+01  1.86507187e+01  2.36360931e+01\n",
      "  1.89089890e+01  2.01791077e+01  1.02116623e+01  1.12432556e+01\n",
      "  1.78483887e+01  1.68259811e+01  1.64495392e+01  1.66638107e+01\n",
      "  1.56057968e+01  1.25583344e+01  1.59421387e+01  1.62549438e+01\n",
      "  2.15077057e+01  1.70888824e+01  2.58614655e+01  2.09406662e+01\n",
      "  2.02625885e+01  1.61013336e+01  1.94400101e+01  1.47484283e+01\n",
      "  1.69580536e+01  1.81167603e+01  1.35310898e+01  1.56837158e+01\n",
      "  1.41407318e+01  1.00530243e+01  1.57171783e+01  2.06481781e+01\n",
      "  2.14101868e+01  1.85842285e+01  2.05326996e+01  2.14602356e+01\n",
      "  1.84649506e+01  1.29730225e+01  1.98997040e+01  1.94580154e+01\n",
      "  2.11132965e+01  1.65394287e+01  1.65755768e+01  1.90149078e+01\n",
      "  1.37355347e+01  1.53922729e+01  7.28606415e+00  1.42833405e+01\n",
      "  2.16805420e+01  2.00198059e+01  2.35431900e+01  2.50897369e+01\n",
      "  2.77123413e+01  2.82914581e+01  2.63348160e+01  2.04710007e+01\n",
      "  1.80770111e+01  2.20121078e+01  1.95139465e+01  2.10625458e+01\n",
      "  1.94273682e+01  9.12850189e+00  1.09300842e+01  1.86965485e+01\n",
      "  1.02756119e+01  1.33964539e+01  2.03890533e+01  1.99793854e+01\n",
      "  2.40207825e+01  2.39547729e+01  1.58694305e+01  1.77005920e+01\n",
      "  2.15060501e+01  1.78076019e+01  1.72189331e+01  1.41313019e+01\n",
      "  1.95453033e+01  1.55847015e+01  9.37640381e+00  1.08102875e+01\n",
      "  1.47617645e+01  1.96555481e+01  9.75815582e+00  1.73954620e+01\n",
      "  1.27746582e+01  2.24670410e+01  1.55158691e+01  1.49016647e+01\n",
      "  1.62104416e+01  1.59508438e+01  2.17757263e+01  2.51707153e+01\n",
      "  1.34179306e+01  1.32422485e+01  1.58970947e+01  1.14374008e+01\n",
      "  1.23805389e+01  1.45270844e+01  1.08967743e+01  1.12821045e+01\n",
      "  1.25941620e+01  1.63883514e+01  1.73761139e+01  1.57312012e+01\n",
      "  1.75490723e+01  1.58116302e+01  1.64243240e+01  1.49418335e+01\n",
      "  2.59575806e+01  1.31594238e+01  1.73327942e+01  1.25507507e+01\n",
      "  1.05478287e+01  1.22093811e+01  1.09008865e+01  1.31131897e+01\n",
      "  1.50606079e+01  1.39553375e+01  1.86430664e+01  1.29841614e+01\n",
      "  1.39629059e+01  1.82436829e+01  1.98617401e+01  1.92015228e+01]\n"
     ]
    }
   ],
   "source": [
    "print(datos.Arenas.unique())"
   ]
  },
  {
   "cell_type": "code",
   "execution_count": 16,
   "id": "4f4fd638",
   "metadata": {},
   "outputs": [
    {
     "name": "stdout",
     "output_type": "stream",
     "text": [
      "Máximo:  28.291458129882812\n",
      "Mínimo:  -3.4028234663852886e+38\n",
      "Media:  -2.99407974839198e+36\n",
      "STD:  3.1778430413690185e+37\n"
     ]
    }
   ],
   "source": [
    "print(\"Máximo: \", max(datos.Arenas))\n",
    "print(\"Mínimo: \", min(datos.Arenas))\n",
    "print(\"Media: \", datos[\"Arenas\"].mean())\n",
    "print(\"STD: \", datos[\"Arenas\"].std())"
   ]
  },
  {
   "cell_type": "code",
   "execution_count": 17,
   "id": "9cb47f71",
   "metadata": {},
   "outputs": [
    {
     "data": {
      "image/png": "[encoded data removed]",
      "text/plain": [
       "<Figure size 432x288 with 1 Axes>"
      ]
     },
     "metadata": {
      "needs_background": "light"
     },
     "output_type": "display_data"
    }
   ],
   "source": [
    "sns.boxplot( y=datos[\"Arenas\"] );\n",
    "plt.show()"
   ]
  },
  {
   "cell_type": "markdown",
   "id": "3dd7d13f",
   "metadata": {},
   "source": [
    "<hr>\n",
    "<h4>4. CARBONATOS (Discreta)</h4>\n",
    "<p>Datos únicos: </p>"
   ]
  },
  {
   "cell_type": "code",
   "execution_count": 18,
   "id": "6e789b50",
   "metadata": {},
   "outputs": [
    {
     "name": "stdout",
     "output_type": "stream",
     "text": [
      "[-3.40282347e+38  3.00000000e+00  4.00000000e+00]\n"
     ]
    }
   ],
   "source": [
    "print(datos.Carbonatos.unique())"
   ]
  },
  {
   "cell_type": "code",
   "execution_count": 19,
   "id": "8e8f7c82",
   "metadata": {},
   "outputs": [
    {
     "name": "stdout",
     "output_type": "stream",
     "text": [
      "Máximo:  4.0\n",
      "Mínimo:  -3.4028234663852886e+38\n",
      "Media:  -2.99407974839198e+36\n",
      "STD:  3.1778430413690185e+37\n"
     ]
    }
   ],
   "source": [
    "print(\"Máximo: \", max(datos.Carbonatos))\n",
    "print(\"Mínimo: \", min(datos.Carbonatos))\n",
    "print(\"Media: \", datos[\"Carbonatos\"].mean())\n",
    "print(\"STD: \", datos[\"Arenas\"].std())"
   ]
  },
  {
   "cell_type": "code",
   "execution_count": 20,
   "id": "2b09b85b",
   "metadata": {},
   "outputs": [
    {
     "data": {
      "image/png": "[encoded data removed]",
      "text/plain": [
       "<Figure size 432x288 with 1 Axes>"
      ]
     },
     "metadata": {
      "needs_background": "light"
     },
     "output_type": "display_data"
    }
   ],
   "source": [
    "sns.boxplot( y=datos[\"Carbonatos\"] );\n",
    "plt.show()"
   ]
  },
  {
   "cell_type": "code",
   "execution_count": 21,
   "id": "7e3ce39a",
   "metadata": {},
   "outputs": [
    {
     "data": {
      "image/png": "[encoded data removed]",
      "text/plain": [
       "<Figure size 432x288 with 1 Axes>"
      ]
     },
     "metadata": {
      "needs_background": "light"
     },
     "output_type": "display_data"
    }
   ],
   "source": [
    "sns.histplot(data=datos, x=\"Carbonatos\")\n",
    "plt.show()"
   ]
  },
  {
   "cell_type": "markdown",
   "id": "c8085147",
   "metadata": {},
   "source": [
    "<hr>\n",
    "<h4>4. CARBONO ORGÁNICO (Continua)</h4>\n",
    "<p>Datos únicos: </p>"
   ]
  },
  {
   "cell_type": "code",
   "execution_count": 22,
   "id": "ab9082a1",
   "metadata": {},
   "outputs": [
    {
     "name": "stdout",
     "output_type": "stream",
     "text": [
      "[-3.40282347e+38  3.21802795e+02  4.14981720e+02  4.79618958e+02\n",
      "  4.61625153e+02  3.38176147e+02  2.81146484e+02  5.06080536e+02\n",
      "  3.86230042e+02  3.87796570e+02  2.70614014e+02  3.40193665e+02\n",
      "  2.92393829e+02  4.69763214e+02  2.33587662e+02  1.98548508e+02\n",
      "  2.15764114e+02  2.40950745e+02  2.85048340e+02  2.41578766e+02\n",
      "  2.28375183e+02  3.59819153e+02  3.63319580e+02  4.08367828e+02\n",
      "  3.98261108e+02  5.40766235e+02  5.30020630e+02  5.56403687e+02\n",
      "  4.44693268e+02  4.74596893e+02  5.95354919e+02  5.96714111e+02\n",
      "  5.59940063e+02  5.57229858e+02  5.41902527e+02  2.77864990e+02\n",
      "  3.05370453e+02  3.64153137e+02  4.27038513e+02  4.55521851e+02\n",
      "  4.32357941e+02  5.47506897e+02  5.24779358e+02  5.00803558e+02\n",
      "  4.81645691e+02  5.50849976e+02  5.59244690e+02  5.12679260e+02\n",
      "  5.67112427e+02  6.14185791e+02  4.61041779e+02  4.77596375e+02\n",
      "  3.34160980e+02  3.04002472e+02  3.26351135e+02  3.63690857e+02\n",
      "  4.65951233e+02  5.04863678e+02  5.21937927e+02  5.28772339e+02\n",
      "  5.11373962e+02  5.67926086e+02  5.32967102e+02  4.76508331e+02\n",
      "  5.43888550e+02  5.63220764e+02  5.78069092e+02  5.83394897e+02\n",
      "  3.29849335e+02  2.69078552e+02  3.04989685e+02  3.03293640e+02\n",
      "  2.96012512e+02  4.24514343e+02  4.10333405e+02  4.98361938e+02\n",
      "  5.25232971e+02  5.62291443e+02  5.39347961e+02  4.96843964e+02\n",
      "  5.93538208e+02  5.89520203e+02  5.20398987e+02  5.51790100e+02\n",
      "  2.96313416e+02  3.13132385e+02  2.30292648e+02  2.30363297e+02\n",
      "  3.11865234e+02  3.76043060e+02  3.56555237e+02  3.19326599e+02\n",
      "  3.61500641e+02  5.34949768e+02  5.87966858e+02  6.07369263e+02\n",
      "  6.20192200e+02  5.72284851e+02  5.82352905e+02  5.98941284e+02\n",
      "  5.50454712e+02  3.35634949e+02  2.66240051e+02  2.67314606e+02\n",
      "  2.54125443e+02  3.03114746e+02  3.32203674e+02  3.14880005e+02\n",
      "  3.01522430e+02  3.53321564e+02  5.63780579e+02  5.58577881e+02\n",
      "  5.49109619e+02  5.53711548e+02  3.99462250e+02  5.55620483e+02\n",
      "  5.45669434e+02  4.96052765e+02  2.95187805e+02  2.73394592e+02\n",
      "  3.39053467e+02  3.07617981e+02  3.00206146e+02  3.20575195e+02\n",
      "  3.11763702e+02  3.25907623e+02  3.91078857e+02  4.77105713e+02\n",
      "  4.65532227e+02  4.67898102e+02  4.63673065e+02  4.12938934e+02\n",
      "  4.51819672e+02  4.42017700e+02  4.47147949e+02  2.72272522e+02\n",
      "  4.24931580e+02  3.89830658e+02  3.70547577e+02  3.13591156e+02\n",
      "  3.18872345e+02  3.06886353e+02  3.46435791e+02  4.12562561e+02\n",
      "  4.17449280e+02  4.14581207e+02  4.10348907e+02  4.06623352e+02\n",
      "  2.94929626e+02  3.87082275e+02  3.84540588e+02  4.37251373e+02\n",
      "  3.32836670e+02  3.59477234e+02  3.59009888e+02  3.50392120e+02\n",
      "  3.61431335e+02  3.24014252e+02  3.46158142e+02  3.80282410e+02\n",
      "  4.43224731e+02  3.66459534e+02  3.58676270e+02  3.50451202e+02\n",
      "  3.14199219e+02  4.10843170e+02  4.06318085e+02  4.10375702e+02]\n"
     ]
    }
   ],
   "source": [
    "print(datos.Carbono_Organico.unique())"
   ]
  },
  {
   "cell_type": "code",
   "execution_count": 23,
   "id": "e8dbad0f",
   "metadata": {},
   "outputs": [
    {
     "name": "stdout",
     "output_type": "stream",
     "text": [
      "Máximo:  620.1921997070312\n",
      "Mínimo:  -3.4028234663852886e+38\n",
      "Media:  -2.99407974839198e+36\n",
      "STD:  3.1778430413690185e+37\n"
     ]
    }
   ],
   "source": [
    "print(\"Máximo: \", max(datos.Carbono_Organico))\n",
    "print(\"Mínimo: \", min(datos.Carbono_Organico))\n",
    "print(\"Media: \", datos[\"Carbono_Organico\"].mean())\n",
    "print(\"STD: \", datos[\"Carbono_Organico\"].std())"
   ]
  },
  {
   "cell_type": "code",
   "execution_count": 24,
   "id": "594a5e12",
   "metadata": {},
   "outputs": [
    {
     "data": {
      "image/png": "[encoded data removed]",
      "text/plain": [
       "<Figure size 432x288 with 1 Axes>"
      ]
     },
     "metadata": {
      "needs_background": "light"
     },
     "output_type": "display_data"
    }
   ],
   "source": [
    "sns.boxplot( y=datos[\"Carbono_Organico\"] );\n",
    "plt.show()"
   ]
  },
  {
   "cell_type": "markdown",
   "id": "e286d9ad",
   "metadata": {},
   "source": [
    "<hr>\n",
    "<h4>5. CÁRCAVAS (Categórica)</h4>\n",
    "<p>Datos únicos: </p>"
   ]
  },
  {
   "cell_type": "code",
   "execution_count": 25,
   "id": "84124b86",
   "metadata": {},
   "outputs": [
    {
     "name": "stdout",
     "output_type": "stream",
     "text": [
      "[-9.999e+03  0.000e+00  1.000e+00]\n"
     ]
    }
   ],
   "source": [
    "print(datos.Carcavas.unique())"
   ]
  },
  {
   "cell_type": "code",
   "execution_count": 26,
   "id": "ddc71b24",
   "metadata": {},
   "outputs": [
    {
     "name": "stdout",
     "output_type": "stream",
     "text": [
      "Máximo:  1.0\n",
      "Mínimo:  -9999.0\n",
      "Media:  -84.19960827806284\n",
      "STD:  913.8874513004766\n"
     ]
    }
   ],
   "source": [
    "print(\"Máximo: \", max(datos.Carcavas))\n",
    "print(\"Mínimo: \", min(datos.Carcavas))\n",
    "print(\"Media: \", datos[\"Carcavas\"].mean())\n",
    "print(\"STD: \", datos[\"Carcavas\"].std())"
   ]
  },
  {
   "cell_type": "code",
   "execution_count": 27,
   "id": "4ff2e419",
   "metadata": {
    "scrolled": true
   },
   "outputs": [
    {
     "data": {
      "image/png": "[encoded data removed]",
      "text/plain": [
       "<Figure size 432x288 with 1 Axes>"
      ]
     },
     "metadata": {
      "needs_background": "light"
     },
     "output_type": "display_data"
    }
   ],
   "source": [
    "sns.boxplot( y=datos[\"Carcavas\"] );\n",
    "plt.show()"
   ]
  },
  {
   "cell_type": "code",
   "execution_count": 28,
   "id": "dcc0f18d",
   "metadata": {
    "scrolled": true
   },
   "outputs": [
    {
     "data": {
      "image/png": "[encoded data removed]",
      "text/plain": [
       "<Figure size 432x288 with 1 Axes>"
      ]
     },
     "metadata": {
      "needs_background": "light"
     },
     "output_type": "display_data"
    }
   ],
   "source": [
    "sns.histplot(data=datos, x=\"Carcavas\")\n",
    "plt.show()"
   ]
  },
  {
   "cell_type": "markdown",
   "id": "7f0443a9",
   "metadata": {},
   "source": [
    "<hr>\n",
    "<h4>6. CURVATURA PERFIL (Continua)</h4>\n",
    "<p>Datos únicos: </p>"
   ]
  },
  {
   "cell_type": "code",
   "execution_count": 29,
   "id": "42446274",
   "metadata": {},
   "outputs": [
    {
     "name": "stdout",
     "output_type": "stream",
     "text": [
      "[-0.18407732  0.13470331  0.04547764 ...  0.18324906  1.41650164\n",
      " -0.42282689]\n"
     ]
    }
   ],
   "source": [
    "print(datos.Curvatura_Perfil.unique())"
   ]
  },
  {
   "cell_type": "code",
   "execution_count": 30,
   "id": "e0b4e187",
   "metadata": {},
   "outputs": [
    {
     "name": "stdout",
     "output_type": "stream",
     "text": [
      "Máximo:  41.293548583984375\n",
      "Mínimo:  -34.95369338989258\n",
      "Media:  0.01815298355598211\n",
      "STD:  1.5891267120317334\n"
     ]
    }
   ],
   "source": [
    "print(\"Máximo: \", max(datos.Curvatura_Perfil))\n",
    "print(\"Mínimo: \", min(datos.Curvatura_Perfil))\n",
    "print(\"Media: \", datos[\"Curvatura_Perfil\"].mean())\n",
    "print(\"STD: \", datos[\"Curvatura_Perfil\"].std())"
   ]
  },
  {
   "cell_type": "code",
   "execution_count": 31,
   "id": "4d940754",
   "metadata": {
    "scrolled": false
   },
   "outputs": [
    {
     "data": {
      "image/png": "[encoded data removed]",
      "text/plain": [
       "<Figure size 432x288 with 1 Axes>"
      ]
     },
     "metadata": {
      "needs_background": "light"
     },
     "output_type": "display_data"
    }
   ],
   "source": [
    "sns.boxplot( y=datos[\"Curvatura_Perfil\"] );\n",
    "plt.show()"
   ]
  },
  {
   "cell_type": "code",
   "execution_count": 32,
   "id": "76f100e6",
   "metadata": {
    "scrolled": false
   },
   "outputs": [
    {
     "data": {
      "image/png": "[encoded data removed]",
      "text/plain": [
       "<Figure size 432x288 with 1 Axes>"
      ]
     },
     "metadata": {
      "needs_background": "light"
     },
     "output_type": "display_data"
    }
   ],
   "source": [
    "sns.histplot(data=datos, x=\"Curvatura_Perfil\")\n",
    "plt.show()"
   ]
  },
  {
   "cell_type": "markdown",
   "id": "aa71f298",
   "metadata": {},
   "source": [
    "<hr>\n",
    "<h4>7. CURVATURA PLANA (Continua)</h4>\n",
    "<p>Datos únicos: </p>"
   ]
  },
  {
   "cell_type": "code",
   "execution_count": 33,
   "id": "6d1129af",
   "metadata": {},
   "outputs": [
    {
     "name": "stdout",
     "output_type": "stream",
     "text": [
      "[ 0.36401838 -0.30938849  0.31732821 ...  2.26826644 -0.08054489\n",
      " -1.61874974]\n"
     ]
    }
   ],
   "source": [
    "print(datos.Curvatura_Plana.unique())"
   ]
  },
  {
   "cell_type": "code",
   "execution_count": 34,
   "id": "f1a07775",
   "metadata": {},
   "outputs": [
    {
     "name": "stdout",
     "output_type": "stream",
     "text": [
      "Máximo:  50.11104965209961\n",
      "Mínimo:  -38.32905197143555\n",
      "Media:  0.018979349645439243\n",
      "STD:  1.3114355366576713\n"
     ]
    }
   ],
   "source": [
    "print(\"Máximo: \", max(datos.Curvatura_Plana))\n",
    "print(\"Mínimo: \", min(datos.Curvatura_Plana))\n",
    "print(\"Media: \", datos[\"Curvatura_Plana\"].mean())\n",
    "print(\"STD: \", datos[\"Curvatura_Plana\"].std())"
   ]
  },
  {
   "cell_type": "code",
   "execution_count": 35,
   "id": "45dc44c2",
   "metadata": {
    "scrolled": false
   },
   "outputs": [
    {
     "data": {
      "image/png": "[encoded data removed]",
      "text/plain": [
       "<Figure size 432x288 with 1 Axes>"
      ]
     },
     "metadata": {
      "needs_background": "light"
     },
     "output_type": "display_data"
    }
   ],
   "source": [
    "sns.boxplot( y=datos[\"Curvatura_Plana\"] );\n",
    "plt.show()"
   ]
  },
  {
   "cell_type": "markdown",
   "id": "768ad6dc",
   "metadata": {},
   "source": [
    "<hr>\n",
    "<h4>8. DISTANCIA CARRETERAS (Continua)</h4>\n",
    "<p>Datos únicos: </p>"
   ]
  },
  {
   "cell_type": "code",
   "execution_count": 36,
   "id": "17addaa3",
   "metadata": {
    "scrolled": true
   },
   "outputs": [
    {
     "name": "stdout",
     "output_type": "stream",
     "text": [
      "[1065.95031738 1065.75085449 1065.57495117 ... 2091.46484375 2078.56933594\n",
      " 2069.98803711]\n"
     ]
    }
   ],
   "source": [
    "print(datos.Distancia_Carreteras.unique())"
   ]
  },
  {
   "cell_type": "code",
   "execution_count": 37,
   "id": "1ef0ce19",
   "metadata": {
    "scrolled": true
   },
   "outputs": [
    {
     "name": "stdout",
     "output_type": "stream",
     "text": [
      "Máximo:  3142.455322265625\n",
      "Mínimo:  0.0\n",
      "Media:  703.0370998257317\n",
      "STD:  606.2593413773709\n"
     ]
    }
   ],
   "source": [
    "print(\"Máximo: \", max(datos.Distancia_Carreteras))\n",
    "print(\"Mínimo: \", min(datos.Distancia_Carreteras))\n",
    "print(\"Media: \", datos[\"Distancia_Carreteras\"].mean())\n",
    "print(\"STD: \", datos[\"Distancia_Carreteras\"].std())"
   ]
  },
  {
   "cell_type": "code",
   "execution_count": 38,
   "id": "8983f288",
   "metadata": {
    "scrolled": true
   },
   "outputs": [
    {
     "data": {
      "image/png": "[encoded data removed]",
      "text/plain": [
       "<Figure size 432x288 with 1 Axes>"
      ]
     },
     "metadata": {
      "needs_background": "light"
     },
     "output_type": "display_data"
    }
   ],
   "source": [
    "sns.boxplot( y=datos[\"Distancia_Carreteras\"] );\n",
    "plt.show()"
   ]
  },
  {
   "cell_type": "code",
   "execution_count": 39,
   "id": "f797791f",
   "metadata": {
    "scrolled": false
   },
   "outputs": [
    {
     "data": {
      "image/png": "[encoded data removed]",
      "text/plain": [
       "<Figure size 432x288 with 1 Axes>"
      ]
     },
     "metadata": {
      "needs_background": "light"
     },
     "output_type": "display_data"
    }
   ],
   "source": [
    "sns.histplot(data=datos, x=\"Distancia_Carreteras\")\n",
    "plt.show()"
   ]
  },
  {
   "cell_type": "markdown",
   "id": "343cfdc8",
   "metadata": {},
   "source": [
    "<hr>\n",
    "<h4>9. FACTOR LS (Continua)</h4>\n",
    "<p>Datos únicos: </p>"
   ]
  },
  {
   "cell_type": "code",
   "execution_count": 40,
   "id": "b5967001",
   "metadata": {
    "scrolled": false
   },
   "outputs": [
    {
     "name": "stdout",
     "output_type": "stream",
     "text": [
      "[-3.40282306e+38  7.09295154e-01  7.23207414e-01 ...  3.73179269e+00\n",
      "  3.69373393e+00  4.38232470e+00]\n"
     ]
    }
   ],
   "source": [
    "print(datos.Factor_LS.unique())"
   ]
  },
  {
   "cell_type": "code",
   "execution_count": 41,
   "id": "9f5e0f96",
   "metadata": {
    "scrolled": true
   },
   "outputs": [
    {
     "name": "stdout",
     "output_type": "stream",
     "text": [
      "Máximo:  17.909786224365234\n",
      "Mínimo:  -3.4028230607370965e+38\n",
      "Media:  -3.978554918920773e+36\n",
      "STD:  3.657873468992057e+37\n"
     ]
    }
   ],
   "source": [
    "print(\"Máximo: \", max(datos.Factor_LS))\n",
    "print(\"Mínimo: \", min(datos.Factor_LS))\n",
    "print(\"Media: \", datos[\"Factor_LS\"].mean())\n",
    "print(\"STD: \", datos[\"Factor_LS\"].std())"
   ]
  },
  {
   "cell_type": "code",
   "execution_count": 42,
   "id": "527e302d",
   "metadata": {
    "scrolled": false
   },
   "outputs": [
    {
     "data": {
      "image/png": "[encoded data removed]",
      "text/plain": [
       "<Figure size 432x288 with 1 Axes>"
      ]
     },
     "metadata": {
      "needs_background": "light"
     },
     "output_type": "display_data"
    }
   ],
   "source": [
    "sns.boxplot( y=datos[\"Factor_LS\"] );\n",
    "plt.show()"
   ]
  },
  {
   "cell_type": "markdown",
   "id": "93a12159",
   "metadata": {},
   "source": [
    "<hr>\n",
    "<h4>10. GEOLOGIA (Categórica)</h4>\n",
    "<p>Datos únicos: </p>"
   ]
  },
  {
   "cell_type": "code",
   "execution_count": 43,
   "id": "ea60a2b5",
   "metadata": {
    "scrolled": true
   },
   "outputs": [
    {
     "name": "stdout",
     "output_type": "stream",
     "text": [
      "[65535.  9001.  9201.  9103.  9202.  9133.  9004.  9134.  9132.]\n"
     ]
    }
   ],
   "source": [
    "print(datos.Geologia.unique())"
   ]
  },
  {
   "cell_type": "code",
   "execution_count": 44,
   "id": "a65bf52b",
   "metadata": {
    "scrolled": false
   },
   "outputs": [
    {
     "name": "stdout",
     "output_type": "stream",
     "text": [
      "Máximo:  65535.0\n",
      "Mínimo:  9001.0\n",
      "Media:  9638.837915258771\n",
      "STD:  5129.849158765444\n"
     ]
    }
   ],
   "source": [
    "print(\"Máximo: \", max(datos.Geologia))\n",
    "print(\"Mínimo: \", min(datos.Geologia))\n",
    "print(\"Media: \", datos[\"Geologia\"].mean())\n",
    "print(\"STD: \", datos[\"Geologia\"].std())"
   ]
  },
  {
   "cell_type": "code",
   "execution_count": 45,
   "id": "5ccd7520",
   "metadata": {
    "scrolled": true
   },
   "outputs": [
    {
     "data": {
      "image/png": "[encoded data removed]",
      "text/plain": [
       "<Figure size 432x288 with 1 Axes>"
      ]
     },
     "metadata": {
      "needs_background": "light"
     },
     "output_type": "display_data"
    }
   ],
   "source": [
    "sns.boxplot( y=datos[\"Geologia\"] );\n",
    "plt.show()"
   ]
  },
  {
   "cell_type": "markdown",
   "id": "83cd15f7",
   "metadata": {},
   "source": [
    "<hr>\n",
    "<h4>11. LIMOS (Continua)</h4>\n",
    "<p>Datos únicos: </p>"
   ]
  },
  {
   "cell_type": "code",
   "execution_count": 46,
   "id": "f8613a8e",
   "metadata": {
    "scrolled": true
   },
   "outputs": [
    {
     "name": "stdout",
     "output_type": "stream",
     "text": [
      "[-3.40282347e+38  4.09542809e+01  4.87741165e+01  4.87978630e+01\n",
      "  4.85280418e+01  4.09860115e+01  3.77931633e+01  4.96565437e+01\n",
      "  4.94437866e+01  4.76752968e+01  4.24410172e+01  3.98871231e+01\n",
      "  3.75639572e+01  4.87278557e+01  3.79433517e+01  3.85810623e+01\n",
      "  4.41491661e+01  4.08750038e+01  3.71906624e+01  3.84958191e+01\n",
      "  4.55065765e+01  4.65406990e+01  4.45117722e+01  4.83284988e+01\n",
      "  4.26984253e+01  4.90506744e+01  4.90596390e+01  5.09732857e+01\n",
      "  4.37467232e+01  4.60391731e+01  4.72142029e+01  4.79927254e+01\n",
      "  5.10639458e+01  5.36892395e+01  4.54811821e+01  4.20795631e+01\n",
      "  3.86105652e+01  3.78179321e+01  4.36386528e+01  4.29099731e+01\n",
      "  4.77266769e+01  4.68669357e+01  4.83764229e+01  4.05232124e+01\n",
      "  4.43602028e+01  4.37741165e+01  4.52884789e+01  4.21281242e+01\n",
      "  4.51180954e+01  4.69687424e+01  5.19620514e+01  5.15916595e+01\n",
      "  4.00136032e+01  4.10978317e+01  4.10496445e+01  4.10199966e+01\n",
      "  4.59481926e+01  5.00625725e+01  4.78316956e+01  4.92636337e+01\n",
      "  4.52435036e+01  4.66160851e+01  4.53724289e+01  4.34149361e+01\n",
      "  4.57526398e+01  4.91137619e+01  4.43402863e+01  4.81776085e+01\n",
      "  4.10194626e+01  3.84403229e+01  3.75402260e+01  3.81897583e+01\n",
      "  4.15642815e+01  4.83195381e+01  4.26790352e+01  4.64297905e+01\n",
      "  4.54935074e+01  4.48124695e+01  4.54047623e+01  4.15927925e+01\n",
      "  5.29993591e+01  5.01486893e+01  4.72279358e+01  4.58715477e+01\n",
      "  4.12692413e+01  4.10270500e+01  4.11901550e+01  4.14548645e+01\n",
      "  4.33553085e+01  4.04208527e+01  4.42904854e+01  3.91969948e+01\n",
      "  4.03353119e+01  4.85660362e+01  4.63102989e+01  4.56805267e+01\n",
      "  4.29385796e+01  4.28375053e+01  4.19776917e+01  4.46117630e+01\n",
      "  4.64132271e+01  3.98912430e+01  3.72143784e+01  4.12420845e+01\n",
      "  4.04806557e+01  4.78615952e+01  4.30151978e+01  3.63297005e+01\n",
      "  4.45158691e+01  4.31165314e+01  4.70980988e+01  4.71517563e+01\n",
      "  4.47387543e+01  4.33174095e+01  4.58700180e+01  4.61760712e+01\n",
      "  4.36459999e+01  4.45939598e+01  4.00307426e+01  3.90670967e+01\n",
      "  3.93205719e+01  4.05598488e+01  4.79069633e+01  4.61025276e+01\n",
      "  3.91499100e+01  3.57294464e+01  4.47484741e+01  4.48634758e+01\n",
      "  4.77612724e+01  4.42613869e+01  4.59320984e+01  4.50046768e+01\n",
      "  4.91218910e+01  4.88601379e+01  4.23061981e+01  3.38974075e+01\n",
      "  4.49173508e+01  4.30615692e+01  3.81052589e+01  4.31736755e+01\n",
      "  4.45431290e+01  3.84884109e+01  4.05827637e+01  4.29871521e+01\n",
      "  4.49308929e+01  4.52903862e+01  4.53896103e+01  4.51656227e+01\n",
      "  3.84660492e+01  4.39876785e+01  4.38171844e+01  4.52366638e+01\n",
      "  3.32447510e+01  4.25816193e+01  3.96486206e+01  4.26652336e+01\n",
      "  4.31761246e+01  4.29036407e+01  4.38725853e+01  4.17029114e+01\n",
      "  4.52057152e+01  4.37238388e+01  4.15844078e+01  4.46915092e+01\n",
      "  4.14689102e+01  4.28817444e+01  4.34495964e+01  4.36051750e+01]\n"
     ]
    }
   ],
   "source": [
    "print(datos.Limos.unique())"
   ]
  },
  {
   "cell_type": "code",
   "execution_count": 47,
   "id": "d1764df1",
   "metadata": {
    "scrolled": false
   },
   "outputs": [
    {
     "name": "stdout",
     "output_type": "stream",
     "text": [
      "Máximo:  53.689239501953125\n",
      "Mínimo:  -3.4028234663852886e+38\n",
      "Media:  -2.99407974839198e+36\n",
      "STD:  3.1778430413690185e+37\n"
     ]
    }
   ],
   "source": [
    "print(\"Máximo: \", max(datos.Limos))\n",
    "print(\"Mínimo: \", min(datos.Limos))\n",
    "print(\"Media: \", datos[\"Limos\"].mean())\n",
    "print(\"STD: \", datos[\"Limos\"].std())"
   ]
  },
  {
   "cell_type": "code",
   "execution_count": 48,
   "id": "23093c90",
   "metadata": {
    "scrolled": true
   },
   "outputs": [
    {
     "data": {
      "image/png": "[encoded data removed]",
      "text/plain": [
       "<Figure size 432x288 with 1 Axes>"
      ]
     },
     "metadata": {
      "needs_background": "light"
     },
     "output_type": "display_data"
    }
   ],
   "source": [
    "sns.boxplot( y=datos[\"Limos\"] );\n",
    "plt.show()"
   ]
  },
  {
   "cell_type": "markdown",
   "id": "54dd7d46",
   "metadata": {},
   "source": [
    "<hr>\n",
    "<h4>12. ORIENTACIONES (Categórica)</h4>\n",
    "<p>Datos únicos: </p>"
   ]
  },
  {
   "cell_type": "code",
   "execution_count": 49,
   "id": "81f79b9a",
   "metadata": {
    "scrolled": true
   },
   "outputs": [
    {
     "name": "stdout",
     "output_type": "stream",
     "text": [
      "[1. 2. 8. 7. 6. 3. 4. 5. 0.]\n"
     ]
    }
   ],
   "source": [
    "print(datos.Orientaciones.unique())"
   ]
  },
  {
   "cell_type": "code",
   "execution_count": 50,
   "id": "aef4030b",
   "metadata": {
    "scrolled": false
   },
   "outputs": [
    {
     "name": "stdout",
     "output_type": "stream",
     "text": [
      "Máximo:  8.0\n",
      "Mínimo:  0.0\n",
      "Media:  4.3183978559496\n",
      "STD:  2.3576736122622592\n"
     ]
    }
   ],
   "source": [
    "print(\"Máximo: \", max(datos.Orientaciones))\n",
    "print(\"Mínimo: \", min(datos.Orientaciones))\n",
    "print(\"Media: \", datos[\"Orientaciones\"].mean())\n",
    "print(\"STD: \", datos[\"Orientaciones\"].std())"
   ]
  },
  {
   "cell_type": "code",
   "execution_count": 51,
   "id": "548e82d4",
   "metadata": {
    "scrolled": true
   },
   "outputs": [
    {
     "data": {
      "image/png": "[encoded data removed]",
      "text/plain": [
       "<Figure size 432x288 with 1 Axes>"
      ]
     },
     "metadata": {
      "needs_background": "light"
     },
     "output_type": "display_data"
    }
   ],
   "source": [
    "sns.boxplot( y=datos[\"Orientaciones\"] );\n",
    "plt.show()"
   ]
  },
  {
   "cell_type": "code",
   "execution_count": 52,
   "id": "2c24cd73",
   "metadata": {
    "scrolled": true
   },
   "outputs": [
    {
     "data": {
      "image/png": "[encoded data removed]",
      "text/plain": [
       "<Figure size 432x288 with 1 Axes>"
      ]
     },
     "metadata": {
      "needs_background": "light"
     },
     "output_type": "display_data"
    }
   ],
   "source": [
    "sns.histplot(data=datos, x=\"Orientaciones\")\n",
    "plt.show()"
   ]
  },
  {
   "cell_type": "markdown",
   "id": "06b07160",
   "metadata": {},
   "source": [
    "<hr>\n",
    "<h4>13. OVERLAND FLOW DISTANCE (Continua)</h4>\n",
    "<p>Datos únicos: </p>"
   ]
  },
  {
   "cell_type": "code",
   "execution_count": 53,
   "id": "2ab760c9",
   "metadata": {
    "scrolled": false
   },
   "outputs": [
    {
     "name": "stdout",
     "output_type": "stream",
     "text": [
      "[  6.47895861   6.23379517   6.57220888 ... 123.60730743 120.29060364\n",
      " 118.80422211]\n"
     ]
    }
   ],
   "source": [
    "print(datos.Overland_Flow_Distance.unique())"
   ]
  },
  {
   "cell_type": "code",
   "execution_count": 54,
   "id": "1d065fcb",
   "metadata": {
    "scrolled": true
   },
   "outputs": [
    {
     "name": "stdout",
     "output_type": "stream",
     "text": [
      "Máximo:  5951.634765625\n",
      "Mínimo:  0.0\n",
      "Media:  1861.3908168794917\n",
      "STD:  1299.3487632643848\n"
     ]
    }
   ],
   "source": [
    "print(\"Máximo: \", max(datos.Overland_Flow_Distance))\n",
    "print(\"Mínimo: \", min(datos.Overland_Flow_Distance))\n",
    "print(\"Media: \", datos[\"Overland_Flow_Distance\"].mean())\n",
    "print(\"STD: \", datos[\"Overland_Flow_Distance\"].std())"
   ]
  },
  {
   "cell_type": "code",
   "execution_count": 55,
   "id": "512f7f81",
   "metadata": {
    "scrolled": true
   },
   "outputs": [
    {
     "data": {
      "image/png": "[encoded data removed]",
      "text/plain": [
       "<Figure size 432x288 with 1 Axes>"
      ]
     },
     "metadata": {
      "needs_background": "light"
     },
     "output_type": "display_data"
    }
   ],
   "source": [
    "sns.boxplot( y=datos[\"Overland_Flow_Distance\"] );\n",
    "plt.show()"
   ]
  },
  {
   "cell_type": "code",
   "execution_count": 56,
   "id": "0ab18b81",
   "metadata": {
    "scrolled": false
   },
   "outputs": [
    {
     "data": {
      "image/png": "[encoded data removed]",
      "text/plain": [
       "<Figure size 432x288 with 1 Axes>"
      ]
     },
     "metadata": {
      "needs_background": "light"
     },
     "output_type": "display_data"
    }
   ],
   "source": [
    "sns.histplot(data=datos, x=\"Overland_Flow_Distance\")\n",
    "plt.show()"
   ]
  },
  {
   "cell_type": "markdown",
   "id": "d94748c9",
   "metadata": {},
   "source": [
    "<hr>\n",
    "<h4>14. PENDIENTE (Continua)</h4>\n",
    "<p>Datos únicos: </p>"
   ]
  },
  {
   "cell_type": "code",
   "execution_count": 57,
   "id": "c718276b",
   "metadata": {
    "scrolled": true
   },
   "outputs": [
    {
     "name": "stdout",
     "output_type": "stream",
     "text": [
      "[6.19681358 5.45757771 5.43176985 ... 8.62158108 7.12483788 4.15854502]\n"
     ]
    }
   ],
   "source": [
    "print(datos.Pendiente.unique())"
   ]
  },
  {
   "cell_type": "code",
   "execution_count": 58,
   "id": "11e123c3",
   "metadata": {
    "scrolled": false
   },
   "outputs": [
    {
     "name": "stdout",
     "output_type": "stream",
     "text": [
      "Máximo:  55.544185638427734\n",
      "Mínimo:  0.0\n",
      "Media:  9.194766461059029\n",
      "STD:  5.710998475716193\n"
     ]
    }
   ],
   "source": [
    "print(\"Máximo: \", max(datos.Pendiente))\n",
    "print(\"Mínimo: \", min(datos.Pendiente))\n",
    "print(\"Media: \", datos[\"Pendiente\"].mean())\n",
    "print(\"STD: \", datos[\"Pendiente\"].std())"
   ]
  },
  {
   "cell_type": "code",
   "execution_count": 59,
   "id": "d52354d7",
   "metadata": {
    "scrolled": false
   },
   "outputs": [
    {
     "data": {
      "image/png": "[encoded data removed]",
      "text/plain": [
       "<Figure size 432x288 with 1 Axes>"
      ]
     },
     "metadata": {
      "needs_background": "light"
     },
     "output_type": "display_data"
    }
   ],
   "source": [
    "sns.boxplot( y=datos[\"Pendiente\"] );\n",
    "plt.show()"
   ]
  },
  {
   "cell_type": "markdown",
   "id": "932dc114",
   "metadata": {},
   "source": [
    "<hr>\n",
    "<h4>15. STREAM POWER INDEX (Continua)</h4>\n",
    "<p>Datos únicos: </p>"
   ]
  },
  {
   "cell_type": "code",
   "execution_count": 60,
   "id": "859feb7f",
   "metadata": {
    "scrolled": false
   },
   "outputs": [
    {
     "name": "stdout",
     "output_type": "stream",
     "text": [
      "[ -124.389328   -2127.203125   -1611.11730957 ...   -56.00585556\n",
      "    79.26747894   144.37068176]\n"
     ]
    }
   ],
   "source": [
    "print(datos.Stream_Power_Index.unique())"
   ]
  },
  {
   "cell_type": "code",
   "execution_count": 61,
   "id": "407e20c7",
   "metadata": {
    "scrolled": false
   },
   "outputs": [
    {
     "name": "stdout",
     "output_type": "stream",
     "text": [
      "Máximo:  5080776704.0\n",
      "Mínimo:  -5917084672.0\n",
      "Media:  11278.499719547011\n",
      "STD:  8658120.970200008\n"
     ]
    }
   ],
   "source": [
    "print(\"Máximo: \", max(datos.Stream_Power_Index))\n",
    "print(\"Mínimo: \", min(datos.Stream_Power_Index))\n",
    "print(\"Media: \", datos[\"Stream_Power_Index\"].mean())\n",
    "print(\"STD: \", datos[\"Stream_Power_Index\"].std())"
   ]
  },
  {
   "cell_type": "code",
   "execution_count": 62,
   "id": "1f51ac24",
   "metadata": {
    "scrolled": false
   },
   "outputs": [
    {
     "data": {
      "image/png": "[encoded data removed]",
      "text/plain": [
       "<Figure size 432x288 with 1 Axes>"
      ]
     },
     "metadata": {
      "needs_background": "light"
     },
     "output_type": "display_data"
    }
   ],
   "source": [
    "sns.boxplot( y=datos[\"Stream_Power_Index\"] );\n",
    "plt.show()"
   ]
  },
  {
   "cell_type": "markdown",
   "id": "f9718614",
   "metadata": {},
   "source": [
    "<hr>\n",
    "<h4>16. TOPOGRAPHIC POSITION INDEX (Continua)</h4>\n",
    "<p>Datos únicos: </p>"
   ]
  },
  {
   "cell_type": "code",
   "execution_count": 63,
   "id": "c0f876b0",
   "metadata": {
    "scrolled": true
   },
   "outputs": [
    {
     "name": "stdout",
     "output_type": "stream",
     "text": [
      "[-3.33549547 -3.36279917 -3.29873371 ...  4.97965527  4.5414052\n",
      "  4.50697708]\n"
     ]
    }
   ],
   "source": [
    "print(datos.Topographic_Position_Index.unique())"
   ]
  },
  {
   "cell_type": "code",
   "execution_count": 64,
   "id": "3823262d",
   "metadata": {
    "scrolled": false
   },
   "outputs": [
    {
     "name": "stdout",
     "output_type": "stream",
     "text": [
      "Máximo:  22.681211471557617\n",
      "Mínimo:  -22.029876708984375\n",
      "Media:  -0.006762486502741315\n",
      "STD:  3.3274743862691007\n"
     ]
    }
   ],
   "source": [
    "print(\"Máximo: \", max(datos.Topographic_Position_Index))\n",
    "print(\"Mínimo: \", min(datos.Topographic_Position_Index))\n",
    "print(\"Media: \", datos[\"Topographic_Position_Index\"].mean())\n",
    "print(\"STD: \", datos[\"Topographic_Position_Index\"].std())"
   ]
  },
  {
   "cell_type": "code",
   "execution_count": 65,
   "id": "93e539b7",
   "metadata": {
    "scrolled": false
   },
   "outputs": [
    {
     "data": {
      "image/png": "[encoded data removed]",
      "text/plain": [
       "<Figure size 432x288 with 1 Axes>"
      ]
     },
     "metadata": {
      "needs_background": "light"
     },
     "output_type": "display_data"
    }
   ],
   "source": [
    "sns.boxplot( y=datos[\"Topographic_Position_Index\"] );\n",
    "plt.show()"
   ]
  },
  {
   "cell_type": "code",
   "execution_count": 66,
   "id": "be92d20a",
   "metadata": {
    "scrolled": false
   },
   "outputs": [
    {
     "data": {
      "image/png": "[encoded data removed]",
      "text/plain": [
       "<Figure size 432x288 with 1 Axes>"
      ]
     },
     "metadata": {
      "needs_background": "light"
     },
     "output_type": "display_data"
    }
   ],
   "source": [
    "sns.histplot(data=datos, x=\"Topographic_Position_Index\")\n",
    "plt.show()"
   ]
  },
  {
   "cell_type": "markdown",
   "id": "959f528b",
   "metadata": {},
   "source": [
    "<hr>\n",
    "<h4>17. TOPOGRAPHIC WETNESS INDEX (Continua)</h4>\n",
    "<p>Datos únicos: </p>"
   ]
  },
  {
   "cell_type": "code",
   "execution_count": 67,
   "id": "2877bb25",
   "metadata": {
    "scrolled": true
   },
   "outputs": [
    {
     "name": "stdout",
     "output_type": "stream",
     "text": [
      "[14.17777538 14.48981285 14.16001892 ... 10.89760685  4.1473341\n",
      "  4.0111661 ]\n"
     ]
    }
   ],
   "source": [
    "print(datos.Topographic_Wetness_Index.unique())"
   ]
  },
  {
   "cell_type": "code",
   "execution_count": 68,
   "id": "5e0ce563",
   "metadata": {
    "scrolled": false
   },
   "outputs": [
    {
     "name": "stdout",
     "output_type": "stream",
     "text": [
      "Máximo:  23.72909927368164\n",
      "Mínimo:  -9.109371185302734\n",
      "Media:  9.538391994479372\n",
      "STD:  3.878908998685805\n"
     ]
    }
   ],
   "source": [
    "print(\"Máximo: \", max(datos.Topographic_Wetness_Index))\n",
    "print(\"Mínimo: \", min(datos.Topographic_Wetness_Index))\n",
    "print(\"Media: \", datos[\"Topographic_Wetness_Index\"].mean())\n",
    "print(\"STD: \", datos[\"Topographic_Wetness_Index\"].std())"
   ]
  },
  {
   "cell_type": "code",
   "execution_count": 69,
   "id": "118f3f5d",
   "metadata": {
    "scrolled": false
   },
   "outputs": [
    {
     "data": {
      "image/png": "[encoded data removed]",
      "text/plain": [
       "<Figure size 432x288 with 1 Axes>"
      ]
     },
     "metadata": {
      "needs_background": "light"
     },
     "output_type": "display_data"
    }
   ],
   "source": [
    "sns.boxplot( y=datos[\"Topographic_Wetness_Index\"] );\n",
    "plt.show()"
   ]
  },
  {
   "cell_type": "code",
   "execution_count": 70,
   "id": "ca74f714",
   "metadata": {
    "scrolled": false
   },
   "outputs": [
    {
     "data": {
      "image/png": "[encoded data removed]",
      "text/plain": [
       "<Figure size 432x288 with 1 Axes>"
      ]
     },
     "metadata": {
      "needs_background": "light"
     },
     "output_type": "display_data"
    }
   ],
   "source": [
    "sns.histplot(data=datos, x=\"Topographic_Wetness_Index\")\n",
    "plt.show()"
   ]
  },
  {
   "cell_type": "markdown",
   "id": "b0e29f47",
   "metadata": {},
   "source": [
    "<hr>\n",
    "<h4>18. UNIDADES EDÁFICAS (Categórica)</h4>\n",
    "<p>Datos únicos: </p>"
   ]
  },
  {
   "cell_type": "code",
   "execution_count": 71,
   "id": "2162847c",
   "metadata": {
    "scrolled": false
   },
   "outputs": [
    {
     "name": "stdout",
     "output_type": "stream",
     "text": [
      "[0. 6. 5. 1. 4. 3. 2.]\n"
     ]
    }
   ],
   "source": [
    "print(datos.Unidades_Edaficas.unique())"
   ]
  },
  {
   "cell_type": "code",
   "execution_count": 72,
   "id": "f3da5d35",
   "metadata": {
    "scrolled": true
   },
   "outputs": [
    {
     "name": "stdout",
     "output_type": "stream",
     "text": [
      "Máximo:  6.0\n",
      "Mínimo:  0.0\n",
      "Media:  4.803272225507589\n",
      "STD:  1.760296144612931\n"
     ]
    }
   ],
   "source": [
    "print(\"Máximo: \", max(datos.Unidades_Edaficas))\n",
    "print(\"Mínimo: \", min(datos.Unidades_Edaficas))\n",
    "print(\"Media: \", datos[\"Unidades_Edaficas\"].mean())\n",
    "print(\"STD: \", datos[\"Unidades_Edaficas\"].std())"
   ]
  },
  {
   "cell_type": "code",
   "execution_count": 73,
   "id": "d0346c4c",
   "metadata": {
    "scrolled": true
   },
   "outputs": [
    {
     "data": {
      "image/png": "[encoded data removed]",
      "text/plain": [
       "<Figure size 432x288 with 1 Axes>"
      ]
     },
     "metadata": {
      "needs_background": "light"
     },
     "output_type": "display_data"
    }
   ],
   "source": [
    "sns.boxplot( y=datos[\"Unidades_Edaficas\"] );\n",
    "plt.show()"
   ]
  },
  {
   "cell_type": "code",
   "execution_count": 74,
   "id": "4a6080dc",
   "metadata": {
    "scrolled": true
   },
   "outputs": [
    {
     "data": {
      "image/png": "[encoded data removed]",
      "text/plain": [
       "<Figure size 432x288 with 1 Axes>"
      ]
     },
     "metadata": {
      "needs_background": "light"
     },
     "output_type": "display_data"
    }
   ],
   "source": [
    "sns.histplot(data=datos, x=\"Unidades_Edaficas\")\n",
    "plt.show()"
   ]
  },
  {
   "cell_type": "markdown",
   "id": "f98e84b5",
   "metadata": {},
   "source": [
    "<hr>\n",
    "<h4>19. USOS DEL SUELO (Categórica)</h4>\n",
    "<p>Datos únicos: </p>"
   ]
  },
  {
   "cell_type": "code",
   "execution_count": 75,
   "id": "03702ed0",
   "metadata": {
    "scrolled": false
   },
   "outputs": [
    {
     "name": "stdout",
     "output_type": "stream",
     "text": [
      "[15.  3.  1.  2.  4.]\n"
     ]
    }
   ],
   "source": [
    "print(datos.Usos_Del_Suelo.unique())"
   ]
  },
  {
   "cell_type": "code",
   "execution_count": 76,
   "id": "07f9efaa",
   "metadata": {
    "scrolled": true
   },
   "outputs": [
    {
     "name": "stdout",
     "output_type": "stream",
     "text": [
      "Máximo:  15.0\n",
      "Mínimo:  1.0\n",
      "Media:  2.137699353745086\n",
      "STD:  1.202274222155473\n"
     ]
    }
   ],
   "source": [
    "print(\"Máximo: \", max(datos.Usos_Del_Suelo))\n",
    "print(\"Mínimo: \", min(datos.Usos_Del_Suelo))\n",
    "print(\"Media: \", datos[\"Usos_Del_Suelo\"].mean())\n",
    "print(\"STD: \", datos[\"Usos_Del_Suelo\"].std())"
   ]
  },
  {
   "cell_type": "code",
   "execution_count": 77,
   "id": "9b6b99e3",
   "metadata": {
    "scrolled": true
   },
   "outputs": [
    {
     "data": {
      "image/png": "[encoded data removed]",
      "text/plain": [
       "<Figure size 432x288 with 1 Axes>"
      ]
     },
     "metadata": {
      "needs_background": "light"
     },
     "output_type": "display_data"
    }
   ],
   "source": [
    "sns.boxplot( y=datos[\"Usos_Del_Suelo\"] );\n",
    "plt.show()"
   ]
  },
  {
   "cell_type": "code",
   "execution_count": 78,
   "id": "3d8cb7f0",
   "metadata": {
    "scrolled": false
   },
   "outputs": [
    {
     "data": {
      "image/png": "[encoded data removed]",
      "text/plain": [
       "<Figure size 432x288 with 1 Axes>"
      ]
     },
     "metadata": {
      "needs_background": "light"
     },
     "output_type": "display_data"
    }
   ],
   "source": [
    "sns.histplot(data=datos, x=\"Usos_Del_Suelo\")\n",
    "plt.show()"
   ]
  }
 ],
 "metadata": {
  "kernelspec": {
   "display_name": "Python 3 (ipykernel)",
   "language": "python",
   "name": "python3"
  },
  "language_info": {
   "codemirror_mode": {
    "name": "ipython",
    "version": 3
   },
   "file_extension": ".py",
   "mimetype": "text/x-python",
   "name": "python",
   "nbconvert_exporter": "python",
   "pygments_lexer": "ipython3",
   "version": "3.8.11"
  }
 },
 "nbformat": 4,
 "nbformat_minor": 5
}
