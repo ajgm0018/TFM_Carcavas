{
 "cells": [
  {
   "cell_type": "markdown",
   "id": "623d7cc7",
   "metadata": {},
   "source": [
    "<h1>Importación de librerias</h1>"
   ]
  },
  {
   "cell_type": "code",
   "execution_count": 1,
   "id": "acb51609",
   "metadata": {},
   "outputs": [],
   "source": [
    "import os\n",
    "import pandas as pd\n",
    "from osgeo import gdal\n",
    "import numpy as np\n",
    "import seaborn as sns\n",
    "import matplotlib.pyplot as plt"
   ]
  },
  {
   "cell_type": "markdown",
   "id": "f179e8b3",
   "metadata": {},
   "source": [
    "<h3>Proceso de carga de datos en formato .TIF para poder ser manipulados y visualizados</h3>\n",
    "<p>Creamos vectores donde almacenar los nombres de archivos</p>"
   ]
  },
  {
   "cell_type": "code",
   "execution_count": 2,
   "id": "0dea8c86",
   "metadata": {},
   "outputs": [],
   "source": [
    "dir = \"Raster/SantoTome\"\n",
    "ficheros=[]\n",
    "nombre=[]"
   ]
  },
  {
   "cell_type": "markdown",
   "id": "cefb8d26",
   "metadata": {},
   "source": [
    "<p>Path de ficheros TIF para ordenarlos</p>"
   ]
  },
  {
   "cell_type": "code",
   "execution_count": 3,
   "id": "069c0698",
   "metadata": {},
   "outputs": [],
   "source": [
    "for file in os.listdir(dir):\n",
    "        if file.endswith(\".tif\"):\n",
    "            ficheros.append(os.path.join(dir, file))\n",
    "            nombre.append(file.split('.')[0])"
   ]
  },
  {
   "cell_type": "markdown",
   "id": "d727a42d",
   "metadata": {},
   "source": [
    "<p>Ordenamos por nombre la lista de ficheros y de nombres de ficheros<p>"
   ]
  },
  {
   "cell_type": "code",
   "execution_count": 4,
   "id": "61127b5d",
   "metadata": {},
   "outputs": [
    {
     "data": {
      "text/plain": [
       "['Altitud',\n",
       " 'Arcillas',\n",
       " 'Arenas',\n",
       " 'Carbonatos',\n",
       " 'Carbono_Organico',\n",
       " 'Carcavas',\n",
       " 'Curvatura_Perfil',\n",
       " 'Curvatura_Plana',\n",
       " 'Distancia_Carreteras',\n",
       " 'Factor_LS',\n",
       " 'Geologia',\n",
       " 'Limos',\n",
       " 'Orientaciones',\n",
       " 'Overland_Flow_Distance',\n",
       " 'Pendiente',\n",
       " 'Stream_Power_Index',\n",
       " 'Topographic_Position_Index',\n",
       " 'Topographic_Wetness_Index',\n",
       " 'Unidades_Edaficas',\n",
       " 'Usos_Del_Suelo']"
      ]
     },
     "execution_count": 4,
     "metadata": {},
     "output_type": "execute_result"
    }
   ],
   "source": [
    "sorted(ficheros)\n",
    "sorted(nombre)"
   ]
  },
  {
   "cell_type": "markdown",
   "id": "e4fcaf4d",
   "metadata": {},
   "source": [
    "<p>Creamos un Dataframe con el nombre de los TIF</p>"
   ]
  },
  {
   "cell_type": "code",
   "execution_count": 5,
   "id": "a86dfd7b",
   "metadata": {},
   "outputs": [],
   "source": [
    "datos = pd.DataFrame(columns=nombre)"
   ]
  },
  {
   "cell_type": "markdown",
   "id": "4b64f416",
   "metadata": {},
   "source": [
    "<p>Recoger tamaño de las imagenes TIF que vamos a tratar</p>"
   ]
  },
  {
   "cell_type": "code",
   "execution_count": 6,
   "id": "408fa8d8",
   "metadata": {},
   "outputs": [
    {
     "name": "stdout",
     "output_type": "stream",
     "text": [
      "Tamaño archivos cargados: 1448 x 2082 \n",
      "\n"
     ]
    }
   ],
   "source": [
    "tif = gdal.Open(ficheros[1])\n",
    "tif_band = tif.GetRasterBand(1)\n",
    "x = tif_band.XSize\n",
    "y = tif_band.YSize\n",
    "print(\"Tamaño archivos cargados:\",x,\"x\",y,\"\\n\")"
   ]
  },
  {
   "cell_type": "markdown",
   "id": "f5d9f951",
   "metadata": {},
   "source": [
    "<p>Recorremos lista de ficheros. SOLO TRATAMOS LOS DATOS NO DATA -> -1</p>"
   ]
  },
  {
   "cell_type": "code",
   "execution_count": 7,
   "id": "2a3cd7b7",
   "metadata": {},
   "outputs": [],
   "source": [
    "contador = 0\n",
    "for f in ficheros:\n",
    "    n = nombre[contador]\n",
    "    MDT = gdal.Open(f)\n",
    "    \n",
    "    # Patrones sin datos se incluyen como -1\n",
    "    MDT.GetRasterBand(1).SetNoDataValue(-1)\n",
    "    \n",
    "    # Pasamos los datos a float\n",
    "    band = MDT.GetRasterBand(1).ReadAsArray().astype(float)\n",
    "    \n",
    "    # Se desechan las dos primeras filas y columnas debido a calculos de borde\n",
    "    band = band[1:y, 1:x]\n",
    "    \n",
    "    # Reconstruimos el array con el tamaño de filas x columnas\n",
    "    x_recorte = x - 1\n",
    "    y_recorte = y - 1\n",
    "    band = np.reshape(band, x_recorte*y_recorte)\n",
    "    \n",
    "    # Estos serán nuestros datos\n",
    "    datos[n] = band\n",
    "    \n",
    "    contador = contador + 1"
   ]
  },
  {
   "cell_type": "markdown",
   "id": "fcf97ffe",
   "metadata": {},
   "source": [
    "<hr>\n",
    "<h3>Proceso de visualización de datos (SIN TRATAR ni utilizar ENCODE, datos en crudo)</h3>"
   ]
  },
  {
   "cell_type": "markdown",
   "id": "c675cdab",
   "metadata": {},
   "source": [
    "<h4>1. ALTITUD (Continua)</h4>\n",
    "<p>Datos únicos: </p>"
   ]
  },
  {
   "cell_type": "code",
   "execution_count": 8,
   "id": "b66c62dd",
   "metadata": {
    "scrolled": true
   },
   "outputs": [
    {
     "name": "stdout",
     "output_type": "stream",
     "text": [
      "[482.02099609 481.85501099 481.70199585 ... 493.00900269 607.20001221\n",
      " 629.35797119]\n"
     ]
    }
   ],
   "source": [
    "print(datos.Altitud.unique())"
   ]
  },
  {
   "cell_type": "code",
   "execution_count": 9,
   "id": "b0ac5d3c",
   "metadata": {},
   "outputs": [
    {
     "name": "stdout",
     "output_type": "stream",
     "text": [
      "Máximo:  871.6500244140625\n",
      "Mínimo:  400.0830078125\n",
      "Media:  570.4105152074554\n",
      "STD:  100.24645989903374\n"
     ]
    }
   ],
   "source": [
    "print(\"Máximo: \", max(datos.Altitud))\n",
    "print(\"Mínimo: \", min(datos.Altitud))\n",
    "print(\"Media: \", datos[\"Altitud\"].mean())\n",
    "print(\"STD: \", datos[\"Altitud\"].std())\n"
   ]
  },
  {
   "cell_type": "code",
   "execution_count": 10,
   "id": "6d0969f8",
   "metadata": {},
   "outputs": [
    {
     "data": {
      "image/png": "[encoded data removed]",
      "text/plain": [
       "<Figure size 432x288 with 1 Axes>"
      ]
     },
     "metadata": {
      "needs_background": "light"
     },
     "output_type": "display_data"
    }
   ],
   "source": [
    "sns.boxplot( y=datos[\"Altitud\"] );\n",
    "plt.show()"
   ]
  },
  {
   "cell_type": "code",
   "execution_count": 11,
   "id": "f5533317",
   "metadata": {},
   "outputs": [
    {
     "data": {
      "image/png": "[encoded data removed]",
      "text/plain": [
       "<Figure size 432x288 with 1 Axes>"
      ]
     },
     "metadata": {
      "needs_background": "light"
     },
     "output_type": "display_data"
    }
   ],
   "source": [
    "sns.histplot(data=datos, x=\"Altitud\")\n",
    "plt.show()"
   ]
  },
  {
   "cell_type": "markdown",
   "id": "607f458e",
   "metadata": {},
   "source": [
    "<hr>\n",
    "<h4>2. ARCILLAS (Continua)</h4>\n",
    "<p>Datos únicos: </p>"
   ]
  },
  {
   "cell_type": "code",
   "execution_count": 12,
   "id": "9e8784ec",
   "metadata": {},
   "outputs": [
    {
     "name": "stdout",
     "output_type": "stream",
     "text": [
      "[-3.40282347e+38  3.15290146e+01  3.85263672e+01  3.30586739e+01\n",
      "  3.17581310e+01  3.68138924e+01  3.72075920e+01  4.00479622e+01\n",
      "  3.16607933e+01  4.24358368e+01  4.02190437e+01  3.78495255e+01\n",
      "  3.69504280e+01  3.22944374e+01  3.54302063e+01  3.61111755e+01\n",
      "  3.50783920e+01  3.29157753e+01  3.33037796e+01  4.02662430e+01\n",
      "  3.81022606e+01  4.01035004e+01  4.02132721e+01  3.84184570e+01\n",
      "  3.36038628e+01  3.33245850e+01  3.43403511e+01  3.38872643e+01\n",
      "  3.45824280e+01  3.19856739e+01  3.67185097e+01  3.92467384e+01\n",
      "  3.48151627e+01  3.87457962e+01  3.74784927e+01  3.63343887e+01\n",
      "  3.58559685e+01  3.82675133e+01  3.75632744e+01  3.44365692e+01\n",
      "  3.14687157e+01  3.37616692e+01  3.69522133e+01  4.09927521e+01\n",
      "  3.83467712e+01  3.72745667e+01  4.13126984e+01  3.06612015e+01\n",
      "  3.76430702e+01  3.82193222e+01  3.30722771e+01  3.46028900e+01\n",
      "  3.86561089e+01  3.60180130e+01  3.51722794e+01  3.50165634e+01\n",
      "  3.74297714e+01  3.74436760e+01  3.21420937e+01  3.46155243e+01\n",
      "  3.55192642e+01  3.53931122e+01  3.67909279e+01  3.72397842e+01\n",
      "  3.73984833e+01  3.95940170e+01  4.07202835e+01  3.24077606e+01\n",
      "  3.69779701e+01  3.62185516e+01  3.60153503e+01  3.59324226e+01\n",
      "  4.02336006e+01  3.66761246e+01  3.56594124e+01  3.59626236e+01\n",
      "  3.69272423e+01  3.68813019e+01  3.50406036e+01  3.81141205e+01\n",
      "  3.90829201e+01  4.10221596e+01  3.70511055e+01  3.55803299e+01\n",
      "  3.35599861e+01  3.41262550e+01  3.38047104e+01  3.81551323e+01\n",
      "  3.72192535e+01  3.67817917e+01  3.58040085e+01  3.55899162e+01\n",
      "  3.72347260e+01  3.72417412e+01  3.44412231e+01  3.69124870e+01\n",
      "  4.14465942e+01  3.89065247e+01  3.48495979e+01  3.74923897e+01\n",
      "  3.43467140e+01  3.47914696e+01  3.86783409e+01  3.95919418e+01\n",
      "  3.51910019e+01  3.36136131e+01  3.78335190e+01  3.60563812e+01\n",
      "  3.65204391e+01  4.01474571e+01  4.08399773e+01  3.26928940e+01\n",
      "  3.53863907e+01  3.68422699e+01  3.62869415e+01  3.26226921e+01\n",
      "  3.96565247e+01  3.47809677e+01  3.61376114e+01  3.56183510e+01\n",
      "  3.54558754e+01  3.39306755e+01  3.91754532e+01  3.78663483e+01\n",
      "  3.79906693e+01  3.67082558e+01  3.74250755e+01  3.81132812e+01\n",
      "  3.87735825e+01  3.88675003e+01  3.74361801e+01  3.71210213e+01\n",
      "  3.46832428e+01  3.64627647e+01  3.56173439e+01  3.97296410e+01\n",
      "  4.12565193e+01  3.63716240e+01  3.77850723e+01  3.68522034e+01\n",
      "  3.45232925e+01  3.34939270e+01  3.34692154e+01  3.56886253e+01\n",
      "  3.62081795e+01  3.82373886e+01  3.36819496e+01  3.41265869e+01\n",
      "  3.67687225e+01  4.03596649e+01  3.46880417e+01  3.50484695e+01\n",
      "  3.34409637e+01  3.44120636e+01  3.45203018e+01  3.72170792e+01\n",
      "  3.45974541e+01  3.99752274e+01  3.36704826e+01  3.76271858e+01\n",
      "  3.79617348e+01  4.05668526e+01  3.70110054e+01  3.45273399e+01\n",
      "  3.55873070e+01  3.30389214e+01  3.49014244e+01  3.74588776e+01\n",
      "  3.68678818e+01  3.99943695e+01  4.15773468e+01  3.08601189e+01\n",
      "  3.55237465e+01  3.54069519e+01  3.57377090e+01  3.66164093e+01\n",
      "  3.15792828e+01  3.29712029e+01  3.72509842e+01  3.84517059e+01\n",
      "  3.60820732e+01  3.69308434e+01  3.56113663e+01  3.30277100e+01\n",
      "  3.64999275e+01  3.68107147e+01  3.96242294e+01  3.49681129e+01\n",
      "  3.53432045e+01  3.84253006e+01  3.52716408e+01  3.57401848e+01\n",
      "  3.44284096e+01  3.69927254e+01  3.86400261e+01  3.31556168e+01\n",
      "  3.16577015e+01  3.15944023e+01  3.67076759e+01  4.02167854e+01\n",
      "  3.45261269e+01  3.59536514e+01  3.65070229e+01  3.50924416e+01\n",
      "  3.76724281e+01  3.72729912e+01  3.79564323e+01  3.65225945e+01\n",
      "  3.87760239e+01  3.38293381e+01  3.46789207e+01  3.85650673e+01\n",
      "  3.68966637e+01]\n"
     ]
    }
   ],
   "source": [
    "print(datos.Arcillas.unique())"
   ]
  },
  {
   "cell_type": "code",
   "execution_count": 13,
   "id": "d11d91c1",
   "metadata": {},
   "outputs": [
    {
     "name": "stdout",
     "output_type": "stream",
     "text": [
      "Máximo:  42.43583679199219\n",
      "Mínimo:  -3.4028234663852886e+38\n",
      "Media:  -1.3578388982650603e+38\n",
      "STD:  1.6663614598712292e+38\n"
     ]
    }
   ],
   "source": [
    "print(\"Máximo: \", max(datos.Arcillas))\n",
    "print(\"Mínimo: \", min(datos.Arcillas))\n",
    "print(\"Media: \", datos[\"Arcillas\"].mean())\n",
    "print(\"STD: \", datos[\"Arcillas\"].std())"
   ]
  },
  {
   "cell_type": "code",
   "execution_count": 14,
   "id": "d105209e",
   "metadata": {},
   "outputs": [
    {
     "data": {
      "image/png": "[encoded data removed]",
      "text/plain": [
       "<Figure size 432x288 with 1 Axes>"
      ]
     },
     "metadata": {
      "needs_background": "light"
     },
     "output_type": "display_data"
    }
   ],
   "source": [
    "sns.boxplot( y=datos[\"Arcillas\"] );\n",
    "plt.show()"
   ]
  },
  {
   "cell_type": "code",
   "execution_count": 15,
   "id": "9c033a88",
   "metadata": {},
   "outputs": [
    {
     "data": {
      "image/png": "[encoded data removed]",
      "text/plain": [
       "<Figure size 432x288 with 1 Axes>"
      ]
     },
     "metadata": {
      "needs_background": "light"
     },
     "output_type": "display_data"
    }
   ],
   "source": [
    "sns.histplot(data=datos, x=\"Arcillas\")\n",
    "plt.show()"
   ]
  },
  {
   "cell_type": "markdown",
   "id": "29e9a038",
   "metadata": {},
   "source": [
    "<hr>\n",
    "<h4>3. ARENAS (Continua)</h4>\n",
    "<p>Datos únicos: </p>"
   ]
  },
  {
   "cell_type": "code",
   "execution_count": 16,
   "id": "8498fe0d",
   "metadata": {},
   "outputs": [
    {
     "name": "stdout",
     "output_type": "stream",
     "text": [
      "[-3.40282347e+38  3.08518219e+01  2.03894424e+01  2.89576492e+01\n",
      "  3.38757248e+01  1.77220154e+01  1.80632706e+01  1.28685379e+01\n",
      "  3.28173676e+01  1.04003143e+01  1.43097992e+01  1.53459930e+01\n",
      "  1.55555725e+01  2.13342896e+01  1.94634399e+01  1.93795853e+01\n",
      "  2.47039032e+01  2.76778183e+01  1.99052048e+01  1.24207458e+01\n",
      "  1.85113144e+01  1.06060944e+01  1.38734207e+01  1.74365387e+01\n",
      "  1.52179871e+01  1.88594742e+01  1.92905807e+01  2.28324432e+01\n",
      "  1.84550934e+01  1.93262482e+01  1.71563721e+01  1.71351318e+01\n",
      "  2.55021667e+01  1.80482788e+01  1.72165222e+01  1.49434662e+01\n",
      "  1.73463898e+01  1.54941101e+01  1.39888458e+01  2.10418625e+01\n",
      "  2.21696777e+01  2.21203156e+01  1.80531998e+01  1.49806366e+01\n",
      "  1.83043671e+01  1.55526428e+01  1.69387665e+01  2.51102676e+01\n",
      "  2.10195770e+01  1.51963959e+01  2.42915192e+01  2.01652832e+01\n",
      "  1.55953674e+01  1.78468628e+01  2.04451599e+01  1.75147781e+01\n",
      "  1.63291702e+01  1.56714859e+01  2.57153015e+01  2.47651901e+01\n",
      "  2.14310608e+01  2.18338013e+01  2.67034073e+01  1.89679031e+01\n",
      "  2.07848587e+01  1.27671967e+01  1.38325806e+01  2.10950394e+01\n",
      "  1.34468384e+01  1.90322418e+01  2.02258301e+01  2.12609100e+01\n",
      "  1.64384079e+01  2.15957260e+01  2.26023407e+01  1.84440613e+01\n",
      "  1.95515900e+01  2.04333496e+01  2.03142929e+01  1.54464417e+01\n",
      "  1.52237244e+01  9.73020935e+00  1.78739319e+01  1.66884155e+01\n",
      "  1.76859665e+01  1.88188171e+01  1.65160828e+01  1.87637024e+01\n",
      "  1.70058746e+01  1.94403992e+01  2.36955414e+01  1.78741150e+01\n",
      "  2.21080399e+01  2.00144958e+01  2.54871368e+01  2.10946884e+01\n",
      "  1.28960037e+01  1.36178360e+01  1.99392548e+01  1.62986526e+01\n",
      "  2.01029358e+01  2.18154221e+01  1.44632492e+01  1.94922333e+01\n",
      "  2.36586838e+01  2.66138687e+01  1.84453735e+01  1.94293594e+01\n",
      "  1.72731476e+01  1.39585419e+01  1.15140381e+01  2.20784149e+01\n",
      "  2.02821121e+01  2.05771179e+01  1.68364029e+01  1.71086884e+01\n",
      "  1.51738586e+01  2.28299866e+01  1.71475220e+01  2.40351486e+01\n",
      "  2.61514587e+01  2.51566620e+01  1.51833115e+01  1.82155762e+01\n",
      "  1.67238617e+01  1.78298035e+01  1.66137543e+01  1.66305695e+01\n",
      "  1.35086365e+01  1.49147949e+01  1.82229462e+01  2.15277100e+01\n",
      "  2.49738312e+01  2.03681107e+01  2.10304413e+01  1.42685776e+01\n",
      "  1.37380142e+01  1.76591492e+01  1.42310791e+01  1.35058899e+01\n",
      "  2.03077545e+01  2.89241791e+01  2.63274841e+01  2.48587494e+01\n",
      "  2.22857361e+01  1.49317627e+01  2.21990814e+01  2.28530579e+01\n",
      "  1.75509033e+01  1.32652740e+01  2.04106903e+01  2.29747543e+01\n",
      "  2.28331985e+01  2.65381241e+01  2.51997833e+01  2.00304031e+01\n",
      "  2.33583374e+01  1.53129272e+01  2.14635010e+01  1.65681152e+01\n",
      "  1.26277237e+01  1.56533279e+01  1.67203064e+01  2.37793808e+01\n",
      "  2.67909470e+01  2.44015503e+01  2.38296127e+01  2.06747894e+01\n",
      "  2.18097458e+01  1.47791672e+01  1.36881561e+01  2.29770050e+01\n",
      "  1.95438080e+01  2.44074936e+01  2.53646545e+01  1.97221069e+01\n",
      "  3.08286514e+01  2.76758728e+01  1.72756195e+01  2.00879517e+01\n",
      "  2.03977203e+01  2.15349731e+01  2.36649017e+01  2.66439972e+01\n",
      "  1.76707382e+01  1.82110596e+01  1.35410614e+01  1.68778000e+01\n",
      "  1.80649109e+01  1.49472809e+01  2.27187653e+01  1.94868851e+01\n",
      "  2.11964874e+01  1.42713547e+01  1.40552826e+01  2.35338135e+01\n",
      "  2.54909668e+01  2.97985458e+01  2.33475037e+01  1.38052216e+01\n",
      "  2.24521942e+01  1.83590012e+01  1.88648376e+01  2.01358795e+01\n",
      "  2.00768127e+01  1.91259384e+01  1.70895844e+01  1.98019867e+01\n",
      "  1.90279999e+01  2.91393661e+01  2.14709015e+01  1.80794373e+01\n",
      "  2.02894135e+01]\n"
     ]
    }
   ],
   "source": [
    "print(datos.Arenas.unique())"
   ]
  },
  {
   "cell_type": "code",
   "execution_count": 17,
   "id": "4f4fd638",
   "metadata": {},
   "outputs": [
    {
     "name": "stdout",
     "output_type": "stream",
     "text": [
      "Máximo:  33.87572479248047\n",
      "Mínimo:  -3.4028234663852886e+38\n",
      "Media:  -1.3578388982650603e+38\n",
      "STD:  1.6663614598712292e+38\n"
     ]
    }
   ],
   "source": [
    "print(\"Máximo: \", max(datos.Arenas))\n",
    "print(\"Mínimo: \", min(datos.Arenas))\n",
    "print(\"Media: \", datos[\"Arenas\"].mean())\n",
    "print(\"STD: \", datos[\"Arenas\"].std())"
   ]
  },
  {
   "cell_type": "code",
   "execution_count": 18,
   "id": "9cb47f71",
   "metadata": {},
   "outputs": [
    {
     "data": {
      "image/png": "[encoded data removed]",
      "text/plain": [
       "<Figure size 432x288 with 1 Axes>"
      ]
     },
     "metadata": {
      "needs_background": "light"
     },
     "output_type": "display_data"
    }
   ],
   "source": [
    "sns.boxplot( y=datos[\"Arenas\"] );\n",
    "plt.show()"
   ]
  },
  {
   "cell_type": "code",
   "execution_count": 19,
   "id": "ad1558d0",
   "metadata": {},
   "outputs": [
    {
     "data": {
      "image/png": "[encoded data removed]",
      "text/plain": [
       "<Figure size 432x288 with 1 Axes>"
      ]
     },
     "metadata": {
      "needs_background": "light"
     },
     "output_type": "display_data"
    }
   ],
   "source": [
    "sns.histplot(data=datos, x=\"Arenas\")\n",
    "plt.show()"
   ]
  },
  {
   "cell_type": "markdown",
   "id": "3dd7d13f",
   "metadata": {},
   "source": [
    "<hr>\n",
    "<h4>4. CARBONATOS (Discreta)</h4>\n",
    "<p>Datos únicos: </p>"
   ]
  },
  {
   "cell_type": "code",
   "execution_count": 20,
   "id": "6e789b50",
   "metadata": {},
   "outputs": [
    {
     "name": "stdout",
     "output_type": "stream",
     "text": [
      "[-3.40282347e+38  7.88117051e-01  1.79775369e+00  1.53975677e+00\n",
      "  1.73969531e+00]\n"
     ]
    }
   ],
   "source": [
    "print(datos.Carbonatos.unique())"
   ]
  },
  {
   "cell_type": "code",
   "execution_count": 21,
   "id": "8e8f7c82",
   "metadata": {},
   "outputs": [
    {
     "name": "stdout",
     "output_type": "stream",
     "text": [
      "Máximo:  1.7977536916732788\n",
      "Mínimo:  -3.4028234663852886e+38\n",
      "Media:  -1.3578388982650603e+38\n",
      "STD:  1.6663614598712292e+38\n"
     ]
    }
   ],
   "source": [
    "print(\"Máximo: \", max(datos.Carbonatos))\n",
    "print(\"Mínimo: \", min(datos.Carbonatos))\n",
    "print(\"Media: \", datos[\"Carbonatos\"].mean())\n",
    "print(\"STD: \", datos[\"Arenas\"].std())"
   ]
  },
  {
   "cell_type": "code",
   "execution_count": 22,
   "id": "2b09b85b",
   "metadata": {},
   "outputs": [
    {
     "data": {
      "image/png": "[encoded data removed]",
      "text/plain": [
       "<Figure size 432x288 with 1 Axes>"
      ]
     },
     "metadata": {
      "needs_background": "light"
     },
     "output_type": "display_data"
    }
   ],
   "source": [
    "sns.boxplot( y=datos[\"Carbonatos\"] );\n",
    "plt.show()"
   ]
  },
  {
   "cell_type": "code",
   "execution_count": 23,
   "id": "7e3ce39a",
   "metadata": {},
   "outputs": [
    {
     "data": {
      "image/png": "[encoded data removed]",
      "text/plain": [
       "<Figure size 432x288 with 1 Axes>"
      ]
     },
     "metadata": {
      "needs_background": "light"
     },
     "output_type": "display_data"
    }
   ],
   "source": [
    "sns.histplot(data=datos, x=\"Carbonatos\")\n",
    "plt.show()"
   ]
  },
  {
   "cell_type": "markdown",
   "id": "c8085147",
   "metadata": {},
   "source": [
    "<hr>\n",
    "<h4>4. CARBONO ORGÁNICO (Continua)</h4>\n",
    "<p>Datos únicos: </p>"
   ]
  },
  {
   "cell_type": "code",
   "execution_count": 24,
   "id": "ab9082a1",
   "metadata": {},
   "outputs": [
    {
     "name": "stdout",
     "output_type": "stream",
     "text": [
      "[-3.40282347e+38  2.09327560e+02  2.81533630e+02  2.74947937e+02\n",
      "  2.85146698e+02  3.04396606e+02  3.08188019e+02  3.27469788e+02\n",
      "  2.74494690e+02  3.90699249e+02  2.55464386e+02  2.31169144e+02\n",
      "  3.17781067e+02  3.51975281e+02  5.01883453e+02  4.85076294e+02\n",
      "  5.00494110e+02  1.92774124e+02  5.05907562e+02  4.37307404e+02\n",
      "  2.44128860e+02  2.96196564e+02  3.35499634e+02  3.99753632e+02\n",
      "  3.33859253e+02  5.38640259e+02  5.25030762e+02  5.20268188e+02\n",
      "  4.76257111e+02  4.37479645e+02  1.65884277e+02  2.87093567e+02\n",
      "  2.03477280e+02  3.27021423e+02  3.03421021e+02  2.63771729e+02\n",
      "  2.44250244e+02  3.64995209e+02  3.90572815e+02  5.57084351e+02\n",
      "  5.34846802e+02  5.14619873e+02  5.29630249e+02  4.20053925e+02\n",
      "  4.18208832e+02  4.31642456e+02  2.93740204e+02  2.54610886e+02\n",
      "  2.96706665e+02  2.47398483e+02  2.84728699e+02  2.65282471e+02\n",
      "  3.31040985e+02  3.24390839e+02  3.50013489e+02  4.92186310e+02\n",
      "  5.15671265e+02  4.98113525e+02  4.44076660e+02  4.41545410e+02\n",
      "  4.07478760e+02  2.66162323e+02  2.75969635e+02  2.66964783e+02\n",
      "  2.88746429e+02  2.31122986e+02  2.57788361e+02  4.88791046e+02\n",
      "  4.91547150e+02  5.41889954e+02  5.22855469e+02  5.26214355e+02\n",
      "  5.44192810e+02  4.76996796e+02  4.57301056e+02  2.68452606e+02\n",
      "  2.83334076e+02  3.06523468e+02  3.29143890e+02  2.87630951e+02\n",
      "  3.01608124e+02  2.86229126e+02  4.08169617e+02  4.55814789e+02\n",
      "  5.31117371e+02  5.54435425e+02  5.76994263e+02  5.03848663e+02\n",
      "  4.48648712e+02  4.53761505e+02  4.61827332e+02  2.31888214e+02\n",
      "  2.82757446e+02  3.05017212e+02  3.20762390e+02  3.17919586e+02\n",
      "  2.69429108e+02  4.71302917e+02  4.99728455e+02  5.29227112e+02\n",
      "  5.01319092e+02  5.47265015e+02  4.91515106e+02  4.42339172e+02\n",
      "  4.15032288e+02  2.25300110e+02  3.09501312e+02  3.33795563e+02\n",
      "  2.92727997e+02  4.63798187e+02  4.42304291e+02  5.10785431e+02\n",
      "  4.87715302e+02  5.15783875e+02  4.07669312e+02  4.68589874e+02\n",
      "  4.73584625e+02  4.09736389e+02  2.63654785e+02  3.11653412e+02\n",
      "  3.42187134e+02  2.89233856e+02  4.07983032e+02  3.72020203e+02\n",
      "  4.34300537e+02  4.22832489e+02  5.03489624e+02  5.20746338e+02\n",
      "  4.75282715e+02  4.80531036e+02  3.47250916e+02  3.08158112e+02\n",
      "  3.51043915e+02  3.89468933e+02  3.89347382e+02  4.15296295e+02\n",
      "  4.18213928e+02  4.87837738e+02  5.26292358e+02  4.93032013e+02\n",
      "  4.78916077e+02  2.41749298e+02  2.86584381e+02  3.20777771e+02\n",
      "  3.90865753e+02  4.35383972e+02  5.03077820e+02  4.88803772e+02\n",
      "  5.25591553e+02  5.16495361e+02  5.40171448e+02  4.40797424e+02\n",
      "  2.70082977e+02  2.48913132e+02  2.83281342e+02  3.87262329e+02\n",
      "  4.53968170e+02  4.34980865e+02  4.94654388e+02  5.18685181e+02\n",
      "  5.03712646e+02  5.27390137e+02  2.24245697e+02  2.62427948e+02\n",
      "  4.23309021e+02  4.22352234e+02  4.59127472e+02  3.89155090e+02\n",
      "  4.18462494e+02  4.55324707e+02  5.00804932e+02  5.54144409e+02\n",
      "  4.25829498e+02  4.14960266e+02  4.56700012e+02  4.27101685e+02\n",
      "  3.91194366e+02  4.19845001e+02  4.34936188e+02  4.43049225e+02\n",
      "  4.88307739e+02  3.91860443e+02  4.66274139e+02  3.86328491e+02\n",
      "  4.54739441e+02  4.76089935e+02  4.83616089e+02  5.34143494e+02\n",
      "  5.02279510e+02  3.71755127e+02  4.41953918e+02  4.63260742e+02\n",
      "  4.58780151e+02  4.35862701e+02  5.30427368e+02  5.13264099e+02\n",
      "  5.09307800e+02  3.61657379e+02  4.50063477e+02  4.99448944e+02\n",
      "  5.19756348e+02  5.04067444e+02  4.65988220e+02  5.03035217e+02\n",
      "  3.52900879e+02  4.65969086e+02  4.92925262e+02  5.01091339e+02\n",
      "  4.36146545e+02  3.63951080e+02  4.18126007e+02  4.98593933e+02\n",
      "  5.25511047e+02]\n"
     ]
    }
   ],
   "source": [
    "print(datos.Carbono_Organico.unique())"
   ]
  },
  {
   "cell_type": "code",
   "execution_count": 25,
   "id": "e8dbad0f",
   "metadata": {},
   "outputs": [
    {
     "name": "stdout",
     "output_type": "stream",
     "text": [
      "Máximo:  576.9942626953125\n",
      "Mínimo:  -3.4028234663852886e+38\n",
      "Media:  -1.3578388982650603e+38\n",
      "STD:  1.6663614598712292e+38\n"
     ]
    }
   ],
   "source": [
    "print(\"Máximo: \", max(datos.Carbono_Organico))\n",
    "print(\"Mínimo: \", min(datos.Carbono_Organico))\n",
    "print(\"Media: \", datos[\"Carbono_Organico\"].mean())\n",
    "print(\"STD: \", datos[\"Carbono_Organico\"].std())"
   ]
  },
  {
   "cell_type": "code",
   "execution_count": 26,
   "id": "594a5e12",
   "metadata": {},
   "outputs": [
    {
     "data": {
      "image/png": "[encoded data removed]",
      "text/plain": [
       "<Figure size 432x288 with 1 Axes>"
      ]
     },
     "metadata": {
      "needs_background": "light"
     },
     "output_type": "display_data"
    }
   ],
   "source": [
    "sns.boxplot( y=datos[\"Carbono_Organico\"] );\n",
    "plt.show()"
   ]
  },
  {
   "cell_type": "code",
   "execution_count": 27,
   "id": "035c3f1b",
   "metadata": {},
   "outputs": [
    {
     "data": {
      "image/png": "[encoded data removed]",
      "text/plain": [
       "<Figure size 432x288 with 1 Axes>"
      ]
     },
     "metadata": {
      "needs_background": "light"
     },
     "output_type": "display_data"
    }
   ],
   "source": [
    "sns.histplot(data=datos, x=\"Carbono_Organico\")\n",
    "plt.show()"
   ]
  },
  {
   "cell_type": "markdown",
   "id": "e286d9ad",
   "metadata": {},
   "source": [
    "<hr>\n",
    "<h4>5. CÁRCAVAS (Categórica)</h4>\n",
    "<p>Datos únicos: </p>"
   ]
  },
  {
   "cell_type": "code",
   "execution_count": 28,
   "id": "84124b86",
   "metadata": {},
   "outputs": [
    {
     "name": "stdout",
     "output_type": "stream",
     "text": [
      "[-9.999e+03  0.000e+00  1.000e+00]\n"
     ]
    }
   ],
   "source": [
    "print(datos.Carcavas.unique())"
   ]
  },
  {
   "cell_type": "code",
   "execution_count": 29,
   "id": "ddc71b24",
   "metadata": {},
   "outputs": [
    {
     "name": "stdout",
     "output_type": "stream",
     "text": [
      "Máximo:  1.0\n",
      "Mínimo:  -9999.0\n",
      "Media:  -3989.913759499098\n",
      "STD:  4896.5209224293985\n"
     ]
    }
   ],
   "source": [
    "print(\"Máximo: \", max(datos.Carcavas))\n",
    "print(\"Mínimo: \", min(datos.Carcavas))\n",
    "print(\"Media: \", datos[\"Carcavas\"].mean())\n",
    "print(\"STD: \", datos[\"Carcavas\"].std())"
   ]
  },
  {
   "cell_type": "code",
   "execution_count": 30,
   "id": "4ff2e419",
   "metadata": {
    "scrolled": true
   },
   "outputs": [
    {
     "data": {
      "image/png": "[encoded data removed]",
      "text/plain": [
       "<Figure size 432x288 with 1 Axes>"
      ]
     },
     "metadata": {
      "needs_background": "light"
     },
     "output_type": "display_data"
    }
   ],
   "source": [
    "sns.boxplot( y=datos[\"Carcavas\"] );\n",
    "plt.show()"
   ]
  },
  {
   "cell_type": "code",
   "execution_count": 31,
   "id": "dcc0f18d",
   "metadata": {
    "scrolled": true
   },
   "outputs": [
    {
     "data": {
      "image/png": "[encoded data removed]",
      "text/plain": [
       "<Figure size 432x288 with 1 Axes>"
      ]
     },
     "metadata": {
      "needs_background": "light"
     },
     "output_type": "display_data"
    }
   ],
   "source": [
    "sns.histplot(data=datos, x=\"Carcavas\")\n",
    "plt.show()"
   ]
  },
  {
   "cell_type": "markdown",
   "id": "7f0443a9",
   "metadata": {},
   "source": [
    "<hr>\n",
    "<h4>6. CURVATURA PERFIL (Continua)</h4>\n",
    "<p>Datos únicos: </p>"
   ]
  },
  {
   "cell_type": "code",
   "execution_count": 32,
   "id": "42446274",
   "metadata": {},
   "outputs": [
    {
     "name": "stdout",
     "output_type": "stream",
     "text": [
      "[-0.00213784  0.00157105  0.0056141  ...  0.00195211 -0.00080891\n",
      "  0.00040254]\n"
     ]
    }
   ],
   "source": [
    "print(datos.Curvatura_Perfil.unique())"
   ]
  },
  {
   "cell_type": "code",
   "execution_count": 33,
   "id": "e0b4e187",
   "metadata": {},
   "outputs": [
    {
     "name": "stdout",
     "output_type": "stream",
     "text": [
      "Máximo:  0.3966639041900635\n",
      "Mínimo:  -0.4562755525112152\n",
      "Media:  -5.424772541450245e-05\n",
      "STD:  0.015307355661837933\n"
     ]
    }
   ],
   "source": [
    "print(\"Máximo: \", max(datos.Curvatura_Perfil))\n",
    "print(\"Mínimo: \", min(datos.Curvatura_Perfil))\n",
    "print(\"Media: \", datos[\"Curvatura_Perfil\"].mean())\n",
    "print(\"STD: \", datos[\"Curvatura_Perfil\"].std())"
   ]
  },
  {
   "cell_type": "code",
   "execution_count": 34,
   "id": "4d940754",
   "metadata": {
    "scrolled": false
   },
   "outputs": [
    {
     "data": {
      "image/png": "[encoded data removed]",
      "text/plain": [
       "<Figure size 432x288 with 1 Axes>"
      ]
     },
     "metadata": {
      "needs_background": "light"
     },
     "output_type": "display_data"
    }
   ],
   "source": [
    "sns.boxplot( y=datos[\"Curvatura_Perfil\"] );\n",
    "plt.show()"
   ]
  },
  {
   "cell_type": "code",
   "execution_count": 35,
   "id": "76f100e6",
   "metadata": {
    "scrolled": false
   },
   "outputs": [
    {
     "data": {
      "image/png": "[encoded data removed]",
      "text/plain": [
       "<Figure size 432x288 with 1 Axes>"
      ]
     },
     "metadata": {
      "needs_background": "light"
     },
     "output_type": "display_data"
    }
   ],
   "source": [
    "sns.histplot(data=datos, x=\"Curvatura_Perfil\")\n",
    "plt.show()"
   ]
  },
  {
   "cell_type": "markdown",
   "id": "aa71f298",
   "metadata": {},
   "source": [
    "<hr>\n",
    "<h4>7. CURVATURA PLANA (Continua)</h4>\n",
    "<p>Datos únicos: </p>"
   ]
  },
  {
   "cell_type": "code",
   "execution_count": 36,
   "id": "6d1129af",
   "metadata": {},
   "outputs": [
    {
     "name": "stdout",
     "output_type": "stream",
     "text": [
      "[ 0.05263381 -0.01046133  0.07128567 ...  0.04097901 -0.02419176\n",
      "  0.01052479]\n"
     ]
    }
   ],
   "source": [
    "print(datos.Curvatura_Plana.unique())"
   ]
  },
  {
   "cell_type": "code",
   "execution_count": 37,
   "id": "f1a07775",
   "metadata": {},
   "outputs": [
    {
     "name": "stdout",
     "output_type": "stream",
     "text": [
      "Máximo:  158.94403076171875\n",
      "Mínimo:  -82.95050811767578\n",
      "Media:  -0.00011647003319594896\n",
      "STD:  0.25435482783495517\n"
     ]
    }
   ],
   "source": [
    "print(\"Máximo: \", max(datos.Curvatura_Plana))\n",
    "print(\"Mínimo: \", min(datos.Curvatura_Plana))\n",
    "print(\"Media: \", datos[\"Curvatura_Plana\"].mean())\n",
    "print(\"STD: \", datos[\"Curvatura_Plana\"].std())"
   ]
  },
  {
   "cell_type": "code",
   "execution_count": 38,
   "id": "45dc44c2",
   "metadata": {
    "scrolled": false
   },
   "outputs": [
    {
     "data": {
      "image/png": "[encoded data removed]",
      "text/plain": [
       "<Figure size 432x288 with 1 Axes>"
      ]
     },
     "metadata": {
      "needs_background": "light"
     },
     "output_type": "display_data"
    }
   ],
   "source": [
    "sns.boxplot( y=datos[\"Curvatura_Plana\"] );\n",
    "plt.show()"
   ]
  },
  {
   "cell_type": "markdown",
   "id": "768ad6dc",
   "metadata": {},
   "source": [
    "<hr>\n",
    "<h4>8. DISTANCIA CARRETERAS (Continua)</h4>\n",
    "<p>Datos únicos: </p>"
   ]
  },
  {
   "cell_type": "code",
   "execution_count": 39,
   "id": "17addaa3",
   "metadata": {
    "scrolled": true
   },
   "outputs": [
    {
     "name": "stdout",
     "output_type": "stream",
     "text": [
      "[-3.40282306e+38  8.56460754e+02  8.56767151e+02 ...  1.40858081e+03\n",
      "  1.41969189e+03  1.41263049e+03]\n"
     ]
    }
   ],
   "source": [
    "print(datos.Distancia_Carreteras.unique())"
   ]
  },
  {
   "cell_type": "code",
   "execution_count": 40,
   "id": "1ef0ce19",
   "metadata": {
    "scrolled": true
   },
   "outputs": [
    {
     "name": "stdout",
     "output_type": "stream",
     "text": [
      "Máximo:  1731.7982177734375\n",
      "Mínimo:  -3.4028230607370965e+38\n",
      "Media:  -9.663669571821033e+37\n",
      "STD:  1.5344417398553567e+38\n"
     ]
    }
   ],
   "source": [
    "print(\"Máximo: \", max(datos.Distancia_Carreteras))\n",
    "print(\"Mínimo: \", min(datos.Distancia_Carreteras))\n",
    "print(\"Media: \", datos[\"Distancia_Carreteras\"].mean())\n",
    "print(\"STD: \", datos[\"Distancia_Carreteras\"].std())"
   ]
  },
  {
   "cell_type": "code",
   "execution_count": 41,
   "id": "8983f288",
   "metadata": {
    "scrolled": true
   },
   "outputs": [
    {
     "data": {
      "image/png": "[encoded data removed]",
      "text/plain": [
       "<Figure size 432x288 with 1 Axes>"
      ]
     },
     "metadata": {
      "needs_background": "light"
     },
     "output_type": "display_data"
    }
   ],
   "source": [
    "sns.boxplot( y=datos[\"Distancia_Carreteras\"] );\n",
    "plt.show()"
   ]
  },
  {
   "cell_type": "code",
   "execution_count": 42,
   "id": "f797791f",
   "metadata": {
    "scrolled": false
   },
   "outputs": [
    {
     "data": {
      "image/png": "[encoded data removed]",
      "text/plain": [
       "<Figure size 432x288 with 1 Axes>"
      ]
     },
     "metadata": {
      "needs_background": "light"
     },
     "output_type": "display_data"
    }
   ],
   "source": [
    "sns.histplot(data=datos, x=\"Distancia_Carreteras\")\n",
    "plt.show()"
   ]
  },
  {
   "cell_type": "markdown",
   "id": "343cfdc8",
   "metadata": {},
   "source": [
    "<hr>\n",
    "<h4>9. FACTOR LS (Continua)</h4>\n",
    "<p>Datos únicos: </p>"
   ]
  },
  {
   "cell_type": "code",
   "execution_count": 43,
   "id": "b5967001",
   "metadata": {
    "scrolled": false
   },
   "outputs": [
    {
     "name": "stdout",
     "output_type": "stream",
     "text": [
      "[-3.40282306e+38  5.79263151e-01  3.52780163e-01 ...  1.38589334e+00\n",
      "  3.00449014e+00  2.35740876e+00]\n"
     ]
    }
   ],
   "source": [
    "print(datos.Factor_LS.unique())"
   ]
  },
  {
   "cell_type": "code",
   "execution_count": 44,
   "id": "9f5e0f96",
   "metadata": {
    "scrolled": true
   },
   "outputs": [
    {
     "name": "stdout",
     "output_type": "stream",
     "text": [
      "Máximo:  109282.828125\n",
      "Mínimo:  -3.4028230607370965e+38\n",
      "Media:  -1.3641173100482262e+38\n",
      "STD:  1.6676434655917078e+38\n"
     ]
    }
   ],
   "source": [
    "print(\"Máximo: \", max(datos.Factor_LS))\n",
    "print(\"Mínimo: \", min(datos.Factor_LS))\n",
    "print(\"Media: \", datos[\"Factor_LS\"].mean())\n",
    "print(\"STD: \", datos[\"Factor_LS\"].std())"
   ]
  },
  {
   "cell_type": "code",
   "execution_count": 45,
   "id": "527e302d",
   "metadata": {
    "scrolled": false
   },
   "outputs": [
    {
     "data": {
      "image/png": "[encoded data removed]",
      "text/plain": [
       "<Figure size 432x288 with 1 Axes>"
      ]
     },
     "metadata": {
      "needs_background": "light"
     },
     "output_type": "display_data"
    }
   ],
   "source": [
    "sns.boxplot( y=datos[\"Factor_LS\"] );\n",
    "plt.show()"
   ]
  },
  {
   "cell_type": "code",
   "execution_count": 46,
   "id": "535fd23a",
   "metadata": {
    "scrolled": true
   },
   "outputs": [
    {
     "data": {
      "image/png": "[encoded data removed]",
      "text/plain": [
       "<Figure size 432x288 with 1 Axes>"
      ]
     },
     "metadata": {
      "needs_background": "light"
     },
     "output_type": "display_data"
    }
   ],
   "source": [
    "sns.histplot(data=datos, x=\"Factor_LS\")\n",
    "plt.show()"
   ]
  },
  {
   "cell_type": "markdown",
   "id": "93a12159",
   "metadata": {},
   "source": [
    "<hr>\n",
    "<h4>10. GEOLOGIA (Categórica)</h4>\n",
    "<p>Datos únicos: </p>"
   ]
  },
  {
   "cell_type": "code",
   "execution_count": 47,
   "id": "ea60a2b5",
   "metadata": {
    "scrolled": true
   },
   "outputs": [
    {
     "name": "stdout",
     "output_type": "stream",
     "text": [
      "[0. 6. 4. 5. 2. 1. 3.]\n"
     ]
    }
   ],
   "source": [
    "print(datos.Geologia.unique())"
   ]
  },
  {
   "cell_type": "code",
   "execution_count": 48,
   "id": "a65bf52b",
   "metadata": {
    "scrolled": false
   },
   "outputs": [
    {
     "name": "stdout",
     "output_type": "stream",
     "text": [
      "Máximo:  6.0\n",
      "Mínimo:  0.0\n",
      "Media:  2.314115901032377\n",
      "STD:  1.9488749029330645\n"
     ]
    }
   ],
   "source": [
    "print(\"Máximo: \", max(datos.Geologia))\n",
    "print(\"Mínimo: \", min(datos.Geologia))\n",
    "print(\"Media: \", datos[\"Geologia\"].mean())\n",
    "print(\"STD: \", datos[\"Geologia\"].std())"
   ]
  },
  {
   "cell_type": "code",
   "execution_count": 49,
   "id": "5ccd7520",
   "metadata": {
    "scrolled": true
   },
   "outputs": [
    {
     "data": {
      "image/png": "[encoded data removed]",
      "text/plain": [
       "<Figure size 432x288 with 1 Axes>"
      ]
     },
     "metadata": {
      "needs_background": "light"
     },
     "output_type": "display_data"
    }
   ],
   "source": [
    "sns.boxplot( y=datos[\"Geologia\"] );\n",
    "plt.show()"
   ]
  },
  {
   "cell_type": "code",
   "execution_count": 50,
   "id": "660a108b",
   "metadata": {
    "scrolled": false
   },
   "outputs": [
    {
     "data": {
      "image/png": "[encoded data removed]",
      "text/plain": [
       "<Figure size 432x288 with 1 Axes>"
      ]
     },
     "metadata": {
      "needs_background": "light"
     },
     "output_type": "display_data"
    }
   ],
   "source": [
    "sns.histplot(data=datos, x=\"Geologia\")\n",
    "plt.show()"
   ]
  },
  {
   "cell_type": "markdown",
   "id": "83cd15f7",
   "metadata": {},
   "source": [
    "<hr>\n",
    "<h4>11. LIMOS (Continua)</h4>\n",
    "<p>Datos únicos: </p>"
   ]
  },
  {
   "cell_type": "code",
   "execution_count": 51,
   "id": "f8613a8e",
   "metadata": {
    "scrolled": true
   },
   "outputs": [
    {
     "name": "stdout",
     "output_type": "stream",
     "text": [
      "[-3.40282347e+38  3.76191635e+01  4.10841904e+01  3.79836769e+01\n",
      "  3.43661423e+01  4.54640923e+01  4.47291374e+01  4.70834999e+01\n",
      "  3.55218353e+01  4.71638489e+01  4.54711571e+01  4.68044815e+01\n",
      "  4.74939995e+01  4.63712730e+01  4.51063538e+01  4.45092392e+01\n",
      "  4.02177048e+01  3.94064064e+01  4.67910156e+01  4.73130112e+01\n",
      "  4.33864250e+01  4.92904053e+01  4.59133072e+01  4.41450043e+01\n",
      "  5.11781502e+01  4.78159409e+01  4.63690681e+01  4.32802925e+01\n",
      "  4.69624786e+01  4.86880798e+01  4.61251183e+01  4.36181297e+01\n",
      "  3.96826706e+01  4.32059250e+01  4.53049850e+01  4.87221451e+01\n",
      "  4.67976418e+01  4.62383766e+01  4.84478798e+01  4.45215683e+01\n",
      "  4.63616066e+01  4.41180153e+01  4.49945869e+01  4.40266113e+01\n",
      "  4.33488617e+01  4.71727905e+01  4.17485352e+01  4.42285309e+01\n",
      "  4.13373528e+01  4.65842819e+01  4.26362038e+01  4.52318268e+01\n",
      "  4.57485237e+01  4.61351242e+01  4.43825607e+01  4.74686584e+01\n",
      "  4.62410583e+01  4.68848381e+01  4.21426048e+01  4.06192856e+01\n",
      "  4.30496750e+01  4.27730865e+01  3.65056648e+01  4.37923126e+01\n",
      "  4.18166580e+01  4.76387863e+01  4.54471359e+01  4.64972000e+01\n",
      "  4.95751915e+01  4.47492065e+01  4.37588196e+01  4.28066673e+01\n",
      "  4.33279915e+01  4.17281494e+01  4.17382469e+01  4.55933151e+01\n",
      "  4.35211678e+01  4.26853485e+01  4.46451035e+01  4.64394379e+01\n",
      "  4.56933556e+01  4.92476311e+01  4.50749626e+01  4.77312546e+01\n",
      "  4.87540474e+01  4.70549278e+01  4.96792068e+01  4.30811653e+01\n",
      "  4.57748718e+01  4.37778091e+01  4.05004501e+01  4.65359688e+01\n",
      "  4.06572342e+01  4.27437630e+01  4.00716400e+01  4.19928246e+01\n",
      "  4.56574020e+01  4.74756393e+01  4.52111473e+01  4.62089577e+01\n",
      "  4.55503502e+01  4.33931084e+01  4.68584099e+01  4.09158249e+01\n",
      "  4.11503143e+01  3.97725182e+01  4.37211075e+01  4.45142593e+01\n",
      "  4.62064133e+01  4.58940010e+01  4.76459846e+01  4.52286911e+01\n",
      "  4.43314972e+01  4.25806122e+01  4.68766556e+01  5.02686195e+01\n",
      "  4.51696167e+01  4.23890457e+01  4.67148666e+01  4.03465004e+01\n",
      "  3.83926659e+01  4.09126625e+01  4.56412354e+01  4.39180756e+01\n",
      "  4.52854691e+01  4.54619408e+01  4.59611702e+01  4.52561493e+01\n",
      "  4.77177811e+01  4.62177048e+01  4.43408737e+01  4.13512688e+01\n",
      "  4.03429260e+01  4.31691246e+01  4.33522148e+01  4.60017815e+01\n",
      "  4.50054665e+01  4.59692268e+01  4.79838486e+01  4.96419067e+01\n",
      "  4.51689529e+01  3.75818939e+01  4.02033005e+01  3.94526253e+01\n",
      "  4.15060844e+01  4.68308487e+01  4.41189690e+01  4.30203552e+01\n",
      "  4.56803741e+01  4.63750610e+01  4.49012680e+01  4.19767761e+01\n",
      "  4.37258377e+01  3.90498123e+01  4.02799149e+01  4.27525177e+01\n",
      "  4.20442085e+01  4.47118454e+01  4.48660164e+01  4.58046989e+01\n",
      "  4.94105415e+01  4.37798195e+01  4.62686882e+01  4.16932793e+01\n",
      "  3.76217461e+01  4.25595284e+01  4.12689629e+01  4.18663330e+01\n",
      "  4.13223724e+01  4.52264633e+01  4.47344971e+01  4.61628761e+01\n",
      "  4.49324455e+01  4.01855545e+01  3.88976364e+01  4.36614838e+01\n",
      "  3.75920639e+01  3.93529243e+01  4.54733963e+01  4.14603424e+01\n",
      "  4.35202065e+01  4.15341835e+01  4.07237320e+01  4.03282928e+01\n",
      "  4.58293343e+01  4.49782257e+01  4.68347092e+01  4.81540871e+01\n",
      "  4.65918846e+01  4.66274185e+01  4.20095940e+01  4.47729301e+01\n",
      "  4.43751030e+01  4.87359200e+01  4.73046913e+01  4.33105698e+01\n",
      "  4.28513336e+01  3.86070518e+01  3.99448204e+01  4.59779930e+01\n",
      "  4.30216789e+01  4.56873474e+01  4.46281395e+01  4.47716789e+01\n",
      "  4.22507591e+01  4.36010704e+01  4.49539833e+01  4.36754189e+01\n",
      "  4.21959763e+01  3.70312958e+01  4.38501778e+01  4.33554955e+01\n",
      "  4.28139229e+01]\n"
     ]
    }
   ],
   "source": [
    "print(datos.Limos.unique())"
   ]
  },
  {
   "cell_type": "code",
   "execution_count": 52,
   "id": "d1764df1",
   "metadata": {
    "scrolled": false
   },
   "outputs": [
    {
     "name": "stdout",
     "output_type": "stream",
     "text": [
      "Máximo:  51.17815017700195\n",
      "Mínimo:  -3.4028234663852886e+38\n",
      "Media:  -1.3578388982650603e+38\n",
      "STD:  1.6663614598712292e+38\n"
     ]
    }
   ],
   "source": [
    "print(\"Máximo: \", max(datos.Limos))\n",
    "print(\"Mínimo: \", min(datos.Limos))\n",
    "print(\"Media: \", datos[\"Limos\"].mean())\n",
    "print(\"STD: \", datos[\"Limos\"].std())"
   ]
  },
  {
   "cell_type": "code",
   "execution_count": 53,
   "id": "23093c90",
   "metadata": {
    "scrolled": true
   },
   "outputs": [
    {
     "data": {
      "image/png": "[encoded data removed]",
      "text/plain": [
       "<Figure size 432x288 with 1 Axes>"
      ]
     },
     "metadata": {
      "needs_background": "light"
     },
     "output_type": "display_data"
    }
   ],
   "source": [
    "sns.boxplot( y=datos[\"Limos\"] );\n",
    "plt.show()"
   ]
  },
  {
   "cell_type": "code",
   "execution_count": 54,
   "id": "c13009fb",
   "metadata": {
    "scrolled": false
   },
   "outputs": [
    {
     "data": {
      "image/png": "[encoded data removed]",
      "text/plain": [
       "<Figure size 432x288 with 1 Axes>"
      ]
     },
     "metadata": {
      "needs_background": "light"
     },
     "output_type": "display_data"
    }
   ],
   "source": [
    "sns.histplot(data=datos, x=\"Limos\")\n",
    "plt.show()"
   ]
  },
  {
   "cell_type": "markdown",
   "id": "54dd7d46",
   "metadata": {},
   "source": [
    "<hr>\n",
    "<h4>12. ORIENTACIONES (Categórica)</h4>\n",
    "<p>Datos únicos: </p>"
   ]
  },
  {
   "cell_type": "code",
   "execution_count": 55,
   "id": "81f79b9a",
   "metadata": {
    "scrolled": true
   },
   "outputs": [
    {
     "name": "stdout",
     "output_type": "stream",
     "text": [
      "[4. 5. 6. 3. 7. 8. 2. 1. 0.]\n"
     ]
    }
   ],
   "source": [
    "print(datos.Orientaciones.unique())"
   ]
  },
  {
   "cell_type": "code",
   "execution_count": 56,
   "id": "aef4030b",
   "metadata": {
    "scrolled": false
   },
   "outputs": [
    {
     "name": "stdout",
     "output_type": "stream",
     "text": [
      "Máximo:  8.0\n",
      "Mínimo:  0.0\n",
      "Media:  5.18578131626288\n",
      "STD:  2.302248423014548\n"
     ]
    }
   ],
   "source": [
    "print(\"Máximo: \", max(datos.Orientaciones))\n",
    "print(\"Mínimo: \", min(datos.Orientaciones))\n",
    "print(\"Media: \", datos[\"Orientaciones\"].mean())\n",
    "print(\"STD: \", datos[\"Orientaciones\"].std())"
   ]
  },
  {
   "cell_type": "code",
   "execution_count": 57,
   "id": "548e82d4",
   "metadata": {
    "scrolled": true
   },
   "outputs": [
    {
     "data": {
      "image/png": "[encoded data removed]",
      "text/plain": [
       "<Figure size 432x288 with 1 Axes>"
      ]
     },
     "metadata": {
      "needs_background": "light"
     },
     "output_type": "display_data"
    }
   ],
   "source": [
    "sns.boxplot( y=datos[\"Orientaciones\"] );\n",
    "plt.show()"
   ]
  },
  {
   "cell_type": "code",
   "execution_count": 58,
   "id": "2c24cd73",
   "metadata": {
    "scrolled": true
   },
   "outputs": [
    {
     "data": {
      "image/png": "[encoded data removed]",
      "text/plain": [
       "<Figure size 432x288 with 1 Axes>"
      ]
     },
     "metadata": {
      "needs_background": "light"
     },
     "output_type": "display_data"
    }
   ],
   "source": [
    "sns.histplot(data=datos, x=\"Orientaciones\")\n",
    "plt.show()"
   ]
  },
  {
   "cell_type": "markdown",
   "id": "06b07160",
   "metadata": {},
   "source": [
    "<hr>\n",
    "<h4>13. OVERLAND FLOW DISTANCE (Continua)</h4>\n",
    "<p>Datos únicos: </p>"
   ]
  },
  {
   "cell_type": "code",
   "execution_count": 59,
   "id": "2ab760c9",
   "metadata": {
    "scrolled": false
   },
   "outputs": [
    {
     "name": "stdout",
     "output_type": "stream",
     "text": [
      "[1552.13659668 1544.10693359 1543.26257324 ... 1074.64135742 1079.18188477\n",
      " 1084.32702637]\n"
     ]
    }
   ],
   "source": [
    "print(datos.Overland_Flow_Distance.unique())"
   ]
  },
  {
   "cell_type": "code",
   "execution_count": 60,
   "id": "1d065fcb",
   "metadata": {
    "scrolled": true
   },
   "outputs": [
    {
     "name": "stdout",
     "output_type": "stream",
     "text": [
      "Máximo:  10661.609375\n",
      "Mínimo:  0.0\n",
      "Media:  2709.3435152745806\n",
      "STD:  2206.8800229829512\n"
     ]
    }
   ],
   "source": [
    "print(\"Máximo: \", max(datos.Overland_Flow_Distance))\n",
    "print(\"Mínimo: \", min(datos.Overland_Flow_Distance))\n",
    "print(\"Media: \", datos[\"Overland_Flow_Distance\"].mean())\n",
    "print(\"STD: \", datos[\"Overland_Flow_Distance\"].std())"
   ]
  },
  {
   "cell_type": "code",
   "execution_count": 61,
   "id": "512f7f81",
   "metadata": {
    "scrolled": true
   },
   "outputs": [
    {
     "data": {
      "image/png": "[encoded data removed]",
      "text/plain": [
       "<Figure size 432x288 with 1 Axes>"
      ]
     },
     "metadata": {
      "needs_background": "light"
     },
     "output_type": "display_data"
    }
   ],
   "source": [
    "sns.boxplot( y=datos[\"Overland_Flow_Distance\"] );\n",
    "plt.show()"
   ]
  },
  {
   "cell_type": "code",
   "execution_count": 62,
   "id": "0ab18b81",
   "metadata": {
    "scrolled": false
   },
   "outputs": [
    {
     "data": {
      "image/png": "[encoded data removed]",
      "text/plain": [
       "<Figure size 432x288 with 1 Axes>"
      ]
     },
     "metadata": {
      "needs_background": "light"
     },
     "output_type": "display_data"
    }
   ],
   "source": [
    "sns.histplot(data=datos, x=\"Overland_Flow_Distance\")\n",
    "plt.show()"
   ]
  },
  {
   "cell_type": "markdown",
   "id": "d94748c9",
   "metadata": {},
   "source": [
    "<hr>\n",
    "<h4>14. PENDIENTE (Continua)</h4>\n",
    "<p>Datos únicos: </p>"
   ]
  },
  {
   "cell_type": "code",
   "execution_count": 63,
   "id": "c718276b",
   "metadata": {
    "scrolled": true
   },
   "outputs": [
    {
     "name": "stdout",
     "output_type": "stream",
     "text": [
      "[ 4.06233358  4.23654413  4.6462841  ... 14.47701836 15.00549793\n",
      " 16.23116684]\n"
     ]
    }
   ],
   "source": [
    "print(datos.Pendiente.unique())"
   ]
  },
  {
   "cell_type": "code",
   "execution_count": 64,
   "id": "11e123c3",
   "metadata": {
    "scrolled": false
   },
   "outputs": [
    {
     "name": "stdout",
     "output_type": "stream",
     "text": [
      "Máximo:  56.52096939086914\n",
      "Mínimo:  -9999.0\n",
      "Media:  -2.2133424241535224\n",
      "STD:  342.3861554275828\n"
     ]
    }
   ],
   "source": [
    "print(\"Máximo: \", max(datos.Pendiente))\n",
    "print(\"Mínimo: \", min(datos.Pendiente))\n",
    "print(\"Media: \", datos[\"Pendiente\"].mean())\n",
    "print(\"STD: \", datos[\"Pendiente\"].std())"
   ]
  },
  {
   "cell_type": "code",
   "execution_count": 65,
   "id": "d52354d7",
   "metadata": {
    "scrolled": false
   },
   "outputs": [
    {
     "data": {
      "image/png": "[encoded data removed]",
      "text/plain": [
       "<Figure size 432x288 with 1 Axes>"
      ]
     },
     "metadata": {
      "needs_background": "light"
     },
     "output_type": "display_data"
    }
   ],
   "source": [
    "sns.boxplot( y=datos[\"Pendiente\"] );\n",
    "plt.show()"
   ]
  },
  {
   "cell_type": "markdown",
   "id": "932dc114",
   "metadata": {},
   "source": [
    "<hr>\n",
    "<h4>15. STREAM POWER INDEX (Continua)</h4>\n",
    "<p>Datos únicos: </p>"
   ]
  },
  {
   "cell_type": "code",
   "execution_count": 66,
   "id": "859feb7f",
   "metadata": {
    "scrolled": false
   },
   "outputs": [
    {
     "name": "stdout",
     "output_type": "stream",
     "text": [
      "[  40.78681946   71.3588028  -738.56268311 ... 1168.79064941 -321.52416992\n",
      " -137.0712738 ]\n"
     ]
    }
   ],
   "source": [
    "print(datos.Stream_Power_Index.unique())"
   ]
  },
  {
   "cell_type": "code",
   "execution_count": 67,
   "id": "407e20c7",
   "metadata": {
    "scrolled": false
   },
   "outputs": [
    {
     "name": "stdout",
     "output_type": "stream",
     "text": [
      "Máximo:  2013961472.0\n",
      "Mínimo:  -40752812032.0\n",
      "Media:  -13636.347361253693\n",
      "STD:  23637509.868251957\n"
     ]
    }
   ],
   "source": [
    "print(\"Máximo: \", max(datos.Stream_Power_Index))\n",
    "print(\"Mínimo: \", min(datos.Stream_Power_Index))\n",
    "print(\"Media: \", datos[\"Stream_Power_Index\"].mean())\n",
    "print(\"STD: \", datos[\"Stream_Power_Index\"].std())"
   ]
  },
  {
   "cell_type": "code",
   "execution_count": 68,
   "id": "1f51ac24",
   "metadata": {
    "scrolled": false
   },
   "outputs": [
    {
     "data": {
      "image/png": "[encoded data removed]",
      "text/plain": [
       "<Figure size 432x288 with 1 Axes>"
      ]
     },
     "metadata": {
      "needs_background": "light"
     },
     "output_type": "display_data"
    }
   ],
   "source": [
    "sns.boxplot( y=datos[\"Stream_Power_Index\"] );\n",
    "plt.show()"
   ]
  },
  {
   "cell_type": "markdown",
   "id": "f9718614",
   "metadata": {},
   "source": [
    "<hr>\n",
    "<h4>16. TOPOGRAPHIC POSITION INDEX (Continua)</h4>\n",
    "<p>Datos únicos: </p>"
   ]
  },
  {
   "cell_type": "code",
   "execution_count": 69,
   "id": "c0f876b0",
   "metadata": {
    "scrolled": true
   },
   "outputs": [
    {
     "name": "stdout",
     "output_type": "stream",
     "text": [
      "[ 4.19487143  4.15555239  4.11815596 ... -4.49704075 -4.2816\n",
      " -4.13515806]\n"
     ]
    }
   ],
   "source": [
    "print(datos.Topographic_Position_Index.unique())"
   ]
  },
  {
   "cell_type": "code",
   "execution_count": 70,
   "id": "3823262d",
   "metadata": {
    "scrolled": false
   },
   "outputs": [
    {
     "name": "stdout",
     "output_type": "stream",
     "text": [
      "Máximo:  27.74217414855957\n",
      "Mínimo:  -26.37703514099121\n",
      "Media:  0.002014578769190393\n",
      "STD:  3.068650755611181\n"
     ]
    }
   ],
   "source": [
    "print(\"Máximo: \", max(datos.Topographic_Position_Index))\n",
    "print(\"Mínimo: \", min(datos.Topographic_Position_Index))\n",
    "print(\"Media: \", datos[\"Topographic_Position_Index\"].mean())\n",
    "print(\"STD: \", datos[\"Topographic_Position_Index\"].std())"
   ]
  },
  {
   "cell_type": "code",
   "execution_count": 71,
   "id": "93e539b7",
   "metadata": {
    "scrolled": false
   },
   "outputs": [
    {
     "data": {
      "image/png": "[encoded data removed]",
      "text/plain": [
       "<Figure size 432x288 with 1 Axes>"
      ]
     },
     "metadata": {
      "needs_background": "light"
     },
     "output_type": "display_data"
    }
   ],
   "source": [
    "sns.boxplot( y=datos[\"Topographic_Position_Index\"] );\n",
    "plt.show()"
   ]
  },
  {
   "cell_type": "code",
   "execution_count": 72,
   "id": "be92d20a",
   "metadata": {
    "scrolled": false
   },
   "outputs": [
    {
     "data": {
      "image/png": "[encoded data removed]",
      "text/plain": [
       "<Figure size 432x288 with 1 Axes>"
      ]
     },
     "metadata": {
      "needs_background": "light"
     },
     "output_type": "display_data"
    }
   ],
   "source": [
    "sns.histplot(data=datos, x=\"Topographic_Position_Index\")\n",
    "plt.show()"
   ]
  },
  {
   "cell_type": "markdown",
   "id": "959f528b",
   "metadata": {},
   "source": [
    "<hr>\n",
    "<h4>17. TOPOGRAPHIC WETNESS INDEX (Continua)</h4>\n",
    "<p>Datos únicos: </p>"
   ]
  },
  {
   "cell_type": "code",
   "execution_count": 73,
   "id": "2877bb25",
   "metadata": {
    "scrolled": true
   },
   "outputs": [
    {
     "name": "stdout",
     "output_type": "stream",
     "text": [
      "[ 4.15572548  3.77308726 10.86683655 ...  4.74034357 12.16208267\n",
      " 11.16511822]\n"
     ]
    }
   ],
   "source": [
    "print(datos.Topographic_Wetness_Index.unique())"
   ]
  },
  {
   "cell_type": "code",
   "execution_count": 74,
   "id": "5e0ce563",
   "metadata": {
    "scrolled": false
   },
   "outputs": [
    {
     "name": "stdout",
     "output_type": "stream",
     "text": [
      "Máximo:  20.535043716430664\n",
      "Mínimo:  -10.7699556350708\n",
      "Media:  9.59407034805544\n",
      "STD:  3.8528257920284448\n"
     ]
    }
   ],
   "source": [
    "print(\"Máximo: \", max(datos.Topographic_Wetness_Index))\n",
    "print(\"Mínimo: \", min(datos.Topographic_Wetness_Index))\n",
    "print(\"Media: \", datos[\"Topographic_Wetness_Index\"].mean())\n",
    "print(\"STD: \", datos[\"Topographic_Wetness_Index\"].std())"
   ]
  },
  {
   "cell_type": "code",
   "execution_count": 75,
   "id": "118f3f5d",
   "metadata": {
    "scrolled": false
   },
   "outputs": [
    {
     "data": {
      "image/png": "[encoded data removed]",
      "text/plain": [
       "<Figure size 432x288 with 1 Axes>"
      ]
     },
     "metadata": {
      "needs_background": "light"
     },
     "output_type": "display_data"
    }
   ],
   "source": [
    "sns.boxplot( y=datos[\"Topographic_Wetness_Index\"] );\n",
    "plt.show()"
   ]
  },
  {
   "cell_type": "code",
   "execution_count": 76,
   "id": "ca74f714",
   "metadata": {
    "scrolled": false
   },
   "outputs": [
    {
     "data": {
      "image/png": "[encoded data removed]",
      "text/plain": [
       "<Figure size 432x288 with 1 Axes>"
      ]
     },
     "metadata": {
      "needs_background": "light"
     },
     "output_type": "display_data"
    }
   ],
   "source": [
    "sns.histplot(data=datos, x=\"Topographic_Wetness_Index\")\n",
    "plt.show()"
   ]
  },
  {
   "cell_type": "markdown",
   "id": "b0e29f47",
   "metadata": {},
   "source": [
    "<hr>\n",
    "<h4>18. UNIDADES EDÁFICAS (Categórica)</h4>\n",
    "<p>Datos únicos: </p>"
   ]
  },
  {
   "cell_type": "code",
   "execution_count": 77,
   "id": "2162847c",
   "metadata": {
    "scrolled": false
   },
   "outputs": [
    {
     "name": "stdout",
     "output_type": "stream",
     "text": [
      "[-9999.    22.    48.    44.    23.]\n"
     ]
    }
   ],
   "source": [
    "print(datos.Unidades_Edaficas.unique())"
   ]
  },
  {
   "cell_type": "code",
   "execution_count": 78,
   "id": "f3da5d35",
   "metadata": {
    "scrolled": true
   },
   "outputs": [
    {
     "name": "stdout",
     "output_type": "stream",
     "text": [
      "Máximo:  48.0\n",
      "Mínimo:  -9999.0\n",
      "Media:  -3964.5030514341925\n",
      "STD:  4918.840018798187\n"
     ]
    }
   ],
   "source": [
    "print(\"Máximo: \", max(datos.Unidades_Edaficas))\n",
    "print(\"Mínimo: \", min(datos.Unidades_Edaficas))\n",
    "print(\"Media: \", datos[\"Unidades_Edaficas\"].mean())\n",
    "print(\"STD: \", datos[\"Unidades_Edaficas\"].std())"
   ]
  },
  {
   "cell_type": "code",
   "execution_count": 79,
   "id": "d0346c4c",
   "metadata": {
    "scrolled": true
   },
   "outputs": [
    {
     "data": {
      "image/png": "[encoded data removed]",
      "text/plain": [
       "<Figure size 432x288 with 1 Axes>"
      ]
     },
     "metadata": {
      "needs_background": "light"
     },
     "output_type": "display_data"
    }
   ],
   "source": [
    "sns.boxplot( y=datos[\"Unidades_Edaficas\"] );\n",
    "plt.show()"
   ]
  },
  {
   "cell_type": "code",
   "execution_count": 80,
   "id": "4a6080dc",
   "metadata": {
    "scrolled": true
   },
   "outputs": [
    {
     "data": {
      "image/png": "[encoded data removed]",
      "text/plain": [
       "<Figure size 432x288 with 1 Axes>"
      ]
     },
     "metadata": {
      "needs_background": "light"
     },
     "output_type": "display_data"
    }
   ],
   "source": [
    "sns.histplot(data=datos, x=\"Unidades_Edaficas\")\n",
    "plt.show()"
   ]
  },
  {
   "cell_type": "markdown",
   "id": "f98e84b5",
   "metadata": {},
   "source": [
    "<hr>\n",
    "<h4>19. USOS DEL SUELO (Categórica)</h4>\n",
    "<p>Datos únicos: </p>"
   ]
  },
  {
   "cell_type": "code",
   "execution_count": 81,
   "id": "03702ed0",
   "metadata": {
    "scrolled": false
   },
   "outputs": [
    {
     "name": "stdout",
     "output_type": "stream",
     "text": [
      "[15.  3.  4.  2.  5.  1.]\n"
     ]
    }
   ],
   "source": [
    "print(datos.Usos_Del_Suelo.unique())"
   ]
  },
  {
   "cell_type": "code",
   "execution_count": 82,
   "id": "07f9efaa",
   "metadata": {
    "scrolled": true
   },
   "outputs": [
    {
     "name": "stdout",
     "output_type": "stream",
     "text": [
      "Máximo:  15.0\n",
      "Mínimo:  1.0\n",
      "Media:  7.783762790136978\n",
      "STD:  5.886714852245514\n"
     ]
    }
   ],
   "source": [
    "print(\"Máximo: \", max(datos.Usos_Del_Suelo))\n",
    "print(\"Mínimo: \", min(datos.Usos_Del_Suelo))\n",
    "print(\"Media: \", datos[\"Usos_Del_Suelo\"].mean())\n",
    "print(\"STD: \", datos[\"Usos_Del_Suelo\"].std())"
   ]
  },
  {
   "cell_type": "code",
   "execution_count": 83,
   "id": "9b6b99e3",
   "metadata": {
    "scrolled": true
   },
   "outputs": [
    {
     "data": {
      "image/png": "[encoded data removed]",
      "text/plain": [
       "<Figure size 432x288 with 1 Axes>"
      ]
     },
     "metadata": {
      "needs_background": "light"
     },
     "output_type": "display_data"
    }
   ],
   "source": [
    "sns.boxplot( y=datos[\"Usos_Del_Suelo\"] );\n",
    "plt.show()"
   ]
  },
  {
   "cell_type": "code",
   "execution_count": 84,
   "id": "3d8cb7f0",
   "metadata": {
    "scrolled": false
   },
   "outputs": [
    {
     "data": {
      "image/png": "[encoded data removed]",
      "text/plain": [
       "<Figure size 432x288 with 1 Axes>"
      ]
     },
     "metadata": {
      "needs_background": "light"
     },
     "output_type": "display_data"
    }
   ],
   "source": [
    "sns.histplot(data=datos, x=\"Usos_Del_Suelo\")\n",
    "plt.show()"
   ]
  }
 ],
 "metadata": {
  "kernelspec": {
   "display_name": "Python 3 (ipykernel)",
   "language": "python",
   "name": "python3"
  },
  "language_info": {
   "codemirror_mode": {
    "name": "ipython",
    "version": 3
   },
   "file_extension": ".py",
   "mimetype": "text/x-python",
   "name": "python",
   "nbconvert_exporter": "python",
   "pygments_lexer": "ipython3",
   "version": "3.8.11"
  }
 },
 "nbformat": 4,
 "nbformat_minor": 5
}
